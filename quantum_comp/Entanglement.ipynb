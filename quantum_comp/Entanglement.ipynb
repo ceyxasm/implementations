{
 "cells": [
  {
   "cell_type": "code",
   "execution_count": 1,
   "id": "38aeb0cb-3104-4792-ad4d-e43529cb83b5",
   "metadata": {},
   "outputs": [],
   "source": [
    "#importing necessary libraries\n",
    "\n",
    "from qiskit import Aer, execute, QuantumCircuit, IBMQ\n",
    "from qiskit.compiler import transpile, assemble\n",
    "from qiskit.tools.jupyter import *\n",
    "from qiskit.visualization import *\n",
    "from ibm_quantum_widgets import *\n",
    "\n",
    "provider=IBMQ.load_account()"
   ]
  },
  {
   "cell_type": "code",
   "execution_count": 2,
   "id": "b612abb2-23f0-436e-a001-fe9dcd2b434e",
   "metadata": {},
   "outputs": [
    {
     "data": {
      "image/png": "[encoded data removed]",
      "text/plain": [
       "<Figure size 327.252x204.68 with 1 Axes>"
      ]
     },
     "execution_count": 2,
     "metadata": {},
     "output_type": "execute_result"
    }
   ],
   "source": [
    "qc=QuantumCircuit(2,2)\n",
    "qc.h(0)\n",
    "qc.cx(0,1)\n",
    "qc.measure(range(2), range(2))\n",
    "qc.draw()"
   ]
  },
  {
   "cell_type": "code",
   "execution_count": 3,
   "id": "40a66230-377a-420b-8957-0b168ba18276",
   "metadata": {},
   "outputs": [],
   "source": [
    "backend= Aer.get_backend('qasm_simulator') \n",
    "job_simulator= execute(qc, backend, shots= 1024)"
   ]
  },
  {
   "cell_type": "code",
   "execution_count": 4,
   "id": "0f69e45c-c9df-456f-a4c3-38c03a4c8435",
   "metadata": {},
   "outputs": [
    {
     "name": "stdout",
     "output_type": "stream",
     "text": [
      "{'00': 508, '11': 516}\n"
     ]
    },
    {
     "data": {
      "image/png": "[encoded data removed]",
      "text/plain": [
       "<Figure size 504x360 with 1 Axes>"
      ]
     },
     "execution_count": 4,
     "metadata": {},
     "output_type": "execute_result"
    }
   ],
   "source": [
    "results_simulator= job_simulator.result()\n",
    "count= results_simulator.get_counts(qc)\n",
    "print(count)\n",
    "plot_histogram(count)"
   ]
  },
  {
   "cell_type": "code",
   "execution_count": 5,
   "id": "9f01dd5a-3cea-4b5a-a55b-b1b4819dde8a",
   "metadata": {},
   "outputs": [
    {
     "data": {
      "text/plain": [
       "[<IBMQSimulator('ibmq_qasm_simulator') from IBMQ(hub='ibm-q', group='open', project='main')>,\n",
       " <IBMQBackend('ibmq_armonk') from IBMQ(hub='ibm-q', group='open', project='main')>,\n",
       " <IBMQBackend('ibmq_santiago') from IBMQ(hub='ibm-q', group='open', project='main')>,\n",
       " <IBMQBackend('ibmq_bogota') from IBMQ(hub='ibm-q', group='open', project='main')>,\n",
       " <IBMQBackend('ibmq_lima') from IBMQ(hub='ibm-q', group='open', project='main')>,\n",
       " <IBMQBackend('ibmq_belem') from IBMQ(hub='ibm-q', group='open', project='main')>,\n",
       " <IBMQBackend('ibmq_quito') from IBMQ(hub='ibm-q', group='open', project='main')>,\n",
       " <IBMQSimulator('simulator_statevector') from IBMQ(hub='ibm-q', group='open', project='main')>,\n",
       " <IBMQSimulator('simulator_mps') from IBMQ(hub='ibm-q', group='open', project='main')>,\n",
       " <IBMQSimulator('simulator_extended_stabilizer') from IBMQ(hub='ibm-q', group='open', project='main')>,\n",
       " <IBMQSimulator('simulator_stabilizer') from IBMQ(hub='ibm-q', group='open', project='main')>,\n",
       " <IBMQBackend('ibmq_manila') from IBMQ(hub='ibm-q', group='open', project='main')>]"
      ]
     },
     "execution_count": 5,
     "metadata": {},
     "output_type": "execute_result"
    }
   ],
   "source": [
    "provider.backends()"
   ]
  },
  {
   "cell_type": "code",
   "execution_count": 6,
   "id": "1cfd5f7c-fe19-4a36-b938-d32ee254db5d",
   "metadata": {},
   "outputs": [
    {
     "name": "stdout",
     "output_type": "stream",
     "text": [
      "{'00': 450, '01': 46, '10': 18, '11': 510}\n"
     ]
    },
    {
     "data": {
      "image/png": "[encoded data removed]",
      "text/plain": [
       "<Figure size 504x360 with 1 Axes>"
      ]
     },
     "execution_count": 6,
     "metadata": {},
     "output_type": "execute_result"
    }
   ],
   "source": [
    "backend= provider.get_backend('ibmq_lima')\n",
    "job_simulator= execute(qc, backend, shots= 1024)\n",
    "results_simulator= job_simulator.result()\n",
    "count= results_simulator.get_counts(qc)\n",
    "print(count)\n",
    "plot_histogram(count)"
   ]
  }
 ],
 "metadata": {
  "kernelspec": {
   "display_name": "Qiskit v0.33.1 (ipykernel)",
   "language": "python",
   "name": "python3"
  },
  "language_info": {
   "codemirror_mode": {
    "name": "ipython",
    "version": 3
   },
   "file_extension": ".py",
   "mimetype": "text/x-python",
   "name": "python",
   "nbconvert_exporter": "python",
   "pygments_lexer": "ipython3",
   "version": "3.8.10"
  },
  "widgets": {
   "application/vnd.jupyter.widget-state+json": {
    "state": {
     "0c3f7a2852414fbb938db6b02d97675f": {
      "model_module": "@jupyter-widgets/controls",
      "model_module_version": "1.5.0",
      "model_name": "GridBoxModel",
      "state": {
       "children": [
        "IPY_MODEL_305fed92ca15424bba016634bd0c12c8"
       ],
       "layout": "IPY_MODEL_80058dbfa3b3491d884576b5607babf7"
      }
     },
     "180b518875fb467a88c7c7fcb7b98268": {
      "model_module": "@jupyter-widgets/base",
      "model_module_version": "1.2.0",
      "model_name": "LayoutModel",
      "state": {
       "width": "190px"
      }
     },
     "215046e631544122b11d7742d610fcab": {
      "model_module": "@jupyter-widgets/controls",
      "model_module_version": "1.5.0",
      "model_name": "DescriptionStyleModel",
      "state": {
       "description_width": ""
      }
     },
     "297f55bd276c42de8e1d77dab98b6e19": {
      "model_module": "@jupyter-widgets/controls",
      "model_module_version": "1.5.0",
      "model_name": "ButtonModel",
      "state": {
       "icon": "close",
       "layout": "IPY_MODEL_c5cd5514dcf1481c8f92f426855d716a",
       "style": "IPY_MODEL_5060168d0e38444db25baf8b55da9a25"
      }
     },
     "2d4cbbc2981b4d0faf59d74a0fb0b678": {
      "model_module": "@jupyter-widgets/base",
      "model_module_version": "1.2.0",
      "model_name": "LayoutModel",
      "state": {
       "grid_area": "right",
       "padding": "0px 0px 0px 0px",
       "width": "70px"
      }
     },
     "305fed92ca15424bba016634bd0c12c8": {
      "model_module": "@jupyter-widgets/controls",
      "model_module_version": "1.5.0",
      "model_name": "ButtonModel",
      "state": {
       "button_style": "primary",
       "description": "Clear",
       "layout": "IPY_MODEL_2d4cbbc2981b4d0faf59d74a0fb0b678",
       "style": "IPY_MODEL_dd2db875be1c4e5baf37938a1cb8dd48"
      }
     },
     "35c0ecf284a84a1192297345c608bcc0": {
      "model_module": "@jupyter-widgets/controls",
      "model_module_version": "1.5.0",
      "model_name": "HTMLModel",
      "state": {
       "layout": "IPY_MODEL_525ee2547b084dc0ab0618cfc6f4e90b",
       "style": "IPY_MODEL_e725c13fc04844638c07f778e89f2fbb",
       "value": "<h5>Queue</h5>"
      }
     },
     "3d72ec54767e4532aadc389c68861793": {
      "model_module": "@jupyter-widgets/base",
      "model_module_version": "1.2.0",
      "model_name": "LayoutModel",
      "state": {
       "width": "145px"
      }
     },
     "42ff3e55678d4a98852c846c99eab3c0": {
      "model_module": "@jupyter-widgets/controls",
      "model_module_version": "1.5.0",
      "model_name": "HTMLModel",
      "state": {
       "layout": "IPY_MODEL_4cdd0e083c9b4427a8b9f51d532fa007",
       "style": "IPY_MODEL_afa3b59da89e44b2aec5cb85223abfe2",
       "value": "-"
      }
     },
     "445d564b96e14e6681d3774fe9ab7545": {
      "model_module": "@jupyter-widgets/controls",
      "model_module_version": "1.5.0",
      "model_name": "HTMLModel",
      "state": {
       "layout": "IPY_MODEL_5758edcced1d49e08b93fba5c79aae83",
       "style": "IPY_MODEL_9fcdd255fbd3468d9d759b14d7567393",
       "value": "<h5>Status</h5>"
      }
     },
     "47026924953a444e98fd9d890ffe607a": {
      "model_module": "@jupyter-widgets/base",
      "model_module_version": "1.2.0",
      "model_name": "LayoutModel",
      "state": {
       "width": "95px"
      }
     },
     "4cdd0e083c9b4427a8b9f51d532fa007": {
      "model_module": "@jupyter-widgets/base",
      "model_module_version": "1.2.0",
      "model_name": "LayoutModel",
      "state": {
       "width": "70px"
      }
     },
     "5060168d0e38444db25baf8b55da9a25": {
      "model_module": "@jupyter-widgets/controls",
      "model_module_version": "1.5.0",
      "model_name": "ButtonStyleModel",
      "state": {
       "button_color": "white"
      }
     },
     "525ee2547b084dc0ab0618cfc6f4e90b": {
      "model_module": "@jupyter-widgets/base",
      "model_module_version": "1.2.0",
      "model_name": "LayoutModel",
      "state": {
       "width": "70px"
      }
     },
     "5758edcced1d49e08b93fba5c79aae83": {
      "model_module": "@jupyter-widgets/base",
      "model_module_version": "1.2.0",
      "model_name": "LayoutModel",
      "state": {
       "width": "95px"
      }
     },
     "579a7a6f3c4b4a1191f633019921b011": {
      "model_module": "@jupyter-widgets/base",
      "model_module_version": "1.2.0",
      "model_name": "LayoutModel",
      "state": {}
     },
     "5e6c06444a13493aa42f30c1760f59ee": {
      "model_module": "@jupyter-widgets/controls",
      "model_module_version": "1.5.0",
      "model_name": "HTMLModel",
      "state": {
       "layout": "IPY_MODEL_3d72ec54767e4532aadc389c68861793",
       "style": "IPY_MODEL_a9624e75ae414df39b735ba1f73306e7",
       "value": "ibmq_lima"
      }
     },
     "5ebda9c1a8be4355a882a07c9f0f3ebe": {
      "model_module": "@jupyter-widgets/controls",
      "model_module_version": "1.5.0",
      "model_name": "HTMLModel",
      "state": {
       "layout": "IPY_MODEL_579a7a6f3c4b4a1191f633019921b011",
       "style": "IPY_MODEL_215046e631544122b11d7742d610fcab",
       "value": "<h5>Message</h5>"
      }
     },
     "61d732ade9204566b9fa3d3d340cd83a": {
      "model_module": "@jupyter-widgets/base",
      "model_module_version": "1.2.0",
      "model_name": "LayoutModel",
      "state": {
       "width": "145px"
      }
     },
     "63bd473fe36b4e2daebe8a74833df43f": {
      "model_module": "@jupyter-widgets/base",
      "model_module_version": "1.2.0",
      "model_name": "LayoutModel",
      "state": {
       "margin": "0px 0px 0px 37px",
       "width": "600px"
      }
     },
     "6e7d5cde63b841b992b012d8139c210e": {
      "model_module": "@jupyter-widgets/controls",
      "model_module_version": "1.5.0",
      "model_name": "HBoxModel",
      "state": {
       "children": [
        "IPY_MODEL_297f55bd276c42de8e1d77dab98b6e19",
        "IPY_MODEL_fe234b8df6ce4001afaf8571493a2570",
        "IPY_MODEL_5e6c06444a13493aa42f30c1760f59ee",
        "IPY_MODEL_d2a2729238684189b9aee4f39187513b",
        "IPY_MODEL_42ff3e55678d4a98852c846c99eab3c0",
        "IPY_MODEL_b905bbf5a3ca4b868d82099d95469853"
       ],
       "layout": "IPY_MODEL_aa66db0834cf4e018942e9eb3fc26de3"
      }
     },
     "7b72512938ba44bd879f0af133c10e8a": {
      "model_module": "@jupyter-widgets/base",
      "model_module_version": "1.2.0",
      "model_name": "LayoutModel",
      "state": {
       "margin": "0px 0px 10px 0px"
      }
     },
     "80058dbfa3b3491d884576b5607babf7": {
      "model_module": "@jupyter-widgets/base",
      "model_module_version": "1.2.0",
      "model_name": "LayoutModel",
      "state": {
       "grid_template_areas": "\n                                       \". . . . right \"\n                                        ",
       "grid_template_columns": "20% 20% 20% 20% 20%",
       "width": "100%"
      }
     },
     "84e2120152dd492a829ad312db1328a4": {
      "model_module": "@jupyter-widgets/controls",
      "model_module_version": "1.5.0",
      "model_name": "DescriptionStyleModel",
      "state": {
       "description_width": ""
      }
     },
     "87733a84bb644c2a8988b736dcf8cbcf": {
      "model_module": "@jupyter-widgets/controls",
      "model_module_version": "1.5.0",
      "model_name": "HTMLModel",
      "state": {
       "layout": "IPY_MODEL_180b518875fb467a88c7c7fcb7b98268",
       "style": "IPY_MODEL_a8e0193d34174d9aa4fc5c1ed5f54c4a",
       "value": "<h5>Job ID</h5>"
      }
     },
     "98e884c4523441e4ae50458942e2145c": {
      "model_module": "@jupyter-widgets/controls",
      "model_module_version": "1.5.0",
      "model_name": "DescriptionStyleModel",
      "state": {
       "description_width": ""
      }
     },
     "9d9a3dd0eef6492b97b27556f83182fc": {
      "model_module": "@jupyter-widgets/controls",
      "model_module_version": "1.5.0",
      "model_name": "DescriptionStyleModel",
      "state": {
       "description_width": ""
      }
     },
     "9fcdd255fbd3468d9d759b14d7567393": {
      "model_module": "@jupyter-widgets/controls",
      "model_module_version": "1.5.0",
      "model_name": "DescriptionStyleModel",
      "state": {
       "description_width": ""
      }
     },
     "a8e0193d34174d9aa4fc5c1ed5f54c4a": {
      "model_module": "@jupyter-widgets/controls",
      "model_module_version": "1.5.0",
      "model_name": "DescriptionStyleModel",
      "state": {
       "description_width": ""
      }
     },
     "a9624e75ae414df39b735ba1f73306e7": {
      "model_module": "@jupyter-widgets/controls",
      "model_module_version": "1.5.0",
      "model_name": "DescriptionStyleModel",
      "state": {
       "description_width": ""
      }
     },
     "aa66db0834cf4e018942e9eb3fc26de3": {
      "model_module": "@jupyter-widgets/base",
      "model_module_version": "1.2.0",
      "model_name": "LayoutModel",
      "state": {
       "max_width": "700px",
       "min_width": "700px"
      }
     },
     "afa3b59da89e44b2aec5cb85223abfe2": {
      "model_module": "@jupyter-widgets/controls",
      "model_module_version": "1.5.0",
      "model_name": "DescriptionStyleModel",
      "state": {
       "description_width": ""
      }
     },
     "b905bbf5a3ca4b868d82099d95469853": {
      "model_module": "@jupyter-widgets/controls",
      "model_module_version": "1.5.0",
      "model_name": "HTMLModel",
      "state": {
       "layout": "IPY_MODEL_e979b98d430844e499b5f073255a846a",
       "style": "IPY_MODEL_98e884c4523441e4ae50458942e2145c",
       "value": "job has successfully run"
      }
     },
     "ba1b5afa03514e968924e6c75e7e1683": {
      "model_module": "@jupyter-widgets/base",
      "model_module_version": "1.2.0",
      "model_name": "LayoutModel",
      "state": {
       "width": "190px"
      }
     },
     "c5cd5514dcf1481c8f92f426855d716a": {
      "model_module": "@jupyter-widgets/base",
      "model_module_version": "1.2.0",
      "model_name": "LayoutModel",
      "state": {
       "margin": "0px 5px 0px 0px",
       "width": "32px"
      }
     },
     "ca4af2960a584c3285933e7e9bc673b9": {
      "model_module": "@jupyter-widgets/controls",
      "model_module_version": "1.5.0",
      "model_name": "HTMLModel",
      "state": {
       "layout": "IPY_MODEL_61d732ade9204566b9fa3d3d340cd83a",
       "style": "IPY_MODEL_9d9a3dd0eef6492b97b27556f83182fc",
       "value": "<h5>Backend</h5>"
      }
     },
     "cb33531c622b4107aae6cd4c2eeafb31": {
      "model_module": "@jupyter-widgets/controls",
      "model_module_version": "1.5.0",
      "model_name": "DescriptionStyleModel",
      "state": {
       "description_width": ""
      }
     },
     "d2a2729238684189b9aee4f39187513b": {
      "model_module": "@jupyter-widgets/controls",
      "model_module_version": "1.5.0",
      "model_name": "HTMLModel",
      "state": {
       "layout": "IPY_MODEL_47026924953a444e98fd9d890ffe607a",
       "style": "IPY_MODEL_cb33531c622b4107aae6cd4c2eeafb31",
       "value": "<font style='color:#34BC6E'>DONE</font>"
      }
     },
     "d4348f1e53c74cde88428d60f783157a": {
      "model_module": "@jupyter-widgets/controls",
      "model_module_version": "1.5.0",
      "model_name": "HTMLModel",
      "state": {
       "layout": "IPY_MODEL_7b72512938ba44bd879f0af133c10e8a",
       "style": "IPY_MODEL_f16f26b566cc49cf9ca5dfc8e3b1b8a0",
       "value": "<p style='font-family: IBM Plex Sans, Arial, Helvetica, sans-serif; font-size: 20px; font-weight: medium;'>Circuit Properties</p>"
      }
     },
     "dd2db875be1c4e5baf37938a1cb8dd48": {
      "model_module": "@jupyter-widgets/controls",
      "model_module_version": "1.5.0",
      "model_name": "ButtonStyleModel",
      "state": {}
     },
     "e66218c51ccb4a1a81d84a8074c64fa1": {
      "model_module": "@jupyter-widgets/controls",
      "model_module_version": "1.5.0",
      "model_name": "HBoxModel",
      "state": {
       "children": [
        "IPY_MODEL_87733a84bb644c2a8988b736dcf8cbcf",
        "IPY_MODEL_ca4af2960a584c3285933e7e9bc673b9",
        "IPY_MODEL_445d564b96e14e6681d3774fe9ab7545",
        "IPY_MODEL_35c0ecf284a84a1192297345c608bcc0",
        "IPY_MODEL_5ebda9c1a8be4355a882a07c9f0f3ebe"
       ],
       "layout": "IPY_MODEL_63bd473fe36b4e2daebe8a74833df43f"
      }
     },
     "e725c13fc04844638c07f778e89f2fbb": {
      "model_module": "@jupyter-widgets/controls",
      "model_module_version": "1.5.0",
      "model_name": "DescriptionStyleModel",
      "state": {
       "description_width": ""
      }
     },
     "e979b98d430844e499b5f073255a846a": {
      "model_module": "@jupyter-widgets/base",
      "model_module_version": "1.2.0",
      "model_name": "LayoutModel",
      "state": {
       "overflow_x": "scroll"
      }
     },
     "f16f26b566cc49cf9ca5dfc8e3b1b8a0": {
      "model_module": "@jupyter-widgets/controls",
      "model_module_version": "1.5.0",
      "model_name": "DescriptionStyleModel",
      "state": {
       "description_width": ""
      }
     },
     "fe234b8df6ce4001afaf8571493a2570": {
      "model_module": "@jupyter-widgets/controls",
      "model_module_version": "1.5.0",
      "model_name": "HTMLModel",
      "state": {
       "layout": "IPY_MODEL_ba1b5afa03514e968924e6c75e7e1683",
       "style": "IPY_MODEL_84e2120152dd492a829ad312db1328a4",
       "value": "61b4f16f59a04b740c95a3ad"
      }
     }
    },
    "version_major": 2,
    "version_minor": 0
   }
  }
 },
 "nbformat": 4,
 "nbformat_minor": 5
}
