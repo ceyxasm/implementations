{
  "nbformat": 4,
  "nbformat_minor": 0,
  "metadata": {
    "colab": {
      "name": "ipl.ipynb",
      "provenance": [],
      "collapsed_sections": [],
      "mount_file_id": "1n64oMsY288n3dgWenLHe-NbsBHOBYAqL",
      "authorship_tag": "ABX9TyPIpjBvY4whpt32qXjEe1dY",
      "include_colab_link": true
    },
    "kernelspec": {
      "name": "python3",
      "display_name": "Python 3"
    },
    "language_info": {
      "name": "python"
    }
  },
  "cells": [
    {
      "cell_type": "markdown",
      "metadata": {
        "id": "view-in-github",
        "colab_type": "text"
      },
      "source": [
        "<a href=\"https://colab.research.google.com/github/ceyxasm/implementations/blob/main/ipl.ipynb\" target=\"_parent\"><img src=\"https://colab.research.google.com/assets/colab-badge.svg\" alt=\"Open In Colab\"/></a>"
      ]
    },
    {
      "cell_type": "code",
      "metadata": {
        "id": "Esax1M4yqD63"
      },
      "source": [
        "#importing libraries\n",
        "import pandas as pd\n",
        "import numpy as np\n",
        "import matplotlib.pyplot as plt\n"
      ],
      "execution_count": 79,
      "outputs": []
    },
    {
      "cell_type": "code",
      "metadata": {
        "colab": {
          "base_uri": "https://localhost:8080/",
          "height": 408
        },
        "id": "VSRfNuU5rFCg",
        "outputId": "d18b87f2-2720-4ac6-e052-73e31cb55d36"
      },
      "source": [
        "#data read\n",
        "#dataset- https://www.kaggle.com/patrickb1912/ipl-complete-dataset-20082020\n",
        "data=pd.read_csv('/content/drive/MyDrive/Colab Notebooks/datasets/IPL Matches 2008-2020.csv')\n",
        "data.head()"
      ],
      "execution_count": 80,
      "outputs": [
        {
          "output_type": "execute_result",
          "data": {
            "text/html": [
              "<div>\n",
              "<style scoped>\n",
              "    .dataframe tbody tr th:only-of-type {\n",
              "        vertical-align: middle;\n",
              "    }\n",
              "\n",
              "    .dataframe tbody tr th {\n",
              "        vertical-align: top;\n",
              "    }\n",
              "\n",
              "    .dataframe thead th {\n",
              "        text-align: right;\n",
              "    }\n",
              "</style>\n",
              "<table border=\"1\" class=\"dataframe\">\n",
              "  <thead>\n",
              "    <tr style=\"text-align: right;\">\n",
              "      <th></th>\n",
              "      <th>id</th>\n",
              "      <th>city</th>\n",
              "      <th>date</th>\n",
              "      <th>player_of_match</th>\n",
              "      <th>venue</th>\n",
              "      <th>neutral_venue</th>\n",
              "      <th>team1</th>\n",
              "      <th>team2</th>\n",
              "      <th>toss_winner</th>\n",
              "      <th>toss_decision</th>\n",
              "      <th>winner</th>\n",
              "      <th>result</th>\n",
              "      <th>result_margin</th>\n",
              "      <th>eliminator</th>\n",
              "      <th>method</th>\n",
              "      <th>umpire1</th>\n",
              "      <th>umpire2</th>\n",
              "    </tr>\n",
              "  </thead>\n",
              "  <tbody>\n",
              "    <tr>\n",
              "      <th>0</th>\n",
              "      <td>335982</td>\n",
              "      <td>Bangalore</td>\n",
              "      <td>2008-04-18</td>\n",
              "      <td>BB McCullum</td>\n",
              "      <td>M Chinnaswamy Stadium</td>\n",
              "      <td>0</td>\n",
              "      <td>Royal Challengers Bangalore</td>\n",
              "      <td>Kolkata Knight Riders</td>\n",
              "      <td>Royal Challengers Bangalore</td>\n",
              "      <td>field</td>\n",
              "      <td>Kolkata Knight Riders</td>\n",
              "      <td>runs</td>\n",
              "      <td>140.0</td>\n",
              "      <td>N</td>\n",
              "      <td>NaN</td>\n",
              "      <td>Asad Rauf</td>\n",
              "      <td>RE Koertzen</td>\n",
              "    </tr>\n",
              "    <tr>\n",
              "      <th>1</th>\n",
              "      <td>335983</td>\n",
              "      <td>Chandigarh</td>\n",
              "      <td>2008-04-19</td>\n",
              "      <td>MEK Hussey</td>\n",
              "      <td>Punjab Cricket Association Stadium, Mohali</td>\n",
              "      <td>0</td>\n",
              "      <td>Kings XI Punjab</td>\n",
              "      <td>Chennai Super Kings</td>\n",
              "      <td>Chennai Super Kings</td>\n",
              "      <td>bat</td>\n",
              "      <td>Chennai Super Kings</td>\n",
              "      <td>runs</td>\n",
              "      <td>33.0</td>\n",
              "      <td>N</td>\n",
              "      <td>NaN</td>\n",
              "      <td>MR Benson</td>\n",
              "      <td>SL Shastri</td>\n",
              "    </tr>\n",
              "    <tr>\n",
              "      <th>2</th>\n",
              "      <td>335984</td>\n",
              "      <td>Delhi</td>\n",
              "      <td>2008-04-19</td>\n",
              "      <td>MF Maharoof</td>\n",
              "      <td>Feroz Shah Kotla</td>\n",
              "      <td>0</td>\n",
              "      <td>Delhi Daredevils</td>\n",
              "      <td>Rajasthan Royals</td>\n",
              "      <td>Rajasthan Royals</td>\n",
              "      <td>bat</td>\n",
              "      <td>Delhi Daredevils</td>\n",
              "      <td>wickets</td>\n",
              "      <td>9.0</td>\n",
              "      <td>N</td>\n",
              "      <td>NaN</td>\n",
              "      <td>Aleem Dar</td>\n",
              "      <td>GA Pratapkumar</td>\n",
              "    </tr>\n",
              "    <tr>\n",
              "      <th>3</th>\n",
              "      <td>335985</td>\n",
              "      <td>Mumbai</td>\n",
              "      <td>2008-04-20</td>\n",
              "      <td>MV Boucher</td>\n",
              "      <td>Wankhede Stadium</td>\n",
              "      <td>0</td>\n",
              "      <td>Mumbai Indians</td>\n",
              "      <td>Royal Challengers Bangalore</td>\n",
              "      <td>Mumbai Indians</td>\n",
              "      <td>bat</td>\n",
              "      <td>Royal Challengers Bangalore</td>\n",
              "      <td>wickets</td>\n",
              "      <td>5.0</td>\n",
              "      <td>N</td>\n",
              "      <td>NaN</td>\n",
              "      <td>SJ Davis</td>\n",
              "      <td>DJ Harper</td>\n",
              "    </tr>\n",
              "    <tr>\n",
              "      <th>4</th>\n",
              "      <td>335986</td>\n",
              "      <td>Kolkata</td>\n",
              "      <td>2008-04-20</td>\n",
              "      <td>DJ Hussey</td>\n",
              "      <td>Eden Gardens</td>\n",
              "      <td>0</td>\n",
              "      <td>Kolkata Knight Riders</td>\n",
              "      <td>Deccan Chargers</td>\n",
              "      <td>Deccan Chargers</td>\n",
              "      <td>bat</td>\n",
              "      <td>Kolkata Knight Riders</td>\n",
              "      <td>wickets</td>\n",
              "      <td>5.0</td>\n",
              "      <td>N</td>\n",
              "      <td>NaN</td>\n",
              "      <td>BF Bowden</td>\n",
              "      <td>K Hariharan</td>\n",
              "    </tr>\n",
              "  </tbody>\n",
              "</table>\n",
              "</div>"
            ],
            "text/plain": [
              "       id        city        date  ... method    umpire1         umpire2\n",
              "0  335982   Bangalore  2008-04-18  ...    NaN  Asad Rauf     RE Koertzen\n",
              "1  335983  Chandigarh  2008-04-19  ...    NaN  MR Benson      SL Shastri\n",
              "2  335984       Delhi  2008-04-19  ...    NaN  Aleem Dar  GA Pratapkumar\n",
              "3  335985      Mumbai  2008-04-20  ...    NaN   SJ Davis       DJ Harper\n",
              "4  335986     Kolkata  2008-04-20  ...    NaN  BF Bowden     K Hariharan\n",
              "\n",
              "[5 rows x 17 columns]"
            ]
          },
          "metadata": {},
          "execution_count": 80
        }
      ]
    },
    {
      "cell_type": "code",
      "metadata": {
        "colab": {
          "base_uri": "https://localhost:8080/"
        },
        "id": "dKXe5nnH1__5",
        "outputId": "69718057-25c1-4463-d002-a80b179919bc"
      },
      "source": [
        "team1=np.array(data.iloc[:,6])\n",
        "team2=np.array(data.iloc[:,7])\n",
        "team=[]\n",
        "for i in team1:\n",
        "  if i not in team:\n",
        "    team.append(i)\n",
        "    print(i)\n",
        "\n",
        "#all these teams have however not been part of all the seasons\n",
        "#teams that have been part of all the seasons are:\n",
        "#Royal Challengers Bangalore\n",
        "#Kings XI Punjab\n",
        "#Mumbai Indians\n",
        "#Kolkata Knight Riders\n",
        "#Rajasthan Royals\n",
        "#Chennai Super Kings\n",
        "####>>>>  https://www.quora.com/Is-there-any-IPL-player-who-played-in-all-season-from-the-same-team\n",
        "#to make our analysis more uniform, we will be limiting ourself to these teams only and dropping the remaining\n",
        "##LETS HOPE THIS DOESNOT CONTRIBUTE TO SAMPLING BAIS\n",
        "\n"
      ],
      "execution_count": 81,
      "outputs": [
        {
          "output_type": "stream",
          "name": "stdout",
          "text": [
            "Royal Challengers Bangalore\n",
            "Kings XI Punjab\n",
            "Delhi Daredevils\n",
            "Mumbai Indians\n",
            "Kolkata Knight Riders\n",
            "Rajasthan Royals\n",
            "Deccan Chargers\n",
            "Chennai Super Kings\n",
            "Kochi Tuskers Kerala\n",
            "Pune Warriors\n",
            "Sunrisers Hyderabad\n",
            "Gujarat Lions\n",
            "Rising Pune Supergiants\n",
            "Rising Pune Supergiant\n",
            "Delhi Capitals\n"
          ]
        }
      ]
    },
    {
      "cell_type": "code",
      "metadata": {
        "colab": {
          "base_uri": "https://localhost:8080/"
        },
        "id": "xf-kavuf3hz8",
        "outputId": "f2256ae2-9735-4f81-cccc-71a5cb475021"
      },
      "source": [
        "#data preprocessing\n",
        "row=data.shape[0]\n",
        "drop_label=[]\n",
        "drop_team=[ \"Kochi Tuskers Kerala\", \"Pune Warriors\",  \"Gujarat Lions\",\n",
        "            \"Rising Pune Supergiants\", \"Rising Pune Supergiant\"   ]\n",
        "\n",
        "for i in drop_team:\n",
        "  data = data.loc[data[\"team1\"] != i]\n",
        "  data=  data.loc[data[\"team2\"] != i]\n",
        "print(\"data points before dropping: \"+str(row)+\"\\ndata points after dropping: \"+str(data.shape[0]))\n",
        "\n",
        "data=data.replace({\"Deccan Chargers\":\"Sunrisers Hyderabad\",\"Delhi Capitals\": \"Delhi Daredevils\" })\n",
        "#\"Deccan Chargers\"--->\"Sunrisers Hyderabad\"\n",
        "#\"Delhi Capitals\"----> \"Delhi Daredevils\"\n",
        "\n"
      ],
      "execution_count": 82,
      "outputs": [
        {
          "output_type": "stream",
          "name": "stdout",
          "text": [
            "data points before dropping: 816\n",
            "data points after dropping: 701\n"
          ]
        }
      ]
    },
    {
      "cell_type": "code",
      "metadata": {
        "colab": {
          "base_uri": "https://localhost:8080/"
        },
        "id": "Z5V3gi_erMts",
        "outputId": "570e71a1-22d4-4e93-db8f-e5300a550673"
      },
      "source": [
        "team1=np.array(data.iloc[:,6])\n",
        "team2=np.array(data.iloc[:,7])\n",
        "winner=np.array(data.iloc[:,10])\n",
        "n_matches=len(team1)\n",
        "\n",
        "team=[]\n",
        "for i in range(len(team1)):\n",
        "  if team1[i] not in team:\n",
        "    team.append(team2[i])\n",
        "  if team2[i] not in team:\n",
        "    team.append(team2[i])\n",
        "\n",
        "    \n",
        "team_code=[]\n",
        "for i in team:\n",
        "  x=i.split()\n",
        "  code=\"\"\n",
        "  for j in x:\n",
        "    code+=j[0]\n",
        "  team_code.append(code)\n",
        "  print(code+\" \"+i+\"\\n\")\n",
        "\n"
      ],
      "execution_count": 83,
      "outputs": [
        {
          "output_type": "stream",
          "name": "stdout",
          "text": [
            "KKR Kolkata Knight Riders\n",
            "\n",
            "CSK Chennai Super Kings\n",
            "\n",
            "RR Rajasthan Royals\n",
            "\n",
            "RCB Royal Challengers Bangalore\n",
            "\n",
            "SH Sunrisers Hyderabad\n",
            "\n",
            "KXP Kings XI Punjab\n",
            "\n",
            "DD Delhi Daredevils\n",
            "\n",
            "MI Mumbai Indians\n",
            "\n"
          ]
        }
      ]
    },
    {
      "cell_type": "code",
      "metadata": {
        "id": "M4lv6nvlOR8q"
      },
      "source": [
        "for i in range(n_matches):\n",
        "  for j in range(len(team)):\n",
        "    if team1[i]==team[j]: team1[i]=team_code[j]\n",
        "    if team2[i]==team[j]: team2[i]=team_code[j]\n",
        "    if winner[i]==team[j]: winner[i]=team_code[j]\n",
        "\n",
        "team=team_code"
      ],
      "execution_count": 84,
      "outputs": []
    },
    {
      "cell_type": "code",
      "metadata": {
        "id": "zNKlteW8sPk-",
        "colab": {
          "base_uri": "https://localhost:8080/",
          "height": 895
        },
        "outputId": "73650306-afae-4d06-d4b8-3dc08ff1e19f"
      },
      "source": [
        "matches={}\n",
        "\n",
        "for i in range(n_matches):\n",
        "  if team1[i] not in matches:\n",
        "    matches[team1[i]]={'wins':0,\n",
        "                      'loss':0,\n",
        "                      'matches':1}\n",
        "  else: matches[team1[i]]['matches']+=1\n",
        "  if winner[i]==team1[i]:\n",
        "    matches[team1[i]]['wins']+=1\n",
        "  else: matches[team1[i]]['loss']+=1\n",
        "\n",
        "for i in range(n_matches):\n",
        "  matches[team2[i]]['matches']+=1\n",
        "  if winner[i]==team2[i]:\n",
        "    matches[team2[i]]['wins']+=1\n",
        "  else: matches[team2[i]]['loss']+=1\n",
        "\n",
        "##adding number of season wins: 0 for RCB 3 for CSK like that\n",
        "###>>>>>>>>>>>>>data compiled only till 2020 so dropping CSKs 2021 win; maybe u can contribute to the data set\n",
        "for i in team:\n",
        "  matches[i]['cups']=0\n",
        "matches['MI']['cups']=5\n",
        "matches['CSK']['cups']=3\n",
        "matches['SH']['cups']=1\n",
        "matches['RR']['cups']=1\n",
        "matches['DD']['cups']=1\n",
        "matches['KKR']['cups']=2\n",
        "\n",
        "wins=[]\n",
        "loss=[]\n",
        "turnout=[]\n",
        "cups=[]\n",
        "for i in team_code:\n",
        "  matches[i]['turnout']=matches[i]['wins']/matches[i]['loss']\n",
        "  wins.append(matches[i]['wins'])\n",
        "  loss.append(matches[i]['loss'])\n",
        "  turnout.append(matches[i]['turnout'])\n",
        "  cups.append(matches[i]['cups'])\n",
        "  print(i, matches[i])\n",
        "\n",
        "x_axis=np.arange(len(team))*3\n",
        "plt.bar(x_axis-0.5, loss, color='blue', label='loss' )\n",
        "plt.bar(x_axis+0.5, wins, color='orange',label='wins' )\n",
        "plt.xticks(x_axis, team)\n",
        "plt.show()\n",
        "\n",
        "plt.bar(team, turnout, color='purple')\n",
        "plt.show()\n",
        "plt.bar(team, cups, color='orange' )\n",
        "plt.show()"
      ],
      "execution_count": 90,
      "outputs": [
        {
          "output_type": "stream",
          "name": "stdout",
          "text": [
            "KKR {'wins': 91, 'loss': 86, 'matches': 177, 'cups': 2, 'turnout': 1.058139534883721}\n",
            "CSK {'wins': 101, 'loss': 69, 'matches': 170, 'cups': 3, 'turnout': 1.463768115942029}\n",
            "RR {'wins': 76, 'loss': 78, 'matches': 154, 'cups': 1, 'turnout': 0.9743589743589743}\n",
            "RCB {'wins': 79, 'loss': 100, 'matches': 179, 'cups': 0, 'turnout': 0.79}\n",
            "SH {'wins': 83, 'loss': 100, 'matches': 183, 'cups': 1, 'turnout': 0.83}\n",
            "KXP {'wins': 80, 'loss': 95, 'matches': 175, 'cups': 0, 'turnout': 0.8421052631578947}\n",
            "DD {'wins': 77, 'loss': 101, 'matches': 178, 'cups': 1, 'turnout': 0.7623762376237624}\n",
            "MI {'wins': 111, 'loss': 75, 'matches': 186, 'cups': 5, 'turnout': 1.48}\n"
          ]
        },
        {
          "output_type": "display_data",
          "data": {
            "image/png": "[encoded data removed]",
            "text/plain": [
              "<Figure size 432x288 with 1 Axes>"
            ]
          },
          "metadata": {
            "needs_background": "light"
          }
        },
        {
          "output_type": "display_data",
          "data": {
            "image/png": "[encoded data removed]",
            "text/plain": [
              "<Figure size 432x288 with 1 Axes>"
            ]
          },
          "metadata": {
            "needs_background": "light"
          }
        },
        {
          "output_type": "display_data",
          "data": {
            "image/png": "[encoded data removed]",
            "text/plain": [
              "<Figure size 432x288 with 1 Axes>"
            ]
          },
          "metadata": {
            "needs_background": "light"
          }
        }
      ]
    },
    {
      "cell_type": "code",
      "metadata": {
        "id": "IbAKyP5SHyNm"
      },
      "source": [
        ""
      ],
      "execution_count": 87,
      "outputs": []
    },
    {
      "cell_type": "code",
      "metadata": {
        "id": "5d3G884OH3mT"
      },
      "source": [
        ""
      ],
      "execution_count": 85,
      "outputs": []
    }
  ]
}