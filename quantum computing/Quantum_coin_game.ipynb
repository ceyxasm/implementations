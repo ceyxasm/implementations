{
 "cells": [
  {
   "cell_type": "markdown",
   "id": "817337d6-fc69-4bb6-b733-609587395497",
   "metadata": {},
   "source": [
    "**Quantum Coin game**\n",
    "\n",
    "Quantum Computer plays a move but it is not revealed to the Opponent(Human).\n",
    "Opponent(Human) plays a move and it is also not revealed to the Quantum Computer.\n",
    "Finally Quantum Computer plays a move.\n",
    "Results are shown. If its heads, then Quantum Computer wins. Else, Opponent(Human) wins.\n",
    "\n",
    "https://www.ted.com/talks/shohini_ghose_a_beginner_s_guide_to_quantum_computing#t-587675"
   ]
  },
  {
   "cell_type": "code",
   "execution_count": 10,
   "id": "e02e8caf-cd6a-438c-adf6-e748de1c90a4",
   "metadata": {},
   "outputs": [
    {
     "data": {
      "application/vnd.jupyter.widget-view+json": {
       "model_id": "82e8f3acdb7e42979de367019fda0a1f",
       "version_major": 2,
       "version_minor": 0
      },
      "text/plain": [
       "VBox(children=(Dropdown(description='Choice: ', options=(('Identity', 'i'), ('Bit Flip', 'x')), value='i'), Bu…"
      ]
     },
     "metadata": {},
     "output_type": "display_data"
    }
   ],
   "source": [
    "# Importing all the necessary library\n",
    "from qiskit import QuantumCircuit, Aer, IBMQ, QuantumRegister, ClassicalRegister, execute, transpile\n",
    "from qiskit.tools.jupyter import *\n",
    "from qiskit.visualization import *\n",
    "import qiskit.tools.jupyter\n",
    "import ipywidgets as widgets\n",
    "\n",
    "# Layout\n",
    "button_p = widgets.Button(\n",
    "    description='Play')\n",
    "gate_p = widgets.Dropdown(\n",
    "    options=[('Identity', 'i'), ('Bit Flip', 'x')],\n",
    "    description='Choice: ',\n",
    "    disabled=False,\n",
    ")\n",
    "out_p = widgets.Output()\n",
    "def on_button_clicked(b):\n",
    "    with out_p:\n",
    "        \n",
    "        # Initial Circuit\n",
    "        circuit_p = QuantumRegister(1, 'circuit')\n",
    "        measure_p = ClassicalRegister(1, 'result')\n",
    "        qc_p = QuantumCircuit(circuit_p, measure_p)\n",
    "        \n",
    "        # Turn 1\n",
    "        qc_p.h(circuit_p[0])\n",
    "        \n",
    "        # Turn 2\n",
    "        if gate_p.value == 'i':\n",
    "            qc_p.i(circuit_p[0])\n",
    "        if gate_p.value == 'x':\n",
    "            qc_p.x(circuit_p[0])\n",
    "        \n",
    "        # Turn 3\n",
    "        qc_p.h(circuit_p[0])\n",
    "        \n",
    "        # Measure  \n",
    "        qc_p.measure(circuit_p, measure_p)\n",
    "        \n",
    "        # QASM\n",
    "        backend_p = Aer.get_backend('aer_simulator')\n",
    "        job_p = execute(qc_p, backend_p, shots=8192)\n",
    "        res_p = job_p.result().get_counts()\n",
    "        \n",
    "        # Result\n",
    "        if len(res_p) == 1 and list(res_p.keys())[0] == '0':\n",
    "            print(\"You Lose to Quantum. Quantum Computer Wins\")\n",
    "        if len(res_p) == 1 and list(res_p.keys())[0] == '1':\n",
    "            print(\"You Win against Quantum Computer\")\n",
    "        if len(res_p) == 2:\n",
    "            print(\"Either Quantum or You Wins\")\n",
    "\n",
    "button_p.on_click(on_button_clicked)\n",
    "widgets.VBox([gate_p, button_p, out_p])"
   ]
  },
  {
   "cell_type": "code",
   "execution_count": 2,
   "id": "06468121-73f7-4966-8327-ece4dc989f91",
   "metadata": {},
   "outputs": [],
   "source": [
    "# Importing all the necessary library\n",
    "\n",
    "from qiskit import QuantumCircuit, Aer, IBMQ, QuantumRegister, ClassicalRegister, execute\n",
    "from qiskit.tools.jupyter import *\n",
    "from qiskit.visualization import *\n",
    "import qiskit.tools.jupyter\n",
    "import ipywidgets as widgets"
   ]
  },
  {
   "cell_type": "code",
   "execution_count": 3,
   "id": "0b93dcd7-8b7c-425e-a2e4-451181403685",
   "metadata": {},
   "outputs": [],
   "source": [
    "# Building the initial circuit\n",
    "\n",
    "def initial_circuit():\n",
    "    circuit = QuantumRegister(1, 'circuit')\n",
    "    measure = ClassicalRegister(1, 'result')\n",
    "    qc = QuantumCircuit(circuit, measure)\n",
    "    qc.draw('mpl')\n",
    "    return qc, circuit, measure"
   ]
  },
  {
   "cell_type": "code",
   "execution_count": 6,
   "id": "fadbd33b-827b-4c32-8f74-8af28e224fee",
   "metadata": {},
   "outputs": [],
   "source": [
    "# Widget Initialization\n",
    "\n",
    "gate = widgets.Dropdown(\n",
    "    options=[('Identity', 'i'), ('Bit Flip', 'x')],\n",
    "    description='Choice: ',\n",
    "    disabled=False,\n",
    ")"
   ]
  },
  {
   "cell_type": "code",
   "execution_count": 7,
   "id": "50f9f11d-5249-4e6f-bf27-ce8d9dc63b1e",
   "metadata": {},
   "outputs": [
    {
     "data": {
      "image/png": "[encoded data removed]",
      "text/plain": [
       "<Figure size 365.474x144.48 with 1 Axes>"
      ]
     },
     "execution_count": 7,
     "metadata": {},
     "output_type": "execute_result"
    }
   ],
   "source": [
    "## making a circuit of the same from scratch\n",
    "\n",
    "qc, circuit, measure = initial_circuit()\n",
    "\n",
    "# Use H Gate\n",
    "qc.h(circuit[0])\n",
    "if gate.value == 'i':\n",
    "    qc.i(circuit[0])\n",
    "if gate.value == 'x':\n",
    "    qc.x(circuit[0])\n",
    "\n",
    "# Used H Gate\n",
    "qc.h(circuit[0])\n",
    "\n",
    "qc.measure(circuit, measure)\n",
    "qc.draw('mpl')\n",
    "\n",
    "\n"
   ]
  },
  {
   "cell_type": "code",
   "execution_count": 8,
   "id": "49d8665f-f1da-412a-bb99-a8b21b555727",
   "metadata": {},
   "outputs": [
    {
     "name": "stdout",
     "output_type": "stream",
     "text": [
      "{'0': 8192}\n"
     ]
    },
    {
     "data": {
      "image/png": "[encoded data removed]",
      "text/plain": [
       "<Figure size 504x360 with 1 Axes>"
      ]
     },
     "execution_count": 8,
     "metadata": {},
     "output_type": "execute_result"
    }
   ],
   "source": [
    "## simulating this on a simulator\n",
    "\n",
    "backend = Aer.get_backend('aer_simulator')\n",
    "job = execute(qc, backend, shots=8192)\n",
    "res = job.result().get_counts()\n",
    "print(res)\n",
    "plot_histogram(res)"
   ]
  },
  {
   "cell_type": "code",
   "execution_count": 11,
   "id": "8c706fc4-1c58-4a7b-9f44-213c2eefb0db",
   "metadata": {},
   "outputs": [
    {
     "name": "stderr",
     "output_type": "stream",
     "text": [
      "ibmqfactory.load_account:WARNING:2021-12-31 06:37:36,563: Credentials are already in use. The existing account in the session will be replaced.\n"
     ]
    },
    {
     "name": "stdout",
     "output_type": "stream",
     "text": [
      "least busy backend:  ibmq_bogota\n"
     ]
    }
   ],
   "source": [
    "## 100% victory for the Quantum\n",
    "\n",
    "##lets run on an actual QC Hardware\n",
    "from qiskit import IBMQ\n",
    "from qiskit.providers.ibmq import least_busy\n",
    "shots = 1024\n",
    "\n",
    "# Load local account information\n",
    "IBMQ.load_account()\n",
    "# Get the least busy backend\n",
    "provider = IBMQ.get_provider(hub='ibm-q')\n",
    "backend = least_busy(provider.backends(filters=lambda x: x.configuration().n_qubits >= 2 \n",
    "                                       and not x.configuration().simulator \n",
    "                                       and x.status().operational==True))\n",
    "print(\"least busy backend: \", backend)\n",
    "# Run our circuit\n",
    "t_qc = transpile(qc, backend, optimization_level=3)\n",
    "job = backend.run(t_qc)\n"
   ]
  },
  {
   "cell_type": "code",
   "execution_count": 12,
   "id": "7f6eda2d-10a7-4be4-9c3d-1628a7428c7b",
   "metadata": {},
   "outputs": [
    {
     "name": "stdout",
     "output_type": "stream",
     "text": [
      "Job Status: job has successfully run\n"
     ]
    }
   ],
   "source": [
    "# Monitoring our job\n",
    "from qiskit.tools.monitor import job_monitor\n",
    "job_monitor(job)"
   ]
  },
  {
   "cell_type": "code",
   "execution_count": 13,
   "id": "29b4adc5-a9d9-4194-8263-e468d2e21048",
   "metadata": {},
   "outputs": [
    {
     "data": {
      "image/png": "[encoded data removed]",
      "text/plain": [
       "<Figure size 504x360 with 1 Axes>"
      ]
     },
     "execution_count": 13,
     "metadata": {},
     "output_type": "execute_result"
    }
   ],
   "source": [
    "# Plotting our result\n",
    "result = job.result()\n",
    "plot_histogram(result.get_counts(qc))"
   ]
  },
  {
   "cell_type": "code",
   "execution_count": null,
   "id": "265d33f9-14f3-44fb-8df1-55cfc7f8b2b0",
   "metadata": {},
   "outputs": [],
   "source": []
  }
 ],
 "metadata": {
  "kernelspec": {
   "display_name": "Qiskit v0.33.1 (ipykernel)",
   "language": "python",
   "name": "python3"
  },
  "language_info": {
   "codemirror_mode": {
    "name": "ipython",
    "version": 3
   },
   "file_extension": ".py",
   "mimetype": "text/x-python",
   "name": "python",
   "nbconvert_exporter": "python",
   "pygments_lexer": "ipython3",
   "version": "3.8.10"
  },
  "widgets": {
   "application/vnd.jupyter.widget-state+json": {
    "state": {
     "01e0b44c009e4b5cb23a8d5bd0d99487": {
      "model_module": "@jupyter-widgets/controls",
      "model_module_version": "1.5.0",
      "model_name": "HTMLModel",
      "state": {
       "layout": "IPY_MODEL_cdd40202e0e449189297f42325eb3e4d",
       "style": "IPY_MODEL_9bced9d5ccf44653b6aeead3425ac874",
       "value": "job has successfully run"
      }
     },
     "033d594810974ca1a357cedd5aafd669": {
      "model_module": "@jupyter-widgets/controls",
      "model_module_version": "1.5.0",
      "model_name": "DescriptionStyleModel",
      "state": {
       "description_width": ""
      }
     },
     "0dd20758e51b4286b840cacf89d18037": {
      "model_module": "@jupyter-widgets/controls",
      "model_module_version": "1.5.0",
      "model_name": "ButtonStyleModel",
      "state": {
       "button_color": "white"
      }
     },
     "11d7a3f0dd3c4974af622447e24ac20a": {
      "model_module": "@jupyter-widgets/controls",
      "model_module_version": "1.5.0",
      "model_name": "HTMLModel",
      "state": {
       "layout": "IPY_MODEL_300f4ad4defd45d3a0ccebf46eaa2b07",
       "style": "IPY_MODEL_ef5217d3693c46279798711a8982e948",
       "value": "ibmq_bogota"
      }
     },
     "121d829a11bb4d26b35c85c2212a374c": {
      "model_module": "@jupyter-widgets/controls",
      "model_module_version": "1.5.0",
      "model_name": "ButtonModel",
      "state": {
       "description": "Play",
       "layout": "IPY_MODEL_e2e059a1d0604731ac3e8328c3c46318",
       "style": "IPY_MODEL_32772ebdcbf64e6d96a7e41ee83a5179"
      }
     },
     "14edee6bd6e448f6bcd9a2728e06b6c5": {
      "model_module": "@jupyter-widgets/controls",
      "model_module_version": "1.5.0",
      "model_name": "DescriptionStyleModel",
      "state": {
       "description_width": ""
      }
     },
     "15e5694165e34371946d463a7d4fedcb": {
      "model_module": "@jupyter-widgets/base",
      "model_module_version": "1.2.0",
      "model_name": "LayoutModel",
      "state": {}
     },
     "1774dd8a5d434697b813e6a009bec7c6": {
      "model_module": "@jupyter-widgets/base",
      "model_module_version": "1.2.0",
      "model_name": "LayoutModel",
      "state": {
       "grid_area": "right",
       "padding": "0px 0px 0px 0px",
       "width": "70px"
      }
     },
     "1ff77ec2898f4d9f81a15a3dfb982d45": {
      "model_module": "@jupyter-widgets/base",
      "model_module_version": "1.2.0",
      "model_name": "LayoutModel",
      "state": {}
     },
     "2bc8e3b7062744f49f02b005cce011bc": {
      "model_module": "@jupyter-widgets/controls",
      "model_module_version": "1.5.0",
      "model_name": "DescriptionStyleModel",
      "state": {
       "description_width": ""
      }
     },
     "2cf9f5f58ed4434bb3fdc4117a1617ae": {
      "model_module": "@jupyter-widgets/base",
      "model_module_version": "1.2.0",
      "model_name": "LayoutModel",
      "state": {
       "width": "145px"
      }
     },
     "2f3f1656849a486591f264a4df3a10b3": {
      "model_module": "@jupyter-widgets/base",
      "model_module_version": "1.2.0",
      "model_name": "LayoutModel",
      "state": {
       "grid_template_areas": "\n                                       \". . . . right \"\n                                        ",
       "grid_template_columns": "20% 20% 20% 20% 20%",
       "width": "100%"
      }
     },
     "300f4ad4defd45d3a0ccebf46eaa2b07": {
      "model_module": "@jupyter-widgets/base",
      "model_module_version": "1.2.0",
      "model_name": "LayoutModel",
      "state": {
       "width": "145px"
      }
     },
     "32772ebdcbf64e6d96a7e41ee83a5179": {
      "model_module": "@jupyter-widgets/controls",
      "model_module_version": "1.5.0",
      "model_name": "ButtonStyleModel",
      "state": {}
     },
     "334defcc456e41448b2378eaf6c9fb47": {
      "model_module": "@jupyter-widgets/base",
      "model_module_version": "1.2.0",
      "model_name": "LayoutModel",
      "state": {
       "margin": "0px 0px 0px 37px",
       "width": "600px"
      }
     },
     "36cd0b1232614adc9181afe8139a16c3": {
      "model_module": "@jupyter-widgets/base",
      "model_module_version": "1.2.0",
      "model_name": "LayoutModel",
      "state": {}
     },
     "3b4f50eba84f4a8fa5d54857ce7583e7": {
      "model_module": "@jupyter-widgets/base",
      "model_module_version": "1.2.0",
      "model_name": "LayoutModel",
      "state": {
       "width": "70px"
      }
     },
     "44cd1685c9774c11b7b8b4821a990b2b": {
      "model_module": "@jupyter-widgets/base",
      "model_module_version": "1.2.0",
      "model_name": "LayoutModel",
      "state": {}
     },
     "48d8c62455dd4d3fab950ce0fcdcb804": {
      "model_module": "@jupyter-widgets/controls",
      "model_module_version": "1.5.0",
      "model_name": "DescriptionStyleModel",
      "state": {
       "description_width": ""
      }
     },
     "4a944ecd8aad401eb9e4e9d13a1a9daa": {
      "model_module": "@jupyter-widgets/controls",
      "model_module_version": "1.5.0",
      "model_name": "DropdownModel",
      "state": {
       "_options_labels": [
        "Identity",
        "Bit Flip"
       ],
       "description": "Choice: ",
       "index": 1,
       "layout": "IPY_MODEL_1ff77ec2898f4d9f81a15a3dfb982d45",
       "style": "IPY_MODEL_e13567a9a86d4d159564ab9e7088624d"
      }
     },
     "4b732fc7cc7149afa976e5ca13158f55": {
      "model_module": "@jupyter-widgets/output",
      "model_module_version": "1.0.0",
      "model_name": "OutputModel",
      "state": {
       "layout": "IPY_MODEL_ee5de5c0ccb04a12b7ff67f2c138abee"
      }
     },
     "57ccc7ac701a44a7bc83bdddf7e11e34": {
      "model_module": "@jupyter-widgets/controls",
      "model_module_version": "1.5.0",
      "model_name": "DescriptionStyleModel",
      "state": {
       "description_width": ""
      }
     },
     "589ee7756a4d4a23b76a0d101a7ef9b8": {
      "model_module": "@jupyter-widgets/base",
      "model_module_version": "1.2.0",
      "model_name": "LayoutModel",
      "state": {
       "width": "70px"
      }
     },
     "5a66cb915ddd46b6ab6eeee7fc83b627": {
      "model_module": "@jupyter-widgets/base",
      "model_module_version": "1.2.0",
      "model_name": "LayoutModel",
      "state": {}
     },
     "5c03441d3f30425cba607f3006898f4e": {
      "model_module": "@jupyter-widgets/base",
      "model_module_version": "1.2.0",
      "model_name": "LayoutModel",
      "state": {}
     },
     "5e5b0b7e0a494496887fbb7caf01bfe3": {
      "model_module": "@jupyter-widgets/controls",
      "model_module_version": "1.5.0",
      "model_name": "DropdownModel",
      "state": {
       "_options_labels": [
        "Identity",
        "Bit Flip"
       ],
       "description": "Choice: ",
       "index": 0,
       "layout": "IPY_MODEL_5a66cb915ddd46b6ab6eeee7fc83b627",
       "style": "IPY_MODEL_740fbab832e9451aba341d5ae3378724"
      }
     },
     "639f43bc5b394f3ca464485bb52d118c": {
      "model_module": "@jupyter-widgets/controls",
      "model_module_version": "1.5.0",
      "model_name": "HTMLModel",
      "state": {
       "layout": "IPY_MODEL_f996961e83ad42478d65d660d99f44e7",
       "style": "IPY_MODEL_e7411eabdb9f4ec4b08665e090773736",
       "value": "61cea5373b5b843b4e10489c"
      }
     },
     "63b228968e674497987918320f9729ce": {
      "model_module": "@jupyter-widgets/controls",
      "model_module_version": "1.5.0",
      "model_name": "VBoxModel",
      "state": {
       "children": [
        "IPY_MODEL_4a944ecd8aad401eb9e4e9d13a1a9daa",
        "IPY_MODEL_c0fa11f66a834335a38dc8f3bc1f5ba3",
        "IPY_MODEL_d6efb97bba144b3b9cd5e66d70121049"
       ],
       "layout": "IPY_MODEL_44cd1685c9774c11b7b8b4821a990b2b"
      }
     },
     "67fe0dc115f04f388439fb6e3cdb83a9": {
      "model_module": "@jupyter-widgets/controls",
      "model_module_version": "1.5.0",
      "model_name": "DescriptionStyleModel",
      "state": {
       "description_width": ""
      }
     },
     "6f2420c6989e4e2f904f87b4a83e0949": {
      "model_module": "@jupyter-widgets/base",
      "model_module_version": "1.2.0",
      "model_name": "LayoutModel",
      "state": {
       "width": "95px"
      }
     },
     "6f85c1c243194cb788b72ba0bef6f39e": {
      "model_module": "@jupyter-widgets/controls",
      "model_module_version": "1.5.0",
      "model_name": "DescriptionStyleModel",
      "state": {
       "description_width": ""
      }
     },
     "740fbab832e9451aba341d5ae3378724": {
      "model_module": "@jupyter-widgets/controls",
      "model_module_version": "1.5.0",
      "model_name": "DescriptionStyleModel",
      "state": {
       "description_width": ""
      }
     },
     "76fd70c5680742f9865b41348ebcd254": {
      "model_module": "@jupyter-widgets/base",
      "model_module_version": "1.2.0",
      "model_name": "LayoutModel",
      "state": {
       "width": "95px"
      }
     },
     "7a1c2dd0cccf47c4a962c07f8fb1ad71": {
      "model_module": "@jupyter-widgets/controls",
      "model_module_version": "1.5.0",
      "model_name": "HBoxModel",
      "state": {
       "children": [
        "IPY_MODEL_e4323e0cbc684e1e92be5fde5640174b",
        "IPY_MODEL_639f43bc5b394f3ca464485bb52d118c",
        "IPY_MODEL_11d7a3f0dd3c4974af622447e24ac20a",
        "IPY_MODEL_b6d0d2a69678421ba03cd5597ae1708a",
        "IPY_MODEL_b1dcb5ce16b246d99b95dd7de97d862f",
        "IPY_MODEL_01e0b44c009e4b5cb23a8d5bd0d99487"
       ],
       "layout": "IPY_MODEL_e50cb85b470142ce988d170516ef5d45"
      }
     },
     "82e8f3acdb7e42979de367019fda0a1f": {
      "model_module": "@jupyter-widgets/controls",
      "model_module_version": "1.5.0",
      "model_name": "VBoxModel",
      "state": {
       "children": [
        "IPY_MODEL_bdbb16cc7be744398381864dd3ce475b",
        "IPY_MODEL_121d829a11bb4d26b35c85c2212a374c",
        "IPY_MODEL_4b732fc7cc7149afa976e5ca13158f55"
       ],
       "layout": "IPY_MODEL_5c03441d3f30425cba607f3006898f4e"
      }
     },
     "8c3f2ffa83f5492db2514f4dbb0ffa64": {
      "model_module": "@jupyter-widgets/controls",
      "model_module_version": "1.5.0",
      "model_name": "HTMLModel",
      "state": {
       "layout": "IPY_MODEL_dd0096db3a674accb06c1684d637d8c5",
       "style": "IPY_MODEL_033d594810974ca1a357cedd5aafd669",
       "value": "<p style='font-family: IBM Plex Sans, Arial, Helvetica, sans-serif; font-size: 20px; font-weight: medium;'>Circuit Properties</p>"
      }
     },
     "910d9925afd54e4485970267ea1b3121": {
      "model_module": "@jupyter-widgets/controls",
      "model_module_version": "1.5.0",
      "model_name": "ButtonModel",
      "state": {
       "button_style": "primary",
       "description": "Clear",
       "layout": "IPY_MODEL_1774dd8a5d434697b813e6a009bec7c6",
       "style": "IPY_MODEL_d2fb4491364d4fdd8f8a572732707ca3"
      }
     },
     "917d11c42a6a4e7292c55a9abb6de32e": {
      "model_module": "@jupyter-widgets/base",
      "model_module_version": "1.2.0",
      "model_name": "LayoutModel",
      "state": {}
     },
     "950035f87dc949e9bcba3bddb48a1b8c": {
      "model_module": "@jupyter-widgets/base",
      "model_module_version": "1.2.0",
      "model_name": "LayoutModel",
      "state": {
       "margin": "0px 5px 0px 0px",
       "width": "32px"
      }
     },
     "9bced9d5ccf44653b6aeead3425ac874": {
      "model_module": "@jupyter-widgets/controls",
      "model_module_version": "1.5.0",
      "model_name": "DescriptionStyleModel",
      "state": {
       "description_width": ""
      }
     },
     "9dbc4dbf913d46f6b7d780f2560e3e73": {
      "model_module": "@jupyter-widgets/controls",
      "model_module_version": "1.5.0",
      "model_name": "ButtonStyleModel",
      "state": {}
     },
     "a2288d6b5c134be8bad4ac1fe2c7bcad": {
      "model_module": "@jupyter-widgets/controls",
      "model_module_version": "1.5.0",
      "model_name": "HBoxModel",
      "state": {
       "children": [
        "IPY_MODEL_acbb6dc879cc477785a84a547589a971",
        "IPY_MODEL_dc2ae25d3a2b448987019ef17d528bf7",
        "IPY_MODEL_a9f7577765984832a196c787cfa82117",
        "IPY_MODEL_cc547c7b88574a2993cbd22f4f725beb",
        "IPY_MODEL_b4adc708c48d47a1ab74bb937913c1a5"
       ],
       "layout": "IPY_MODEL_334defcc456e41448b2378eaf6c9fb47"
      }
     },
     "a37c96f8ac634eb7a0765470e933af8b": {
      "model_module": "@jupyter-widgets/controls",
      "model_module_version": "1.5.0",
      "model_name": "DescriptionStyleModel",
      "state": {
       "description_width": ""
      }
     },
     "a83fd1dc038c4d60917929b19b0c0727": {
      "model_module": "@jupyter-widgets/base",
      "model_module_version": "1.2.0",
      "model_name": "LayoutModel",
      "state": {
       "width": "190px"
      }
     },
     "a9f7577765984832a196c787cfa82117": {
      "model_module": "@jupyter-widgets/controls",
      "model_module_version": "1.5.0",
      "model_name": "HTMLModel",
      "state": {
       "layout": "IPY_MODEL_6f2420c6989e4e2f904f87b4a83e0949",
       "style": "IPY_MODEL_67fe0dc115f04f388439fb6e3cdb83a9",
       "value": "<h5>Status</h5>"
      }
     },
     "acbb6dc879cc477785a84a547589a971": {
      "model_module": "@jupyter-widgets/controls",
      "model_module_version": "1.5.0",
      "model_name": "HTMLModel",
      "state": {
       "layout": "IPY_MODEL_a83fd1dc038c4d60917929b19b0c0727",
       "style": "IPY_MODEL_a37c96f8ac634eb7a0765470e933af8b",
       "value": "<h5>Job ID</h5>"
      }
     },
     "b1dcb5ce16b246d99b95dd7de97d862f": {
      "model_module": "@jupyter-widgets/controls",
      "model_module_version": "1.5.0",
      "model_name": "HTMLModel",
      "state": {
       "layout": "IPY_MODEL_589ee7756a4d4a23b76a0d101a7ef9b8",
       "style": "IPY_MODEL_6f85c1c243194cb788b72ba0bef6f39e",
       "value": "-"
      }
     },
     "b4adc708c48d47a1ab74bb937913c1a5": {
      "model_module": "@jupyter-widgets/controls",
      "model_module_version": "1.5.0",
      "model_name": "HTMLModel",
      "state": {
       "layout": "IPY_MODEL_f378c1917cc64c048d6f06001c6a2ab9",
       "style": "IPY_MODEL_c293ed3433cd48b88b89b33fc473a620",
       "value": "<h5>Message</h5>"
      }
     },
     "b6d0d2a69678421ba03cd5597ae1708a": {
      "model_module": "@jupyter-widgets/controls",
      "model_module_version": "1.5.0",
      "model_name": "HTMLModel",
      "state": {
       "layout": "IPY_MODEL_76fd70c5680742f9865b41348ebcd254",
       "style": "IPY_MODEL_2bc8e3b7062744f49f02b005cce011bc",
       "value": "<font style='color:#34BC6E'>DONE</font>"
      }
     },
     "baadc2d9619344858830ef3f6bef6c97": {
      "model_module": "@jupyter-widgets/controls",
      "model_module_version": "1.5.0",
      "model_name": "DescriptionStyleModel",
      "state": {
       "description_width": ""
      }
     },
     "bdbb16cc7be744398381864dd3ce475b": {
      "model_module": "@jupyter-widgets/controls",
      "model_module_version": "1.5.0",
      "model_name": "DropdownModel",
      "state": {
       "_options_labels": [
        "Identity",
        "Bit Flip"
       ],
       "description": "Choice: ",
       "index": 0,
       "layout": "IPY_MODEL_15e5694165e34371946d463a7d4fedcb",
       "style": "IPY_MODEL_57ccc7ac701a44a7bc83bdddf7e11e34"
      }
     },
     "c0fa11f66a834335a38dc8f3bc1f5ba3": {
      "model_module": "@jupyter-widgets/controls",
      "model_module_version": "1.5.0",
      "model_name": "ButtonModel",
      "state": {
       "description": "Play",
       "layout": "IPY_MODEL_ee147d0694b54e879b9125d63ff7920e",
       "style": "IPY_MODEL_9dbc4dbf913d46f6b7d780f2560e3e73"
      }
     },
     "c293ed3433cd48b88b89b33fc473a620": {
      "model_module": "@jupyter-widgets/controls",
      "model_module_version": "1.5.0",
      "model_name": "DescriptionStyleModel",
      "state": {
       "description_width": ""
      }
     },
     "ca740a4bdcbf411089491fd6d02af6d7": {
      "model_module": "@jupyter-widgets/controls",
      "model_module_version": "1.5.0",
      "model_name": "GridBoxModel",
      "state": {
       "children": [
        "IPY_MODEL_910d9925afd54e4485970267ea1b3121"
       ],
       "layout": "IPY_MODEL_2f3f1656849a486591f264a4df3a10b3"
      }
     },
     "cc547c7b88574a2993cbd22f4f725beb": {
      "model_module": "@jupyter-widgets/controls",
      "model_module_version": "1.5.0",
      "model_name": "HTMLModel",
      "state": {
       "layout": "IPY_MODEL_3b4f50eba84f4a8fa5d54857ce7583e7",
       "style": "IPY_MODEL_48d8c62455dd4d3fab950ce0fcdcb804",
       "value": "<h5>Queue</h5>"
      }
     },
     "cdd40202e0e449189297f42325eb3e4d": {
      "model_module": "@jupyter-widgets/base",
      "model_module_version": "1.2.0",
      "model_name": "LayoutModel",
      "state": {
       "overflow_x": "scroll"
      }
     },
     "d2fb4491364d4fdd8f8a572732707ca3": {
      "model_module": "@jupyter-widgets/controls",
      "model_module_version": "1.5.0",
      "model_name": "ButtonStyleModel",
      "state": {}
     },
     "d6efb97bba144b3b9cd5e66d70121049": {
      "model_module": "@jupyter-widgets/output",
      "model_module_version": "1.0.0",
      "model_name": "OutputModel",
      "state": {
       "layout": "IPY_MODEL_917d11c42a6a4e7292c55a9abb6de32e",
       "outputs": [
        {
         "name": "stdout",
         "output_type": "stream",
         "text": "You Lose to Quantum. Quantum Computer Wins\nYou Lose to Quantum. Quantum Computer Wins\n"
        }
       ]
      }
     },
     "dc2ae25d3a2b448987019ef17d528bf7": {
      "model_module": "@jupyter-widgets/controls",
      "model_module_version": "1.5.0",
      "model_name": "HTMLModel",
      "state": {
       "layout": "IPY_MODEL_2cf9f5f58ed4434bb3fdc4117a1617ae",
       "style": "IPY_MODEL_14edee6bd6e448f6bcd9a2728e06b6c5",
       "value": "<h5>Backend</h5>"
      }
     },
     "dd0096db3a674accb06c1684d637d8c5": {
      "model_module": "@jupyter-widgets/base",
      "model_module_version": "1.2.0",
      "model_name": "LayoutModel",
      "state": {
       "margin": "0px 0px 10px 0px"
      }
     },
     "e13567a9a86d4d159564ab9e7088624d": {
      "model_module": "@jupyter-widgets/controls",
      "model_module_version": "1.5.0",
      "model_name": "DescriptionStyleModel",
      "state": {
       "description_width": ""
      }
     },
     "e2e059a1d0604731ac3e8328c3c46318": {
      "model_module": "@jupyter-widgets/base",
      "model_module_version": "1.2.0",
      "model_name": "LayoutModel",
      "state": {}
     },
     "e4323e0cbc684e1e92be5fde5640174b": {
      "model_module": "@jupyter-widgets/controls",
      "model_module_version": "1.5.0",
      "model_name": "ButtonModel",
      "state": {
       "icon": "close",
       "layout": "IPY_MODEL_950035f87dc949e9bcba3bddb48a1b8c",
       "style": "IPY_MODEL_0dd20758e51b4286b840cacf89d18037"
      }
     },
     "e50cb85b470142ce988d170516ef5d45": {
      "model_module": "@jupyter-widgets/base",
      "model_module_version": "1.2.0",
      "model_name": "LayoutModel",
      "state": {
       "max_width": "700px",
       "min_width": "700px"
      }
     },
     "e7411eabdb9f4ec4b08665e090773736": {
      "model_module": "@jupyter-widgets/controls",
      "model_module_version": "1.5.0",
      "model_name": "DescriptionStyleModel",
      "state": {
       "description_width": ""
      }
     },
     "e9826b01df7b4730b506a875f818702c": {
      "model_module": "@jupyter-widgets/controls",
      "model_module_version": "1.5.0",
      "model_name": "DropdownModel",
      "state": {
       "_options_labels": [
        "Identity",
        "Bit Flip"
       ],
       "description": "Choice: ",
       "index": 0,
       "layout": "IPY_MODEL_36cd0b1232614adc9181afe8139a16c3",
       "style": "IPY_MODEL_baadc2d9619344858830ef3f6bef6c97"
      }
     },
     "ee147d0694b54e879b9125d63ff7920e": {
      "model_module": "@jupyter-widgets/base",
      "model_module_version": "1.2.0",
      "model_name": "LayoutModel",
      "state": {}
     },
     "ee5de5c0ccb04a12b7ff67f2c138abee": {
      "model_module": "@jupyter-widgets/base",
      "model_module_version": "1.2.0",
      "model_name": "LayoutModel",
      "state": {}
     },
     "ef5217d3693c46279798711a8982e948": {
      "model_module": "@jupyter-widgets/controls",
      "model_module_version": "1.5.0",
      "model_name": "DescriptionStyleModel",
      "state": {
       "description_width": ""
      }
     },
     "f378c1917cc64c048d6f06001c6a2ab9": {
      "model_module": "@jupyter-widgets/base",
      "model_module_version": "1.2.0",
      "model_name": "LayoutModel",
      "state": {}
     },
     "f996961e83ad42478d65d660d99f44e7": {
      "model_module": "@jupyter-widgets/base",
      "model_module_version": "1.2.0",
      "model_name": "LayoutModel",
      "state": {
       "width": "190px"
      }
     }
    },
    "version_major": 2,
    "version_minor": 0
   }
  }
 },
 "nbformat": 4,
 "nbformat_minor": 5
}
