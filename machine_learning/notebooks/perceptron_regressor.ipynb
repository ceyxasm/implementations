{
  "nbformat": 4,
  "nbformat_minor": 0,
  "metadata": {
    "colab": {
      "name": "perceptron_regressor.ipynb",
      "provenance": [],
      "collapsed_sections": [],
      "authorship_tag": "ABX9TyM8efgS1mgorKCsKz+M3+8K",
      "include_colab_link": true
    },
    "kernelspec": {
      "name": "python3",
      "display_name": "Python 3"
    },
    "language_info": {
      "name": "python"
    }
  },
  "cells": [
    {
      "cell_type": "markdown",
      "metadata": {
        "id": "view-in-github",
        "colab_type": "text"
      },
      "source": [
        "<a href=\"https://colab.research.google.com/github/ceyxasm/ml/blob/main/perceptron_regressor.ipynb\" target=\"_parent\"><img src=\"https://colab.research.google.com/assets/colab-badge.svg\" alt=\"Open In Colab\"/></a>"
      ]
    },
    {
      "cell_type": "code",
      "execution_count": 39,
      "metadata": {
        "id": "wwtMZAejj7KB"
      },
      "outputs": [],
      "source": [
        "from sklearn.datasets import fetch_california_housing\n",
        "from sklearn.model_selection import train_test_split\n",
        "from sklearn.preprocessing import StandardScaler\n",
        "\n",
        "housing = fetch_california_housing()\n",
        "X_train_full, X_test, y_train_full, y_test = train_test_split(housing.data, housing.target)\n",
        "\n",
        "X_train, X_valid, y_train, y_valid = train_test_split(X_train_full, y_train_full)\n",
        "\n",
        "scaler = StandardScaler()\n",
        "X_train_scaled = scaler.fit_transform(X_train)\n",
        "X_valid_scaled = scaler.transform(X_valid)\n",
        "X_test_scaled = scaler.transform(X_test)"
      ]
    },
    {
      "cell_type": "code",
      "source": [
        "import keras\n",
        "import tensorflow as tf\n",
        "import matplotlib.pyplot as plt\n",
        "from keras.layers.advanced_activations import LeakyReLU\n",
        "\n",
        "model= keras.models.Sequential()\n",
        "model.add(keras.layers.Dense(30, activation=\"relu\", input_shape=X_train.shape[1:]))\n",
        "model.add(keras.layers.Dense(1))\n",
        "\n",
        "# model = keras.models.Sequential([\n",
        "# keras.layers.Dense(30, activation=\"relu\", input_shape=X_train.shape[1:]),\n",
        "# LeakyReLU(alpha=0.1),\n",
        "# keras.layers.Dense(1)\n",
        "# ])"
      ],
      "metadata": {
        "id": "ADSqnHQJkP6l"
      },
      "execution_count": 40,
      "outputs": []
    },
    {
      "cell_type": "code",
      "source": [
        "model.summary()"
      ],
      "metadata": {
        "colab": {
          "base_uri": "https://localhost:8080/"
        },
        "id": "7S5kmQd6malK",
        "outputId": "42be1ffe-512f-44e1-c9d6-67dbdb6e90b8"
      },
      "execution_count": 41,
      "outputs": [
        {
          "output_type": "stream",
          "name": "stdout",
          "text": [
            "Model: \"sequential_2\"\n",
            "_________________________________________________________________\n",
            " Layer (type)                Output Shape              Param #   \n",
            "=================================================================\n",
            " dense_32 (Dense)            (None, 30)                270       \n",
            "                                                                 \n",
            " dense_33 (Dense)            (None, 1)                 31        \n",
            "                                                                 \n",
            "=================================================================\n",
            "Total params: 301\n",
            "Trainable params: 301\n",
            "Non-trainable params: 0\n",
            "_________________________________________________________________\n"
          ]
        }
      ]
    },
    {
      "cell_type": "code",
      "source": [
        "optimizer = tf.keras.optimizers.Adam(lr=0.05)\n",
        "model.compile(loss= 'mean_squared_error', optimizer=optimizer)\n",
        "\n",
        "history=model.fit(X_train, y_train, epochs=30,  batch_size= 256,\n",
        "                  validation_data= (X_valid, y_valid))\n",
        "\n"
      ],
      "metadata": {
        "colab": {
          "base_uri": "https://localhost:8080/"
        },
        "id": "bD1sh3nbm-Zs",
        "outputId": "252d4fe0-73f6-4dbc-c02d-4e58fdd54d6a"
      },
      "execution_count": 42,
      "outputs": [
        {
          "output_type": "stream",
          "name": "stdout",
          "text": [
            "Epoch 1/30\n"
          ]
        },
        {
          "output_type": "stream",
          "name": "stderr",
          "text": [
            "/usr/local/lib/python3.7/dist-packages/keras/optimizer_v2/adam.py:105: UserWarning: The `lr` argument is deprecated, use `learning_rate` instead.\n",
            "  super(Adam, self).__init__(name, **kwargs)\n"
          ]
        },
        {
          "output_type": "stream",
          "name": "stdout",
          "text": [
            "46/46 [==============================] - 1s 4ms/step - loss: 31523.2637 - val_loss: 19.8472\n",
            "Epoch 2/30\n",
            "46/46 [==============================] - 0s 2ms/step - loss: 161.9499 - val_loss: 7.7765\n",
            "Epoch 3/30\n",
            "46/46 [==============================] - 0s 2ms/step - loss: 4.8321 - val_loss: 2.8324\n",
            "Epoch 4/30\n",
            "46/46 [==============================] - 0s 2ms/step - loss: 2.3705 - val_loss: 2.2585\n",
            "Epoch 5/30\n",
            "46/46 [==============================] - 0s 3ms/step - loss: 2.0005 - val_loss: 1.9367\n",
            "Epoch 6/30\n",
            "46/46 [==============================] - 0s 2ms/step - loss: 1.6961 - val_loss: 1.6759\n",
            "Epoch 7/30\n",
            "46/46 [==============================] - 0s 2ms/step - loss: 1.4381 - val_loss: 1.3566\n",
            "Epoch 8/30\n",
            "46/46 [==============================] - 0s 2ms/step - loss: 1.2311 - val_loss: 1.2233\n",
            "Epoch 9/30\n",
            "46/46 [==============================] - 0s 2ms/step - loss: 1.1338 - val_loss: 1.1008\n",
            "Epoch 10/30\n",
            "46/46 [==============================] - 0s 2ms/step - loss: 1.0272 - val_loss: 1.0178\n",
            "Epoch 11/30\n",
            "46/46 [==============================] - 0s 2ms/step - loss: 0.9668 - val_loss: 0.9713\n",
            "Epoch 12/30\n",
            "46/46 [==============================] - 0s 3ms/step - loss: 0.9094 - val_loss: 0.9244\n",
            "Epoch 13/30\n",
            "46/46 [==============================] - 0s 3ms/step - loss: 0.8717 - val_loss: 0.8941\n",
            "Epoch 14/30\n",
            "46/46 [==============================] - 0s 2ms/step - loss: 0.8327 - val_loss: 0.8756\n",
            "Epoch 15/30\n",
            "46/46 [==============================] - 0s 2ms/step - loss: 0.8060 - val_loss: 0.8391\n",
            "Epoch 16/30\n",
            "46/46 [==============================] - 0s 2ms/step - loss: 0.8012 - val_loss: 0.7710\n",
            "Epoch 17/30\n",
            "46/46 [==============================] - 0s 2ms/step - loss: 0.7552 - val_loss: 0.7753\n",
            "Epoch 18/30\n",
            "46/46 [==============================] - 0s 2ms/step - loss: 0.7298 - val_loss: 0.7452\n",
            "Epoch 19/30\n",
            "46/46 [==============================] - 0s 2ms/step - loss: 0.7166 - val_loss: 0.7563\n",
            "Epoch 20/30\n",
            "46/46 [==============================] - 0s 2ms/step - loss: 0.7104 - val_loss: 0.7303\n",
            "Epoch 21/30\n",
            "46/46 [==============================] - 0s 2ms/step - loss: 0.6942 - val_loss: 0.7134\n",
            "Epoch 22/30\n",
            "46/46 [==============================] - 0s 2ms/step - loss: 0.6803 - val_loss: 0.7216\n",
            "Epoch 23/30\n",
            "46/46 [==============================] - 0s 2ms/step - loss: 0.6855 - val_loss: 0.6868\n",
            "Epoch 24/30\n",
            "46/46 [==============================] - 0s 2ms/step - loss: 0.6698 - val_loss: 0.6959\n",
            "Epoch 25/30\n",
            "46/46 [==============================] - 0s 2ms/step - loss: 0.6752 - val_loss: 0.7108\n",
            "Epoch 26/30\n",
            "46/46 [==============================] - 0s 2ms/step - loss: 0.6573 - val_loss: 0.6800\n",
            "Epoch 27/30\n",
            "46/46 [==============================] - 0s 2ms/step - loss: 0.6525 - val_loss: 0.6692\n",
            "Epoch 28/30\n",
            "46/46 [==============================] - 0s 2ms/step - loss: 0.6505 - val_loss: 0.6812\n",
            "Epoch 29/30\n",
            "46/46 [==============================] - 0s 3ms/step - loss: 0.6416 - val_loss: 0.6581\n",
            "Epoch 30/30\n",
            "46/46 [==============================] - 0s 2ms/step - loss: 0.6428 - val_loss: 0.6525\n"
          ]
        }
      ]
    },
    {
      "cell_type": "code",
      "source": [
        "from sklearn.metrics import mean_squared_error\n",
        "\n",
        "y_pred= model.predict(X_test)\n",
        "print(mean_squared_error(y_pred, y_test))"
      ],
      "metadata": {
        "id": "hEAUHeEMnHn7",
        "colab": {
          "base_uri": "https://localhost:8080/"
        },
        "outputId": "a852de31-9400-4d38-b6ea-7706ea35e617"
      },
      "execution_count": 43,
      "outputs": [
        {
          "output_type": "stream",
          "name": "stdout",
          "text": [
            "0.6510923340015351\n"
          ]
        }
      ]
    },
    {
      "cell_type": "code",
      "source": [
        "##the prediction results are actually satisfactory"
      ],
      "metadata": {
        "id": "-jtdIz48yr6h"
      },
      "execution_count": 44,
      "outputs": []
    },
    {
      "cell_type": "markdown",
      "source": [
        "As we can see, the Sequential API is quite easy to use. However, although sequential\n",
        "models are extremely common, it is sometimes useful to build neural networks with\n",
        "more complex topologies, or with multiple inputs or outputs. For this purpose, Keras\n",
        "offers the Functional API.\n",
        "\n",
        "# Functional API\n",
        "\n",
        "![image.png](data:image/png;base64,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)\n",
        "\n"
      ],
      "metadata": {
        "id": "9lqrjXJO0FAE"
      }
    },
    {
      "cell_type": "code",
      "source": [
        "# functional API call\n",
        "\n",
        "input = keras.layers.Input(shape=X_train.shape[1:])\n",
        "hidden1 = keras.layers.Dense(30, activation=\"relu\")(input)\n",
        "hidden2 = keras.layers.Dense(30, activation=\"relu\")(hidden1)\n",
        "concat = keras.layers.concatenate([input, hidden2]) ##Concatenate() used in Sequential() model\n",
        "output = keras.layers.Dense(1)(concat)\n",
        "model = keras.models.Model(inputs=[input], outputs=[output])\n",
        "\n",
        "model.summary()"
      ],
      "metadata": {
        "colab": {
          "base_uri": "https://localhost:8080/"
        },
        "id": "t3dT0ocC0X_Y",
        "outputId": "db2f901b-ba2c-4719-a2ac-422fafa7222b"
      },
      "execution_count": 45,
      "outputs": [
        {
          "output_type": "stream",
          "name": "stdout",
          "text": [
            "Model: \"model_6\"\n",
            "__________________________________________________________________________________________________\n",
            " Layer (type)                   Output Shape         Param #     Connected to                     \n",
            "==================================================================================================\n",
            " input_11 (InputLayer)          [(None, 8)]          0           []                               \n",
            "                                                                                                  \n",
            " dense_34 (Dense)               (None, 30)           270         ['input_11[0][0]']               \n",
            "                                                                                                  \n",
            " dense_35 (Dense)               (None, 30)           930         ['dense_34[0][0]']               \n",
            "                                                                                                  \n",
            " concatenate_8 (Concatenate)    (None, 38)           0           ['input_11[0][0]',               \n",
            "                                                                  'dense_35[0][0]']               \n",
            "                                                                                                  \n",
            " dense_36 (Dense)               (None, 1)            39          ['concatenate_8[0][0]']          \n",
            "                                                                                                  \n",
            "==================================================================================================\n",
            "Total params: 1,239\n",
            "Trainable params: 1,239\n",
            "Non-trainable params: 0\n",
            "__________________________________________________________________________________________________\n"
          ]
        }
      ]
    },
    {
      "cell_type": "code",
      "source": [
        "optimizer = tf.keras.optimizers.Adam(lr=0.05)\n",
        "model.compile(loss= 'mean_squared_error', optimizer=optimizer)\n",
        "\n",
        "history=model.fit(X_train, y_train, epochs=20,  batch_size= 256,\n",
        "                  validation_data= (X_valid, y_valid))\n",
        "\n",
        "\n",
        "y_pred= model.predict(X_test)\n",
        "print(mean_squared_error(y_pred, y_test))"
      ],
      "metadata": {
        "colab": {
          "base_uri": "https://localhost:8080/"
        },
        "id": "d6Z0kXSX525R",
        "outputId": "633a7534-1fab-472a-884c-95769af12a3d"
      },
      "execution_count": 46,
      "outputs": [
        {
          "output_type": "stream",
          "name": "stdout",
          "text": [
            "Epoch 1/20\n"
          ]
        },
        {
          "output_type": "stream",
          "name": "stderr",
          "text": [
            "/usr/local/lib/python3.7/dist-packages/keras/optimizer_v2/adam.py:105: UserWarning: The `lr` argument is deprecated, use `learning_rate` instead.\n",
            "  super(Adam, self).__init__(name, **kwargs)\n"
          ]
        },
        {
          "output_type": "stream",
          "name": "stdout",
          "text": [
            "46/46 [==============================] - 1s 5ms/step - loss: 41344.9961 - val_loss: 507.8059\n",
            "Epoch 2/20\n",
            "46/46 [==============================] - 0s 3ms/step - loss: 96.0705 - val_loss: 10.1123\n",
            "Epoch 3/20\n",
            "46/46 [==============================] - 0s 2ms/step - loss: 3.5436 - val_loss: 3.8019\n",
            "Epoch 4/20\n",
            "46/46 [==============================] - 0s 3ms/step - loss: 2.5739 - val_loss: 3.0506\n",
            "Epoch 5/20\n",
            "46/46 [==============================] - 0s 3ms/step - loss: 2.3846 - val_loss: 2.6700\n",
            "Epoch 6/20\n",
            "46/46 [==============================] - 0s 3ms/step - loss: 2.2328 - val_loss: 2.4696\n",
            "Epoch 7/20\n",
            "46/46 [==============================] - 0s 3ms/step - loss: 2.0896 - val_loss: 2.1648\n",
            "Epoch 8/20\n",
            "46/46 [==============================] - 0s 5ms/step - loss: 2.2274 - val_loss: 2.0906\n",
            "Epoch 9/20\n",
            "46/46 [==============================] - 0s 3ms/step - loss: 1.8495 - val_loss: 1.8600\n",
            "Epoch 10/20\n",
            "46/46 [==============================] - 0s 2ms/step - loss: 1.7143 - val_loss: 1.7280\n",
            "Epoch 11/20\n",
            "46/46 [==============================] - 0s 3ms/step - loss: 1.6117 - val_loss: 1.6178\n",
            "Epoch 12/20\n",
            "46/46 [==============================] - 0s 3ms/step - loss: 1.5045 - val_loss: 1.5364\n",
            "Epoch 13/20\n",
            "46/46 [==============================] - 0s 3ms/step - loss: 1.4021 - val_loss: 1.4089\n",
            "Epoch 14/20\n",
            "46/46 [==============================] - 0s 4ms/step - loss: 1.3165 - val_loss: 1.3361\n",
            "Epoch 15/20\n",
            "46/46 [==============================] - 0s 3ms/step - loss: 1.2398 - val_loss: 1.2708\n",
            "Epoch 16/20\n",
            "46/46 [==============================] - 0s 3ms/step - loss: 1.1774 - val_loss: 1.1671\n",
            "Epoch 17/20\n",
            "46/46 [==============================] - 0s 3ms/step - loss: 1.1064 - val_loss: 1.1040\n",
            "Epoch 18/20\n",
            "46/46 [==============================] - 0s 3ms/step - loss: 1.0481 - val_loss: 1.0566\n",
            "Epoch 19/20\n",
            "46/46 [==============================] - 0s 4ms/step - loss: 0.9946 - val_loss: 0.9942\n",
            "Epoch 20/20\n",
            "46/46 [==============================] - 0s 2ms/step - loss: 0.9501 - val_loss: 0.9651\n",
            "0.9479210473889477\n"
          ]
        }
      ]
    },
    {
      "cell_type": "markdown",
      "source": [
        "* In practise, to make the most out of this construct, we can pass certain attributes through seep net while others are dealt in shallow.\n",
        "\n",
        "\n",
        "![image.png](data:image/png;base64,iVBORw0KGgoAAAANSUhEUgAAAiMAAAHjCAYAAADxKh+YAAAABHNCSVQICAgIfAhkiAAAIABJREFUeF7snQd4VEX3xg8kJKGF0JLQe6/SO4IFC6gIihXBhvq3Y+9+dlRsKCKgqAgqioo0kd57J0AgJCShBAhppBP4zztxl83u3WRTt73ne/b52Hvn3jvzmzX77plzzpS7qExoJEACJEACJEACJOAkAuWd9Fw+lgRIwAMInDt3TjIzMz1gJBwCCZCAMwlQjDiTPp9NAm5OYO3atRIREeHmo2D3SYAEnE2AYsTZM8Dnk4CbEkhJSZGtW7fKli1b3HQE7DYJkICrEPB1lY6wHyRAAu5FIDo6Wo4fPy4QJXhVrVrVvQbA3pIACbgMAXpGXGYq2BEScB8CFy5ckJ07d0pOTo4WIvv373efzrOnJEACLkeAYsTlpoQdIgHXJ5CYmCgHDhzQHYUg4VKN688Ze0gCrkyAYsSVZ4d9IwEXJXD48GE5c+aMuXfh4eFy9uxZF+0tu0UCJODqBChGXH2G2D8ScDEC8IRs375dsFRjMqT37tq1y8V6yu6QAAm4CwGKEXeZKfaTBFyEQFxcnERGRubpDWonbt68OY9AcZHushskQAJuQIBixA0miV0kAVcigGDVpKQkmy5FRUXJyZMnbY7zAAmQAAkURIBipCBCPE8CJGAmkJ2dLTt27BDTLhIVK1aUChUq6PNYttm2bZv5HLGRAAmQgKMEKEYcJcV2JEACEhsbK8eOHTOT6NevnzRr1sz8HrEkECw0EiABEigMAYqRwtBiWxLwcgKoLZKWlqYpVKpUSQeypqammqmgCJp1PImXI+PwSYAEHCBAMeIAJDYhARIQycjIyJMxExQUJP7+/lKtWjXBco3JUCLeMtOG7EiABEigIAIUIwUR4nkSIAFNALVF4uPj9b/LlSsnPj4+uhz8wYMHBcLEZPv27RPs5ksjARIgAUcJUIw4SortSMDLCcDjkZWVpSlAfKSnp+t/I0akSpUqZjoofmaqzurlyDh8EiABBwlQjDgIis1IwJsJYP+ZsLAwMwJfX19JTk42v0dKb2BgoH6PTBsGsnrzp4VjJ4HCE6AYKTwzXkECXkdg79695qWX8uXLS7169cxeEsBAUGvjxo3NXFge3us+IhwwCRSLgG+xrubFJEACXkEA9UNQBh6GLBoErvbt2zfP2E3LNjiIDBt4UkJCQryCDwdJAiRQPAIUI8Xjx6tJwOMJIGgVQaomQ3Dqpk2bChw3lmp69+4tAQEBBbZlAxIgAe8mwGUa755/jp4ECiSAiqtFKWQWHR3N8vAF0mUDEiABEKAY4eeABEjALgFTMCpSeRErYvnCMZMZnUfmze7du+3emydIgARIwPw3RP2xuUgcJEACJGCPwOnTp21OoQDajBkzdHl4WK9evWTo0KE27fz8/HRRNBoJkAAJ5EeAMSP50eE5EiABqV27tg0FZM8gvddkqMBq1M7mQh4gARIgAQMCXKYxgMJDJEACJEACJEACZUeAYqTsWPNJJEACJEACJEACBgQoRgyg8BAJkAAJkAAJkEDZEaAYKTvWfBIJkAAJkAAJkIABAYoRAyg8RAIkQAIkQAIkUHYEKEbKjjWfRAIkQAIkQAIkYECAYsQACg+RAAmQAAmQAAmUHQGKkbJjzSeRAAmQAAmQAAkYEKAYMYDCQyRAAiRAAiRAAmVHgGKk7FjzSSRAAiRAAiRAAgYEKEYMoPAQCZAACZAACZBA2RGgGCk71nwSCZAACZAACZCAAQGKEQMoPEQCJEACJEACJFB2BChGyo41n0QCJEACJEACJGBA4NIe4AYneYgEjAhcvHhRUlJSJD4+XmJiYiQpKcmoGY95MIHs7GxJTEw0jzAyMlL+/vtvDx4xh2ZEwMfHR2rXri116tSRGjVqSKVKlYya8RgJFEignPpiuVhgKzYggf8IJCQkyLJly2T//v1y6tQpycrKIhsSIAEvJxAQEKAFSa9evaRr165StWpVLyfC4ReWAMVIYYl5afucnBw5fPiwzJ49W06cOOGlFDhsEiCB/AiUK1dOmjRpIiNHjpSmTZsK3tNIwBECFCOOUPLyNhcuXJBVq1bJ3Llz83hCypUrL74VfKW8D1f7vPwjwuF7KQE41i+oHyo557PF0slerVo1GTNmjLRt29ZLyXDYhSVAMVJYYl7YHvEAn376qWRkZJhHX71WiHTo3k/qNGwqQTWDpXx5xkJ74UeDQ/ZyApkZ6ZKcqGLHIg7K3q3rJDXlUvxYzZo15YknnpCQkBAvp8ThO0KAYsQRSl7cJi0tTT755BOJjo42U2jbpZf0vPw6CahU2YvJcOgkQAKWBNJSU2TNot8l8uBes5ekS5cu8sADD/DHCj8qBRLgz9kCEXl3g9WrV+cRIq06dpN+Q4ZTiHj3x4KjJwEbApUqV5VBw26Teo2bm8/t27dPDh06ZNOWB0jAmgDFiDURvjcTQKbMgQMHzO+rBtWQXoOvFx/GiPBTQgIkYEDAzz9AuvW/WgIq5qb4ZmZmSlhYmEFLHiKBvAQoRviJsEsA9UOOHTtmPt+8bWepVCXQbnueIAESIIHgeo2kZkg9M4iDBw8SCgkUSIBipEBE3tsAv2pQ3AyGANUGTVt6LwyOnARIwCECKIQWXLeBue3Zs2cduo6NvJsAxYh3z3+Bozel66FeQNVq1QtszwYkQAIkYPm3gnU1+XlwhADFiCOU2EYRUMWLWMCInwQSIAEHCDCuzAFIbJKHAMUIPxAkQAIkQAIkQAJOJUAx4lT8fDgJkAAJkAAJkADFCD8DJEACJEACJEACTiXATUWcip8PJ4HCETh8YJ/EHI1UJbgTpEpgoITUqSfNW7eTgICKhbsRW5MACZCACxGgGHGhyWBXSMCIQHSk2i15xhRZsfhviTtxqe6LqW1FVWCqc4/eMnzUaBl8zQ3i41t2/1mnpZ6TSpWrGHXbpY5h1+ns7CyKNpeaFXaGBC4R4DINPw0k4KIEzmdny6xvv5K7bxgsP3/3taEQQdfT09Nkw6pl8uLj98kz4+6UU3EnSn1E8MxMn/SRvPPSk6X+rOI84OLFC7JnxxbF5S7ZsWl9cW7Fa0mABEqRQNn9hCrFQfDWJOBpBDIzM+Trie/KzGmTBKKkvCok1alrT7ny2hulXeeuElq3vqSrTQzxRbt62SLZuHqFnFM7pq5aukhOHIuV97/8Tho3K50idfCGvPLUg7J+5b/Ss98gl0a/YfVyeUmJtIz0dBl551iX7is7RwLeTIBixJtnn2N3SQLnz5+Xmd98IT9N+1ILkcBqQfLUy+/IldffJFWq5i3H37hZCxlywwiJCN8v7738tBYnB8N2y+vjH5YPv54pwaF1SnyMWVmZciI2WrD04eoWf/qUJCWcFX/G1Lj6VLF/Xk6AyzRe/gHg8F2PwIG9O+XHqV/oGIdqQdXl7U+nyk23jbYRIqae+/n5S5v2neWDr76XFm3a68O7t29W9/hczp/Pdr0BskckQAIkYEWAYoQfCRJwIQLwivz6w1RJUjEZ2ONj9LgnpP8V1zjUwzr1Gsizb3ygAkor6/bzf5sl0ZERea69cCFHLePE6FdKcpLd+8LrYWqXqDwLJWGp51LkWMxRORYdJclJiQXeEm1Mfbhw4YLd9ohfMbWDJ4lGAiTgfgS4TON+c8YeezCBY9GRsmntSj3CmrVDZPht9xRqtN17D5Arr7tJ5s35SSAiENjatEVr8z2SExNl3O1D9fuRd96rxY6RnT1z2tzu8quvlydfeltvlvjW84/JyeOx+ssftn/vLnni3lv1v68ffptcPexm/e83nnlYEs7Gy3U33So9VFzJoj9+kWWL5+lrsVdJjVq15bJuvWToiDu0Nwf3trY5SpT9NWemPjx74VqpXKWqdRP9fta3k2Xhn7/of3/+3RwdK7Nzywb5bvIn5qDf7Kws+fqT9+TXH6fpdhOnztZij0YCJOAaBChGXGMe2AsS0AQOqC/303En9b+79eov1WvWKjSZITeMlMXzfpMstevyupVLZORd95pjJuDxiIk6ou+Zn8cjJ+e8uR3iLky2ad1K7dkwWUL8aVmtgmZh7Tt3Mx/fuGaFFgKhqg7Kor/myJpli5Xg8NFeG3g5Tioxs2/nNln812/y6oRJ0m/Q1TaCJCEh3tyH/DwjCWfPmNtlKdEBO33qpLlfeA+P0N6dW8394+ZtZhT8Bwm4BAGKEZeYBnaCBHIJwNOAdFRYx649ioSlVbuO4u8foMXI8Zho7aFA9k1J2KPPvqbFEmJaTqsU4mYt28htYx/St27XqYvNI/75+3e9JNOwSTO556EndZvsrGz5d/5c+eX7b+TM6TjtRZkw+QctvkrK2nToLC+/95nsUbEz8BL5VqigPUHNWrXVj/Ax8MSU1LN5HxIggcIToBgpPDNeQQKlRgDLGLAKfn4qE6ZukZ5Ts1awDnZFTEj8GZVNkni2xMTINTfeojwq8eoLfqYWI6gAiy95e4bYl+ZKAGBZpEHjpuZmECVtO14mbzz7iCTEn5EpagmlzfTOdpdi7N3f3vH6DZuofjXRogxiBLvIwvvSV71oJEACrkfAdqHW9frIHpGA1xDA8gUM8QzFSUetFRyq73MuJVnXI3GWYQyPv/BmHiFi6svVw0bIFapuCmz3ts1yaP8+Z3WTzyUBEnAyAYoRJ08AH08CnkygSfNW0kkFqtqzQUOGai8QapdsXr/SXjMeJwES8HACFCMePsEcnnsRqFipUol0OEOViIdh3xosVTjLWqhN/FC0zZ41aNTUvLdN+P699prxOAmQgIcToBjx8Anm8NyLQL0GjXWHEeSJWI+iGJZmTPvTQAjYS4ktyr0Le03d+g3yvQTZQijaBjtrkbWT70U8SQIk4HEEKEY8bko5IHcmgEwYGFJrkQlSFEN6sMkzUlsFwRYlPbgozzW6BoGj+RliY8qVK5dfE54jARLwAgIUI14wyRyi+xDo0KW7BNWoqTuMTe+QjVJYW/XvAp3WC+vRd6BUDaxW2Fsoz0zu9YW+0OqCgsrRYwM70x43RQnYRb0QVl0t7izxehJwPgGKEefPAXtAAmYCqJba67+dcFE07LeZ0wtFJ/ZopCyY+7OuclpVLdFgcz17poWCamdksRaFzYzOO3rsmKpzkl+BMaQym7w4iC+xZ/YEBwJfTUtS9q7lcRIgAdcnQDHi+nPEHnoRAcRP3D72YbVBXg3JUfvUzJj8qSoPv8IhAtj7ZcLrz+kiZ7ArVdosanxYm2lZJO74McOdd1F0bdvGddaXFek9Nv2LV4XN7NnmdaskLfWcrs7a/rJLFVzR3nL55lhMlOEtUN4+PGyP4TkeJAEScB8CFCPuM1fsqZcQaNe5i9w6+gFdqOtcSpK88OhYWb9qqU5/NTIsc2BDvJcev0/WLF+sm2B/lrGPPC0VKvjluaSCqkQaHFpHH9uxeb0uimZp8GLs2b5F5v8+K89xe2/w7Pw8H1ER4epes+WCamdt2DTvz19/1Nc3ad5SOlulANer38h8ycolC7Q4s7T0tFT5afqXcurkcetb277Hco7V9baNeIQESMBZBPKPLnNWr/hcEvBiAhAh9z46XrAb7ZyZ0yRReToeHzNSBl8zTK5Qm+AhyDU4pK72KCAddt2Kf2TRn3OUR+SMpoaqqP+bOMWw0FjFSpWlw2U91L4xf+r9W557eLQ89PRLqkx7V/0c7DODUu9n1Z4zyMKBt8XaIHB8fSvowwf37VaiZoO0bt9ReVkuqPiUwDzNIVamTfpQp+8OG3mHzpyB+Ig8fFBXX41TyzTYJO+2MQ/ZVJzt1meA9phgX5mZ077U4mzoiNukWvWa+rlzZ8/QZeWrVa8hSXZ2FjalSmdmZqi2f0inrj318xGXw8BZ65nlexJwHgGKEeex55NJwC6BAFW5dPxr72kvxjeffSD6y3TBn/qVn6HM+tufTlOekRaGzVBgDOJj17aNeo+ZXds2ycN35lZBNV3gHxAg9z36jKz8Z74cUF/61gaRgvsf2LdLl4a/75Yhusktd98vL73zSZ7mOq1YhaW8/+p4JSgm6b1s4NHYuWWjHhMMXqChI2+3fozebXjMQ0/o3XczM9IVh/f1y9Jate0g16qdgT9991Wb63GgYZPmOoAXpfEX/PGzfsEWrN8ndes3NLyGB0mABMqeAJdpyp45n0gCDhGAcLhXiYJf/9kgN902WgekGhk8C63bdZLXJ3wpM/5YZleImK6FIJj26yJdit3PP7fGB87hPm3ad5a3P5kqd93/qNQKqaO+sBtJ9Rq2OwejX42aNs/TnXAlXKyXbNp37qq8NF9LaL0GemddLLdsWrtSCxHs6AvxMv7V9wTiy9rQn8dUKfnn//eRXnay9GRg7x0w+WLG79KkRSvdT7ywDGVpzZSgufO+/7M5flAJKRoJkIDrECin/ngYh9O7Th/ZEycRiI2Nlbfeeks/HS7y2x5+TgKDctNOndQlr30sljuwLANvxLGjUXr5xMfXV2oFh0hzlYVSR33ZF7bSKmIo4NkI271DZ9XUb9RE6jVsLP5YSlGkEaNy8cIFPfcQRpaGPxtYGkFw7ZlTKkBV1QpprMSJaSO6a3q2VktBx6Rnv8tl8k/z9JLTupX/ypFDB9WeOwECj0a33v0Fy0YFLZfgWRAvWNrB2GvUqi2NVYwJgnxRpwRsTKnIfqraLESMpaFmC5Z19u3arlOekULcb/DVJbZ5oNd+KPMZ+IGdm2XF/F90i0C1dPfhhx/m05qnSECEyzT8FJCAGxDAly6WG7r3HqBfJWG+EDO1Q2TAFdfY3A5lyPITNxAQiLsYcsNIm2utD6At4jquGz7K+pRD73E9PCfw2uBlbWDjo8re2zOIqbYdsUtwF3tNeJwESMDJBLhM4+QJ4ONJgARIgARIwNsJUIx4+yeA4ycBEiABEiABJxOgGHHyBLjP4y/q+AEaCZAACRRE4AL/VhSEiOetCFCM8CORLwFTcOEFHbCYW9kz3wt4kgQUgYoqhgPBqfnFnRCU5xJIPHupmJ51QLHnjpojKw4BBrAWh56HX1uxYkUJCgqShIQE7RWJPRIuDZu19vBRc3glQeD1j77SmSuBQdVL4na8hxsROJ+dJXGxR809Dg0NdaPes6vOIkAx4izybvDcKlWqCP6QQIzADu3bIR169Ff1LvgF4wbT59QuWpd2d2pn+PAyJRAVvk/i4y6V6G/dmj9gynQC3PRhXKZx04kri277q4JYnTtfSqVMO5csG5fNV3Ud8u4RUhZ94TNIgARcn0BKUoJsWb1EspV3BFa5cmVp29Z2s0bXHwl7WNYEKEbKmribPa9Xr15i+cvmcNhOWT7vZ0lVG7jRSIAESMBE4ERMpCye850kxufGiyDebODAgdKo0aUND0mLBOwRYAVWe2R43EwAlVg//vhjSUtLMx+rEhgkbbv0lroNmwr+XVAVTeIkARLwPALImkk4EyfREQfkwK7Ncj472zzIZs2ayf/93/9p7wiNBAoiQDFSECGe1/uNbN26VWbNmpVHkECAoCQ5dlalkQAJeCeBHLWtgPXSbf369eWee+6Rhg25GaF3fioKP2qKkcIz88orIEgiIiJk7ty5cuTIEZsN0bwSCgdNAiSQhwA2Kuzevbtcf/31UquW7QaLxEUC9ghQjNgjw+OGBFJTU2XNmjWya9cuOX36tJw7d47CxJAUD5KAdxCAh7RGjRo6865v377SsWNHm12SvYMER1kcAhQjxaHnxdcifiQpKUmOHz+uIucvrRN7MRIOnQS8kgBiQurUqSPVqlWjCPHKT0DJDJpipGQ48i4kQAIkQAIkQAJFJMDU3iKC42UkQAK5BOLj4+XUqUvlv8mFBEiABApLgGKksMTYngRIwEwAgc3r1q2THTt2kAoJkAAJFJkAxUiR0fFCEiABxA7t3r1bNm3axEBmfhxIgASKTIBipMjoeCEJkEB0dLTExMTIyZMnBf+mkQAJkEBRCFCMFIUaryEBEhBU34RHBJaTkyNbtmwhFRIgARIoEgGKkSJh40UkQALYzfngwYNmEKjSC1FCIwESIIHCEqAYKSwxticBEtAEDh8+LBAkJsO/w8LCSIcESIAECk2AYqTQyHgBCZDAebUfybZt22yCVnEMyzc0EiABEigMAYqRwtBiWxIgAU0gLi5OIiMjbWjs2bNHbxFAIwESIIHCEKAYKQwttiUBEtAEsByTnJxsQwNCZN++fTbHeYAESIAE8iNAMZIfHZ4jARKwIZCZmZmnyFlQUJAEBweb2yGQNSsry+Y6HiABEiABewQoRuyR4XESIAFDAqgrcuzYMX0OO7a2bNlS/7/JDh06JImJiYbX8iAJkAAJGBGgGDGiwmMkQAJ2CSAuJCMjQ5+vWLGiFiZ169Y1CxJ4TrZv3273ep4gARIgAWsCFCPWRPieBEjALgGUf9+1a5f5fGBgoM6ewTEIEpNBsKSnp9u9D0+QAAmQgCUBihF+HkiABBwmgNoiZ86c0e2xNFOhQgU5ceKE/jdiR0wWFRWlj9NIgARIwBECFCOOUGIbEiABTQDBqdnZ2frf1apVM1NB5VW8N8WOoA4Jl2r4oSEBEnCUAMWIo6TYjgS8nIB1+Xc/Pz85fvy4mQqESosWLczvkeKblJTk5dQ4fBIgAUcIUIw4QoltSIAEZP/+/ZKSkqJJ+Pj4SEhISJ69aJDOC8FSvnzunxXs5IvlGhoJkAAJFETAt6AGPE8CJEACIGC5ER6WYxATYllfBG0gUkyGwFaUh+/QoYNZoJAkCZAACRgRoBgxosJjJEACeQhYl39HTIgpkDU/VAh4jY+Pl9q1a+fXjOdIgAS8nACXabz8A8Dhk4AjBJC6W5RU3bNnz0p4eLgjj2AbEiABLyZAz4gXTz6HTgKOEkhNTZV27drlaY5lmKNHjwrOwZDaW79+fZtbmuJMbE7wAAmQAAn8R6DcRWWkQQIkQAKFJYAqrJMmTRKUf4f16dNH7rnnnsLehu1JgARIQLhMww8BCZAACZAACZCAUwlQjDgVPx9OAiRAAiRAAiRAMcLPAAmQAAmQAAmQgFMJUIw4FT8fTgIkQAIkQAIkQDHCzwAJkAAJkAAJkIBTCVCMOBU/H04CJEACJEACJEAxws8ACZAACZAACZCAUwlQjDgVPx9OAiRAAiRAAiRAMcLPAAmQAAmQAAmQgFMJUIw4FT8fTgIkQAIkQAIkQDHCzwAJkAAJkAAJkIBTCVCMOBU/H04CJEACJEACJEAxws8ACZAACZAACZCAUwlQjDgVPx9OAiRAAiRAAiRAMcLPAAmQAAmQAAmQgFMJlLuozKk94MPdkkBGRobExMRIRESEHD58WM6fP++W42Cni07gwoUL+jOQlpambxIUFCR16tQp+g15pdsSqFSpktSrV09atGghjRs3Fj8/P7cdCzvuHAIUI87h7tZPDQ8PlwULFkhUVJRAlNBIgARIAAQCAgKkYcOGctVVV0m7du3Ex8eHYEjAIQIUIw5hYiMQgPBYtmyZLF++XM6dO0coJEACJGBIoGLFitK/f38ZOnSo+Pv7G7bhQRKwJEAxws+DQwRycnJkzpw5smLFCov25aRSxUpStWo1CQqs4dB92IgESMDzCJxNPKN+oCRLekbukh1GCK/IgAEDZMSIEVKhQgXPGzRHVKIEfEv0bryZRxJAWNH+/ftl9erV5vH5+vpKi6btpGvnPlKjRm2p4Ms/Nh45+RwUCThAICfnvJw5e0r27NsqB8L3SGZWhuAHzNq1a/WyTZ8+fRy4C5t4MwF6Rrx59h0ce2JiokycOFHi4uL0FRAegwdcL21adVK/fqhnHcTIZiTg8QTww+XAod2yYs1CSU/P9ZLUrl1bnnvuOQkMDPT48XOARSfA1N6is/OaKzdu3GgWIhh05469pG3ryyhEvOYTwIGSgGMEypUrJ61bdJQunfoI/g2Lj4+Xbdu2OXYDtvJaAhQjXjv1jg08KytLkD1jshrVa0vPbgOkfHl+dBwjyFYk4F0EIEI6tusmtWqG6IEjBXzv3r3eBYGjLTQBfqMUGpl3XZCamipHjx41D7pZk1aqhgCj473rU8DRkkDhCFSqWFka1Gtivgj1iGgkkB8BipH86PCcLmZmmcZbr04jKaf+RyMBEiCB/AiYPCNog78jWK6hkYA9AhQj9sjwuCEB0zqw4UkeJAESIIH/CPj7BeRhwWLf/GjkR4BiJD86PEcCJEACJEACJFDqBChGSh0xH0ACJEACJEACJJAfAYqR/OjwHAmQAAmQAAmQQKkTYMWqUkfMB5BA8QkgPTJFldvOVPsDnVfVLpHRhFL8FdWLcTzF58s7kAAJOJcAxYhz+fPpJJAvgXOpKbJl6wZZumKxqvcSJolJCXrDwqpVA6V2rWBVfK6DXHP1MGndur34M+U6X5aWJy9cyFG1crijrMPA2JAESpkAxUgpA+btSaAoBOAJ2bh5rUz6+iPZtn2TzS1OnT4pEUfCdZsfZ0+TIVcNk2efek1CQ+rYtOWBSwSQ0XE2IV5+m/uT3HP3OAnwz5vxQVYkQALOIUAx4hzufCoJ2CWQnZ0lP8yaJp9N+kAyMzP0Mgw8IT269ZFWLdpK5cpV5GTcMdmybaMcVN6S7Oxsmb9wroTt3yPfTvlF6oTWs3tvbz4BIfLvsoXy9vsvi6+vj9x1x/3ejINjJwGXIkAx4lLTwc6QgMhvf8ySTz5/V4sMf39/ueeucTLuvselSpWqefBgV9T1G1fJuxNekyORh/TrpdeelGmTZ3PfIIMPEgpvQbTFnToh9erWN2jBQyRAAs4iwGwaZ5Hnc0nAgMDuvTvksy8naCESEFBRJrzzpTz9+Es2QgSX+vj4SP++g+XLT2dI3boN9N02bFojv/7+k/rXRYO78xAJkAAJuCYBihHXnBf2ygsJ5KgsmZlqeSZBxTRgI8I7Ro1RsSDXF5gt06RxM3l03HhNDEsRP8/5XtLScrdv90KMHDIJkIAbEuAyjRtOGrvsmQSioiNVQOo6PbjatUKUGBk1RJuRAAAgAElEQVSrhEjBvxcQU3LlFddqERJQsaJ0bN/FcFdlCJXYY9GyfOU/snX7Rjl0+KDaMyRbIGbat+0kVw6+TmXltBMfgyyT3Xt2yDq1JFQ9qIbccP0IvRPr6rXLZNWaZRJz7KhUrRIoDRs0Vp6aQdK3z+WG97CctWPHY2TJ0gWyVcW9HD5yUIuo+vUaSbeuPeUq1Y8WzVvbneSooxHaA7Rn306JiAiX+LNndNumTVqomJo2KrvoBmmjsossd5besWurxMYeVbE2x3XbtPR0WfLvfL0MFhxcR7p16Wn3eTxBAiRQ+gQoRkqfMZ9AAg4R2Llzq5w+E6fb9urRV305N3ToOjQKrFpNvp40Uy/tVK5U2ea6zKxMmfvnbJn67SQ5fiJWf/mbLEZ9Sa9eu1x++X2mjBp5t9w35hGpUjlvfMr2nZvl0y/ek2ZNW0jzZi1l6vQvtCDAfS1tjrrHTTeOkicffUGCqlW36QdSan//Y7Z8OWWiFgaW/TiqxBhiYH6Z86M8/n/PyYibbs9zfbYSTj//+r1898PXNmNAQ4xj1ZqlOuZmzOiHZKzKljHtMP3DT1Nl4eI/zfeD9+mFVx/X7wdfPoRixGameIAEypYAxUjZ8ubTSMAugb1hO7XHAZ6Onj36Fbg8Y3kjXFOzRi3De8P78f2PU5QA+FjXKEE2DjJzenbvK5WUcNmpvAbLVy1Ru6qelm+UyEBxtedUmrDpi9zypsnJyfLG289LZNRh5VFpLp07dZMa1WvKHhXrgniXc+dSlGD4QYKVZ+ehB57M453A2P746xd5Z8Krkp6epuNg+vUZJJ06dNHZQtt3bJZlqp4KRMpHn7ylgkwbKFHWz/x4CJGJn72jvBppUrdOfenda4DyhjTX4z6j+r5aeWngAUHq7tdTP5XLVN8wTlgz5TXp1qWXRKggXwgRjK19u07ag5OfF8YQKA+SAAmUOAGKkRJHyhuSQNEIHDseqy+Ed6Oe+rItKUMK8DfKIwIhElw7VF5/5X25vP9VKr019z//kcPv0IXV3nr/JTkccVDmqADYzh26ytDrbrbpAjw3SckJMkZ5HcaoLJ/atUN0myyVjrz4n3ny0utPqeDbLFn4z58y6pbReQRSdEyUTFRZQhAi1ZWA+eDtz/Wyjqn42PAbRsnlA6+SF199QgsKeGJmfveX7ieWdb79frIWIlhW+uDtL6RTx655+nf37ffL5G8mytTvJqmYmVSZN/83sxh59OFnZNz9T8j45x+Sf5bOV8tgtVXW0c+GXiSbQfMACZBAqRMoeEG61LvAB5AACYDAyZPHNAgfFbzq61uhRKAg/fenn7+TlJQkXeBr/BMvy5WDrjULEf08lZXTq2c/eeWFd/TSSkZGusyY+Y2OJzGyHt36yiPjnjYLEbTxq+AnNwwdKd279tKXnDodp0WHybAcs+ifv7QHA16cRx8aLwP6XZGnCipEx+CBV8vlA67Sl6Fuyv4De/W/d+3ZLqhG6+vjK7fcfKeNEEGbgIAAuf3WMeYlJqTw0kiABNyDAD0j7jFP7CUJFIkAAlb3he3S1zZu1EyGqNLx9qzrZT3Vl3wXHZSKZRiIgY5qCcXarhx8jfIoVLE+rN+3a9NRxX2slqSkRF2wzWTwVKzftFq/RXwLvCBGe+pUUKJm9J0PqL42laZqGSjkv4qyvdSS0leffa9iak4pwdPbfF/rf4SG1pUKFXKFHJ6ZroRVReVpopEACbg2AYoR154f9s6LCGDTu5I2LG/ASwFr26ZDvl/Mfn5+Ks6iuxYjqampEn5ov6EYada0ld1uVrMIWk1JSTa3g1fj2LEY/b5Vy9wqsvZu0lktv+BlaTVUXAhelgZvCzw/iEXJUYGxEE/woKQqEQLLzMqSbPWiGLFHmsdJwHUIUIy4zlywJ15OoEH9RrJz9zbJUl+gaem5X6jFRYJYDtNyCzwjBRk8ErCLFy/I0ZhIw+aBKtjUETubeNbcDHVPsJ8ODOMsjmFPHnDCEk606mPcqZMSHR1VYsyK0zdeSwIkUDQCFCNF48arSKDECTRQdTpgEBAHw/frmIrCmCllF1koRTVTJVdcj/LpJWVI6UVVWZgpcLaw94bwQOn7NeuWG/YNGTnIEFq7fqWOe6GRAAm4DwGKEfeZK/bUwwkgDXX6jC9VrEWmrF63TNX7eNjhbe6xVIFsE+xG20h5N5558hVdKr6wdk6l9ZoMhcxKyhAfgiJk6Od5VWm2sIbA1/978l5VqG2/rk2CJRsUakNqL5Z94G1BvApSdgde1ZlipLCA2Z4EnEyAYsTJE8DHk4CJAOpdNGzQRH3hHtCekQMHw3SchyOGgNF/ly/UAZtYxjCl3KIAGlKF4SmIjo0q8FaRURG6DYQDgkFLygICKknNmrXltIpfMcWO2Ls3CqntVrEfCJKtqza0Q4YPRJpJiFx/7XB56rEX9Rj9lfiwDISFkLtgUdDN3jN4nARIwLUIMLXXteaDvfFiAijedc1/2S7JyYny4+xpOn6kINN72syerlKDc0udY6miSaPm+jKUlUcJdxi+4NNVGXR7hmWZjZvX6tMIpm3cMDd+xF77whyvqMrU164ZrC9BYKxlpo31fSIjD8u4R++SseNulVm/fKdPr1y9VHtEIGgeUvVC4AlBqrJ1Rg6WcrKsqsJa35/vSYAEXI8AxYjrzQl75KUE8MV6w/Uj9dIDvngXLPpTpkz7LE+9Dms0ECLYawblzmHIiLlHFSTDniuw+vUaSOtW7fS/UW59qfKe2DPs9bJ95xZ9OiQ4VJrnsz+MvXvYO14tMEi6/Lf/S4IKbMW+NJal4E3XITvm74W/q2yec7o2Svu2nfWpMyqlF4Yy9YgNsWeLl/zNTQLtweFxEnBhAhQjLjw57Jr3EcAvflQKhWcC3oOvp30qTz//sOzavV3wJW76AkeqLJZjPp30gbz8xtOSrL64IWZuHXG39Ot9uRkciqfdfus9ugQ87veJqmq6eet6nS1jaUdUmXSUWkdJeNT6uPO2+1Q9EPtf+oWdGSz73KIqvVZVNUYwhg8/fUt7aiwFCYTIpi3rdMl4WEu16V3P7rnl3OspUQVDBdiD4WE2QgZVX+cv+kMVa5ui4lJydFvEp1ywGKfCowu8wRCDAi9Kbnpw4WNY9E1oJEACJUaAMSMlhpI3IoHiE4CguP6am3TRsEmTP9IiY/nKxUpArJNGKp4EcRL4Yk9MTFA78B411xDBl+yVg6/VG9RZ7laLHvVRe7igkBjiLlB35MlnH5ShKu4Ce8IgngQpsvMW/K48J0f0l/V1Q25QRcluLf5grO7QonkrXXl14ufvSFzcCXls/H3qWTep2iZdVZ2QC2pvmk2yeMl8vQsv4kSe+L/nlYcnQN8FO/GGHzqgy7xjb5y777hfZ84gMwf1RRDwCw+Rr08FXYIe90AwLjwspg37fFT1VlO2EGJLxiuRh52GsfkfuEGE0UiABJxDgGLEOdz5VBKwSwBfiviybdGslXzx9UdaLGADun37d4vsz3sZxEPtWsHKk3GvvsaocBruhzgLBIRO//4rOau+qL9X5d6tDcsf2I/maRUcCk9KSRvEAPqIPn/+5QQtSL77YbLkRoXkPg1iDON57unXZZAqDW+yO28bqz1B//z7t5xQZfMnTHwzT/cgSpqoOipPqXL3G1QF2B9nTdP728ADYkp1xr1vVCXr56iMo6SkBH0/vCDqsNcO4mtoJEACziFAMeIc7nwqCeRLAN6NPr0HSneV7rt1+0a1kd16CVdZNqimimUIvwr+Ooiz62U9pH+/wVIntF6+94MH5P6x/ycD+1+hvCC/6d1tDylPA6xmzVq68urNN94ml3Xubl7KsLxh75795c1XJuhDof+VaDd6YL8+l0tVtRsvrJVaZrE2CBEIEuxh85fayG6HilFBLAuWaOrXbyhdOveQETfdJm1a580iQprxO29M1AJlgVqOCVMCLVUJtKCg6nrX3cGXD5EhVw7VOwGHqngXxMxgmeacRRVY9AVtp375k8xQuxjHHo/WyzQQMeXKccXaeq74ngTKkkA59R/jxbJ8IJ/lXgROnz4tr7zyirnTw4fepfYMsV8O3L1Gx96SAAmUFoHww/vk78U/69tjv6A33nhDatXKW9K/tJ7N+7ofAf4ccL85Y49JgARIgARIwKMIUIx41HRyMCRAAiRAAiTgfgQoRtxvzthjEiABEiABEvAoAhQjHjWdHAwJkAAJuAaBnP/qvbhGb9gLVydAMeLqM+Tk/iH7ISAgt9YDunI28YyTe8THkwAJuAOBM/Fx5m4i9bpy5cru0G320UkEKEacBN5dHos9RerUqWPubmRUuNq+PXcreHcZA/tJAiRQtgQyMtMl5lik+aENGjRQNXAqlm0n+DS3IkAx4lbTVfadhVekefPcTdfw9NjjURIRecCmHHfZ94xPJAEScEUCqBaxN2ybxJ3K3bgRxebatLGtOeOKfWefnEeAYsR57N3iyfhD0rNnT/OvGhSSWrPhX1XZMo6CxC1mkJ0kgbIjACFy/GSMbN+10bxHUNWqVeWyyy4ru07wSW5JgGLELaetbDtdr149GTJkiPmhSckJMvfvH2Xv/u16u3bWzSvb+eDTSMDVCOBvAP4WbN+1Qf5e9LOknEvSXUSsyHXXXZdnqdfV+s7+uAYBVmB1jXlw+V5kZ2fLxIkT5ciRI+a+wmsSGlxf6tdtpHdjpZEACXgngaTkRImOjbDxmLZv314eeughXYGVRgL5EaAYyY8Oz+UhkJSUJFOnTpXDhw/TG8LPBgmQgF0C+KHSrl07GT16tFSrxh8qdkHxhJkAxQg/DIUigA3NVq5cKfPmzZOMjIxCXcvGJEACnk8gMDBQbrjhBunTp4/hpoueT4AjLAoBipGiUPPya7A+HBcXJ9u2bZOIiAj9b4gUmmsTwLylp6fr3WyLa5hvy/sgNgC/hrGcVxhDHRu8sEsx7mH6d2HuwbbOJ4C5CwkJkdatW0vnzp31hnj4PNBIwFECFCOOkmI7QwL48snKyuKyjSEd1zoIAfHrr79qEVkSZgpcrlu3rtx9991aUHzzzTcSHx/v8O1NX1j4f9MLggRfZsjC6NSpk/To0cPh+7Ghcwhg7vz8/Bgb4hz8HvFUihGPmEYOggQcI7Bz506ZPHmyY40LaAXxgV/Cd9xxh9SuXVu3Pnr0qI4rOn36dAFXF3waQY9PP/20NG3atODGbEECJODWBJja69bTx86TQOEItGjRQoKDg80X4RdtpUqVdKluey/84rU2uOX79u0rY8eONQsRtGnUqJHcd9992mVvaWgP4QIBA3EBb0rNmjWlSpUqennGyNDXJk2aGJ3iMRIgAQ8jQDHiYRPK4ZBAfgRQkrtDhw7mJhAHXbp00cts1i8IFRS8g1ixNFTlveaaa+SWW24RBCtaGwTEmDFjJDQ01HzKFFOEZyHWxPJZaIRaNpYeEHhFrrzySsYdWMPlexLwUAIUIx46sRwWCRgRgPjo3r279lDAIBKOHz8umZmZkpaWZn4hUwpejv3790tiYqL5VhAfo0aNkmuvvVb8/f2NHqGPQVggrdMkSCA+Dh48KKmpqVK9enU5ceKEnD17Vr8/f/68jjWwfE6zZs20J4VGAiTgHQQoRrxjnjlKEtAeiXPnzklycrLN0giWS0wGTwhERHR0tBYNJsOxe++9V3r37m1zvRFeCIp77rnHvCwEQXLgwAEtfFAe3BS8imUgBKtCnMAQwAqPDP6fRgIk4B0EGMDqHfPMUXoxAWQ8xcbGyvbt22XPnj15BAaw4EsfnoxDhw7p+I+OHTvK+vXrdRqwyRo2bKiFiOUOzo4ihUdk+vTpgqJ5JkP65759+3QqcMuWLeXMmTNmMWKKK7n66qv1BmtGMSuOPpvtSIAE3IMAxYh7zBN7SQKFIgAvREJCgk7jxQtejvxqwSCVFsslWJrZvXu3OVUb3guIE8SAWMeOFKZDWO6BIElJSTFfhm3l4Xnp1q2bbNq0yTA9HIGu2BcJbewFuhamH2xLAiTgmgQoRlxzXtgrEigSAcR6IH13y5YtOt7DngBBECo8DliygdWoUUOX7Y6MjDQ/Fx6KQYMGyYgRI0pkySQ8PFymTJmil4pMBg8J9jsy9cPeoJEBdPnll+uqngjCpZEACXgWAYoRz5pPjsYLCaDoHPYL2rx5s+zatUsvr5gKklnigPhAumzXrl11zMaOHTtk5syZhhVZIVYgQvr371+iGS1YCvr666/zCBJTHyF+hg0bpoNo4SmxFijw0kA0DRgwQMetcM8TL/ywc8geS4BixGOnlgPzZALweCAOBIICsSAI/jQqxY4veCyHIKUW1UyxHGPaQRWZLK+99pqNMEC2CwqZIQXYFGRakiztCRKk9z755JO69gjiS9auXatfllk26Af6FBQUpOucINDVsm5KSfaT9yIBEig7AhQjZceaTyKBYhM4efKkDvyECDl27JhdLwiKjmHXVHhBEHeBpQ0jYTFjxgzZsGGDuV+IGbnrrrsEAaulaciqQQyJyfuBvg0fPlzHh5gM3h2ch8dnzZo1curUqTweH1yDVGOMEd6SogTXluYYeW8SIAHHCVCMOM6KLUnAKQTgJYA3AYGoiK/Ae6NlGHwxN2/eXO/lgsJjWMYwEiCWg0B2DeI4ELyKQFUszVhXTy2tQYeFhcn333+vPR8QEo8//rhehjEytMH4sXwDj5B1LAzG2rZtWx3jAk+QqY6K0b14jARIwPUIUIy43pywRySg4ybg+di6dasOREXqq/UXMDAhwwVfvggExZcxliwK80WMgNcJEyboWJKhQ4fqeh9laXv37tVxKwhOhVekIPGEbBzExaxbt05iYmJslqawxANRhUDXxo0bc+O2spxMPosEikGAYqQY8HgpCZQkAQSiYikCyzDIiIEYQYEwa0MgKuqBtG/fXseBQIwUpxYH0n5R0Kw497DuY2Hew0MCzwhiVRw1iDWItBUrVujN+cDO0hCAi2WqgQMHalGSX7VYR5/JdiRAAqVHgGKk9NjyziRQIAF4OxAXgRgKLENERERor4i1oTAZvBbwfiBGAssw2NjO2w1iDUXVli9frtlZixIILBRVu+KKKwQVYSlKvP0Tw/G7KgGKEVedGfbLYwkg3gPLI1FRUTo4E7/wUaDM2rBkgV/4CCZFKiuqkSKLhGZLAKXu4VFCoKup5LxlK4g5LEUh0BUeJYoSW4Y8QgLOJEAx4kz6fLZXEUCQaFxcnC5IhmUYy31frL84sWyCDe1QD8Ry91uvAlbEwaLmyrJly7Q4sV7mgsDDsg2Wb5DuTFFSRMi8jARKmADFSAkD5e1IwJoAsl8QiIoXvCH4FW9k8Hqg7Dm+JLEMU5hAVKP7efsx7EYMUQLvk/XyDdggawj734A5PFA0EiAB5xGgGHEeez7Zgwkg7gOBmUhFxbKB0Zchho/6Hwi0RPGu1q1bOy2I1IOnQuLj42X16tV6CQeF3qwNacGDBw/WRdTKOpvIui98TwLeSoBixFtnnuMucQJYhkE9EHhAUL8De7AYpeNiwzcEVSIdF8swCERFTAOt9AggTge1SpASjKqu1jE6pqquvXr10iXwa9asWXqd4Z1JgARsCFCM2CDhARJwnACWXJCCixgQVEU9ffq0oRcEYgPlzlEDA9kwKMvurFRax0fneS1NVV0hSBC7g4q2lgXkTFVdUTgOQcOYMxoJkEDpE6AYKX3GfIKHEcCXF0QHsmCQjgsxAve/dVVUfLGhHgiWXxCXUL9+fV2krKDCXh6GyyWHg7lCATV4seAtQXyJdSwPlmwgHCFKkNHEGB6XnEp2ykMIUIx4yERyGKVPAPVAUMsCG9NhOQZuf2sBgl4gBqFp06b6iwzl2fGeX2SlPz9FfQLm1ZQWjABj66U1VHVFfRdUiYUoMW00WNTn8ToSIAFbAhQjtkx4hATMBNLT03UKLgQIvrCQmmv9ZYXGCERFCi4ECOpYwCOC2BCa+xBAjA+8XVjCwR5A1kHHiO1BrA/SglFAjcts7jO37KnrE6AYcf05Yg/LmEB2drbOwMC+KYgFQbl063oV6BJ+IWNjN4gPpOOiLDvrVpTxZJXC4yBCkAmFqq7wlFjPPeYYBegQ6ArPF9OCS2ESeEuvI0Ax4nVTzgEbEUC8AGIIwsPDdRwBlmGM0kCx3AK3Pb6MIEDwZYT3NM8jgM8E0rKXLl2ql+dQNdfSEJRsKjWPzwG8YzQSIIGiEaAYKRo3XuUBBBDvgV/B8HygHgg8IdYpnxgmAk7hBUHlTtQDQfyAva3uPQALh2BFAKIEyzbYlA+fEWtRgs8HYkmuuuoq6dChAz0l/ASRQBEIUIwUARovcW8C+HIxlWVHNgzSO40MXhBTHAi8IHXr1jVqxmNeRADLNiieBu+ZtSgBBqQCY/8b1Cvh8o0XfTA41GIToBgpNkLewF0IYBkGgagoD45futapnKZxBAYG6mJk2BsGgYrMhHGXGS67fiK1GzEl+Cwh8NXaUDQNga5IC8bniUYCJJA/AYqR/PnwrJsTwK9XBCPiSwPr/3hvlI6L9X4sv6AeCP4fQYqsB+Lmk1/K3TfVKlm1apXgBbFraaYCagh0Ral5Lu2V8oTw9m5NgGLEraePnTciYCrLvnv3bp0NgzoSOGZtSL2F56NTp07aE4JfsEzHtabE9wURgCiBd2T9+vV6CQdeE0uDKEGQM+KNUKsEad80EiCBvAQoRviJ8AgCWHJBFU3sCYOlGMSEWKdkYqDIgEDsB9JxURMkODiY6bge8Qlw/iAgSrBDM7YFgDCJjY21WQpEVVeIXyzhIBWc3jfnzxt74BoEKEZcYx7YiyIQgABBPRCk4+ILAMGF1q5y3BZ/8LEXDNIvsQzTqFEj/UuVXwRFgM5LHCKAzyG8chs2bJCjR4/aeOYgSiCI+/Tpo6v10iPnEFY28mACFCMePLmeOjQsuyAdF5kwBw8e1Om4RsGo+IOPdFxkwrRq1UqqV6/OYFRP/VC46LjS0tJ05V7ElECUWFd1xV5FiFFCBg4+qyya56ITyW6VOgGKkVJHzAeUBAEsuSAFFwIEAako0W4UB4J0ypCQEC1A2rVrJ3Xq1OGvzpKYAN6jWASwrQAKpy1btkwOHz5sI0pQWh4F1AYNGsSqrsUizYvdlQDFiLvOnBf0G2IDm9GZAlGRjotS7dYGFze8HhAfiAPBMgx/YVpT4ntXIIDPNLx5K1eu1MuL1rVKUFwPyzYQJajyy1olrjBr7ENZEKAYKQvKfIbDBLDcAtc2/mCblmGM6jig9odp4zIIkNatW+v3NBJwBwL4nGPLgdWrV2tPHz7zloZ4JsQ4ISUYAa9YzqGRgCcToBjx5Nl1o7HhFyPW1FEPBCW3z5w5Y9h7eEGwto5A1I4dOwqKS9FIwJ0JIP4JyzcIeMVypHUdHGTdwFOC9HPUw2HgtTvPNvtujwDFiD0yPF4mBFCTYcuWLfqFOBDrP8SmTkB0oMQ2YkFQcttb/yDDrW+UMVQmk8WHlCoBpKMjJRjp6daBrngw/htAATWIcMSY0LyPAJbxgoKCPHLgFCMeOa2uPSh8me7atUt7QbBubk+AoAgZ/vCiWFSLFi28UoCADepVYC+U/fv3G9aucO3ZZu8KS8Defw+m+3irEC8sR09tD0GCWkn42wgPMQL2PcEoRjxhFt1gDMgmMMWBINUR743ScbE2DuGBfWGQ8gi3tLfuDQNGS5Ys0XugWAc6usGUs4skQAKlSACiFH8vUUBvyJAhbh/sTDFSih8Wb781Ml8QB4KCZFgPR3VKo2wYVEVt0qSJzoRBIShkxkD9e7OB2+zZszU/I9HmzWw4dhIggUsE8GMNdZRGjx7t1vsfUYzwU12iBOBiRll2ZAhgaQHr4PiFb21Q9agBYirLDlcjvCA00enMkydP1hVlTVbBVwm2RsHSpkU9qRtaQ8r7lCcqEiABLyOQmpohp84kS3jEcYmMPiU5ORc0Afw9RWmDe++9122zCn29bC453FIkkJOTI4sXL9bVJuEFsTb8BwOvh6ksO7JiqlWrZt3Mq9+D4dKlS7VHxGS1awbKTdd2lw5tGqr6Kd7tMfLqDwcHTwL/EUjPyJI9YdHyx6LNcjbhnI67ww/AFStWyPXXX++W8XUUI/x4lxgB1AP5559/bDaowz4wDRs2NJdlxz4x3hoHUhBsxNWsXbvWHNQbGhwk/3fvEAmuRdFWEDueJwFvIVAxwE96dGkuoSFB8uW3/0hiUqpezkU2FoJaQ0ND3Q4FxYjbTZnrdhj/MVjulIv/IEz1QJCOy83ACp47bKxmWtYKUF6QEUN7UogUjI0tSMArCTSsV0tuGNJVZs1dp7bHyNEbhyI13B3FCBeevfIjXDaDvvHGG2XYsGG6PDuFSMHM4VmKiYkxN2yt4kPaq6UZGgmQAAnYI9D9suYSYuE5RQmAgtLD7d3LmccpRpxJn88mAQsC+FWDHYlhOiCtdQMpr/6fRgIkQAL2CPhV8JVWzeuaT+PviPX2AvaudaXjFCOuNBvsi1cTwDKXKY0X2TO1qlf1ah4cPAmQgGMEQmpfiilDTSKj/bwcu5PzWlGMOI89n0wCJEACJEACxSZQqaK/+R74QYOsPHczihF3mzH2lwRIgARIgAQ8jADFiIdNKIdDAiRAAiRAAu5GgGLE3WaM/SUBEiABEiABDyNAMeJhE8rhkAAJkAAJkIC7EWDRM3ebMfaXBEggD4Hs7PPy/sQZciQqVh//9INnpFpgFYcoffPdXNmwebdu+8wTo1U6dVPzdajVMOCaB/T7667uKy+OH+vQPS0bRR09Lm++/40+dOeo6+TKy3sU+h4r126T73/6W1/38rP3SfOmDQp9D1e7AFxWqHGtWbddoo6ekAsXL0iD+qHSo2s7uXpwL2nVopGrdZn9KWUCFCOlDJi3JwESKF0C2CxswZK1smnLXv2g9998zGExsmbDTpn580J93Z23XptHjK/CBCcAACAASURBVODYWnUe1qJZ0QTAmbNJMuOn+foeXTu3KZIYCT8Ubb7HA2Nudmsxkp6eKZOn/yaTp/0mRyJjlQi5qNmY7KdfFkqd0Nry9KN3yv89eKsE+PvlOc83nkuAYsRz55YjIwESIAGXIQBP03sffyfvfvyt3m02qFpV6dGtnXTp1FoCAvy1h2r9pt1y/MRpef61zyVHpaiOf/Qu8eEO1S4zh6XZEYqR0qTLe5MACbgxgXIy/cvXdP+L6hlx48GXeNe37zogH37+oxYizZvWl28+f0UG9O1iFhs4/u/yjXL/Y2/LseOn5H/vT5X+vTtL7x4dS7wvvKHrEWAAq+vNCXtEAiTgAgRQif/eu2/Qr/59LnOBHrlvF1CI69sf50lGRqbe6mDSx8/LoAHd8ng94AG55qo+MuGtx/VAU1PT5ftZC7R4oXk+AYoRz59jjpAESIAEnEoAQcZr1u/QfWjbuokKVG1vtz833zBYqlatrM/v2hMu51LT7LblCc8hwGUaz5lLjoQESKAECSDGYdzj7+o79unVUcbcOczm7ti2ff7iNTJ1xh+yccseSUo6J00a15Orr+gl4x+7y6a90YGUc6ky69d/ZNacxbJ95wHJzMyS1q0ay/Chg+Tpx+40usTw2N+LVqv7LJbN2/ZJdOxJ8fOrIB3aNZerLu8pD4wdLg1VtoqRhR8+Kh99NlMqVQqQpx69Q0KDa8qcP5bKTBVMevDQUR3P0ahBqAwe2EMeVPdBrEehTXlDOrZrISHBNaRzh1ZSuXKA3VtU8PWVGkFVJSUlVdLTMwSMaZ5PgGLE8+eYIyQBEigiganf/6GvPJ9z3kaMJCalyFMvTJSffl0k+OVvssNHYiRCZYosXbFJfXnfnO+TkVHywOPvyKq12/PsJ7Jn32HZFxYhS1duUktEXfK9x6nTZ2XcE+/KwiXrJCsr29wWX+LIMNq8dZ/MmDVfPvtgvMDrYG0nTp4RjLN6UKBcNbinPPTke7rvliLgQHiU/LtisxYpUz5/SQedFsb8lTCaMeUNuYAlFyVMsNOsPTt2PE5iYuP06YYN6kjlShXtNeVxDyJg/xPhQYPkUEiABEigJAlkKO/Fy//7Sn6YvUDvtNyoYR25b/SNevnh9JkELVDwhf7qW5PtPjYxMUUeUMGaK9Zs022Q+nv3bddJuzbNdM2UKd/O1dklO3YdtHuPlHNpcsd9r8iylZt1m25d2srIG6+Qzh1baQ/Lgn/Wyi9zl0jssTgZPe51qVqlshYcRpau4jmefvETgZjqqDwqQ6/pr8e1WwmjRUro4PjWHWHy4huT5M/ZH0tF5TEpjPn6+IgKEsn3EsSHfDHlF3PKb4+ubcU/gOm9+ULzkJMUIx4ykRwGCZBALoHnXv1cKlW0vwxgyWnbjv1FwrZx8x5ViGy+FiJtWjWR32dO0P9vshuvHygfqcyRDz753u79sQyyZv1OwXLQjdcNVEGdz0n9eiH/te8hI5SoeHT8B/Kr8kYYGZ497fs/ZfmqLfr0HbdeIxPffUothdQ0N79WBYTecO0AGffkuzpD5dlXP5N1vb5V3gZbPgguhafmoftGyJsvjZNaNYP0ffCce+8aJqPGvCjhh6Nl6/Yw2au8Nt2V8Clp27U3XL757k99WyzpoPaLiiOmeQEBihEvmGQOkQS8iQC8FaVp+HKe/ds/kpqWrr0DHysBYClE8OyqVSrpmJF1qmjasv/EgmWfsATyoyq2ln3+vI7lePu1RyyESG7LmjWqySfvjxcUZoOQsLZkFVOBCrIQM01VnMon7z0twbVr5GlWQS2HXKuqxz75yO3y7Cuf6YBQxLiMuvkq69vp981Vcbd3VF8s40LKly+vPS23jRyi021T0zIk7lS84fXFOYjYlXFqySo55Zzgmag2C88MzTsIMJvGO+aZoyQBryGAmiCtWzZ26FWUYMy4U2dl/cZdmie+LK8Y2N2QbaDKCBl+wyDDc2EHjujgUFifnh2VmGls2C40pKYMUcGwRrZzd7gglgM28qYrpHat6kbN1Bd7OR0rAmEC+2PeijwxLpYXDVZjscekU/sWuimWf5KTUw2fVdSDGMeYh95Uy0C5nqq7Rl0rD9wzXIsSmncQoGfEO+aZoyQBryHwh4pnCLbzxWwN4bFnP5Rffl9ifTjf9yeVV+BozAndpn3b5jprxZ51u6ytIFbifE7ejBAsc8DDAOvUoaUKpbAfS4E4lO9m/q09IJa2Zfs+89t6dYJl/8FIe92QNPWsunVqy9HoExJ28IgWFCZxYnmRtYfH8hzElcnOxCfafVZhTmBMWPZ55OkPdDwKhNMwtaz02YRnVBYPY0UKw9Ld21KMuPsMsv8kQAJ5CNRSyxv2vATWqIy+kK3bWL/HFzsCR2FIec3PalSvJrVqBcnJuLzLGvFqz5rzaokGhoyR/KxRw1D9xYx9XSwtUm02Z7Innv8ov1vkOZeUfE6XWjcyRzNXkElUXMtRAm2Jqrj66PgJKmD3mBZHt9x0pY6dseedKe4zeb3rEqAYcd25Yc9IgARcnEB+Hg10vWJFfwmsWsVGjFgOy7eAvVdqqJRbvwoVbMQIanCYDDVCyqNkrAOG4FVUQXWmwVOEiqwvvj5JziYk6dgbpEG/9+ajhc7SceY4+OySI0AxUnIseScSIAESyEMgRwWqZmVfqv1hPmmhBaxWX2wIZmRm64wWW7t0k7/U0lSLZg1tmxgc8fH1kSqVnVe7AzVZXn37a/n0q1l6uQjBvv975WF5bNwobopnMF/ecohixFtmmuMkARIoEQI1qgfqtFMEspoCSO3d+JzaX+WsWpKxtsaN6kqAv5+gXsnBQ1HWp/O8jzsdr9tZW+uWjcyHUtRz3CHzBFlEjz4zQab/8KfecwYsv/joObnjlmush8f3XkaAocpeNuEcLgmQQPEIoP5G3dDa+iY7dh/QZcvt2eZte1Wqqu35lsqLEaCWcGAbt+7VHgJ7tlpVZ7Ws8Gpq16LZJTGydPkmO96T3NaI8Rh+xzO6Uuv3qhqr0f3sPb8kj//vg6ny7Q9/aSHSrEl9+fWHD+R2lTJMIwGKEX4GSIAESKAQBCBGRtyYW1YdpdSnq9gHI4MAmKEKoxkZllQGD8hNCV63caes/K8Kq3XbWFVf5Le/llsf1u/79e4k9esG63+j4isqpRrZhQsXtQD5c/5KXZdk+64DTkmZXbJsoy4Ch3gR9HvWt+8oBt2cHr9ixIzHyp4Al2nKnjmfSAIk4MYEEPx556jr9H4vhyNi5J0Pp0vL5g0F1U5NgaHwhrzx3je6nLuRIYUVhciWr9osiWpzvRff/FIvWXTv2s7cHMtAD6oiYPYKjNWsEaSqpY6UV976SpAhg9Ly3331uion39TcDyyLLF66Xt6fOEPft7KKFXnk/lvKPDYjTQXbooy8ae+cAf26qGqvxyTKIiPIiBOyai7v3zXf9Gmj63jM/QhQjLjfnLHHJEACTiaAqqkomY6Koai5cfu9L8mQwb3V7r6ddE2PRf+uk01q+aW62n32XGqaTSYMut9bFTt75IFbddn4nbsPyk23P6OqpfaRTu1b6v1t/vh7hew7EKHqgwRLnEoNtq5V4qOycB5/+Da1KV+MrkOCeh3Xj3xCrlGiCEXfsCkdlomWqCUceGl8VeDqO68+ooVTWRvK52OMJsPuwngVZCi0tmz+14JqtDTPJkAx4tnzy9GRAAmUAgF4Nm4ZfqXaN6WcvPbO13oTuTl/LtUvGDwk7dWGd+Mfv0ueU/vBWNcIQRsUQ3tx/FidTfLZ5Nly/ORpFdj5l7m3qD6KpZyRqvbGUy9OtBEjaKivnfCsSh+urJZqFkt07Em9FGNtCLh9afy9et8ZZ6T1rly7zbz5nXXf+J4EQIBihJ8DEiABtybg5+er9mUZr3/9w4JUXQ5H7dnH7zZnclzWqVWey/ClvfD3z/UxU2yGZYMKvr5qv5arpUe3djJ33nL5V3kg4CWprpZbBqlYiFHDr5Lataur4mY5WowM6HuZTbeQYvvsE6P1TrpzVZn2Net3aE9KaEgttWtuP70DL5Y4Ll58Sgd9Nmlc1+YeECQT1b4099wxTOYtXCU71f4zECVI/EVBNWxoh/1pOqtKr0bWoV0L8zg7qN167Rn4mHig5H5hDEGqvXt0LMwlui1ElmXl10LfgBe4DYFyqhxv3hrDbtN1dtTVCCQkJMgLL7xg7ta4ceOkS5curtZNl+1PZGSkfPYZfkWnqyJXvvLwmKulbav6LttfdowESMA1CGzeflimz8oNdA4MDJSnnnpK6ta1Fa6u0VvjXjCbxpgLj5IACZAACZAACZQRAYqRMgLNx5AACZAACZAACRgToBgx5sKjJEACJEACJEACZUSAYqSMQPMxJFAYAhflYr4VNQtzL7YlARLwbAIpqZc2TUQWVkEbOLoiDYoRV5wV9skrCfj5+alt1CvosWdn50jM8bzbznslFA6aBEigQALhEcfNbapUqSLVqrlfXRaKkQKnmQ1IoGwI1KpVS2rWrGl+2M59UWqDNIMdX8umO3wKCZCAGxA4EZcoEVFx5p42adJEAgIC3KDnebtIMeJ2U8YOeyoBf39/adXqUq2L6NgzsnS1cTlxT2XAcZEACThOADVsfp+/UdWmSdcXYXmmbdu2jt/AhVpSjLjQZLArJNC7d28JDQ3VILDB2dJVe2TD1nBd8IpGAiRAAiYC6elZsnj5TgkLj1VF8XKPtmjRIs8PGneiRTHiTrPFvno8gZCQEBkyZIg5diQ9I0tm/rZGZs1dK8dOnFXVODM9ngEHSAIkYEwANUqTU9LlcORJmfLjv7Jg6XbzD5WgoCC56aab1GaIlY0vdvGjLAfv4hPE7nkXAZQg79atm6Aa69q1a3VGDVyxazcdkB17oiS4VqAqj11RQUGxbxoJkIA3EYAYiU9IURspJktW9nnz0BH4jh8xjRs3dlscFCNuO3XsuKcSQFbNiBEjpFKlSrJy5UrJyMhN20tVu8FGRl9K4fPU8XNcJEACjhOoUaOGDB06VHr27OmUTRAd72n+LSlG8ufDsyTgFAKIhofLtX379vLrr7/KiRMnlIfkvFob5lZSTpkQPpQEXIgAPKjwhuDvA/5OYHnX3Y1ixN1nkP33WAL4g4OAtBdffFEv2xw+fFgOHTokWVlZHjtmDsw+AQjR6OhonbbpCV8+9kfKM/kRQB2R1q1bS/Pmzd1uM7z8xkUxkh8dniMBFyCAiorNmjXTL6wL07yTQExMjN7VGQGKDz30kF7Go5GApxBgNo2nzCTHQQIk4NEE9u7dKykpKnjx9GmJiory6LFycN5HgGLE++acIyYBEnAzApmZmbJz507dayzTbdmyxc1GwO6SQP4EKEby58OzJEACJOB0AkePHpW4uEslvw8ePCjJyclO7xc7QAIlRYBipKRI8j4kQAIkUEoE4BVJT88t+Y1HJCUlyf79+0vpabwtCZQ9AYqRsmfOJ5IACZCAwwRSU1Nlz549edojzXvbtm0O34MNScDVCVCMuPoMsX8kQAJeTQDp3AkJCTYMIiIi5NSpUzbHeYAE3JEAxYg7zhr7TAIk4DUE4AHJzs7W40WaN16wtLQ0QYYNjQQ8gQDFiCfMIsdAAiTgkQQSExPzxIagCJ6p4Bn2Ldq0aROr8nrkzHvfoChGvG/OOWISIAE3IRAWFiaIGYHBIwJx4u/vb+59bGysHD9+3E1Gw26SgH0CFCP22fAMCZAACTiVwObNm/XOzbDQ0FC1XXyOFiMVK2LnZtH7FW3dutWpfeTDSaAkCFCMlARF3oMESIAESpgAglPDw8PNd4UQOXPmjPaONGrUyHwcgoVGAu5OgGLE3WeQ/ScBEvBIAghcNXlFsEMrtoqHoRy8KYgV7yFQUASNRgLuTIBixJ1nj30nARLwSAIQIRAj2KkX1qBBAzl58qT+N86hImtgYKB57CgPbxIuHgmEg/J4AhQjHj/FHCAJkIC7EYDYOHbsmLnbPj4+epM8S6tZs6b57a5duyQjI8Pdhsn+koCZAMUIPwwkQAIk4EIETF4Rk6fD19dXl4KvVq2aQIDgFRAQYA5iRdexTw3Lw7vQJLIrhSZAMVJoZLyABEiABEqPADwcu3fvNj8AogTpvViysXxZek7QGFk1yK6hkYA7EvB1x06zzyRAAiTgqQRQ5t1yh16IEaNy8NbjP3DggPaQmAJdrc/zPQm4MgF6Rlx5dtg3EiABryKA9N2iboCH8vCWHhWvAsfBuj0Bekbcfgo5ABIgAU8hgGWYDh06SJMmTWyGtHDhQl1jBNasWTPp2bOnTZvg4GC9lFOuXDmbczxAAq5MgGLElWeHfSMBEvAqAghW7dq1q+GYV61aZRYjderUkYEDBxq240EScEcCXKZxx1ljn0mABEiABEjAgwhQjHjQZHIoJEACJEACJOCOBChG3HHW2GcSIAESIAES8CACFCMeNJkcCgmQAAmQAAm4IwGKEXecNfaZBEiABEiABDyIAMWIB00mh0ICJEACJEAC7kiAYsQdZ419JgESIAESIAEPIkAx4kGTyaGQAAmQAAmQgDsSoBhxx1ljn0mABEiABEjAgwhQjHjQZHIoJEACJEACJOCOBChG3HHW2GcSIAESIAES8CACFCMeNJkcCgmQAAmQAAm4IwGKEXecNfaZBEiABEiABDyIAMWIB00mh0ICJEACJEAC7kiAYsQdZ419JgESIAESIAEPIkAx4kGTyaGQAAmQAAmQgDsSoBhxx1ljn0mABEiABEjAgwhQjHjQZHIoJEACJEACJOCOBHzdsdPsMwl4E4GLFy9KZmamJCUlydGjRyUrK8ubhs+x/kcgNTXVzOLkyZOydu1asvFCAkFBQRISEiLVqlUTPz8/jyFAMeIxU8mBeCIBiJAVK1bIjh07JDY2Vs6fP++Jw+SYCkng8OHDghfNOwlUqFBBmjVrJj179pSuXbuKv7+/24OgGHH7KeQAPJXAkSNH5JdffpGoqChPHSLHRQIkUAQC2dnZcuDAAf2Ch+z222+XBg0aFOFOrnMJY0ZcZy7YExLQBLAss3HjRvnkk08oRPiZIAESyJdARESE/lsRFhaWbztXP0nPiKvPEPvndQSio6Nl7ty5eWJDalavKoP6tZNWzetKSO0gKVfO67BwwCTg9QQuXLgoJ04myN4D0bJm0wFJSk7TTBBPNHPmTHn00Uelbt26bsmJYsQtp42d9lQC6enp8tdff+lgVVg5pTp6dW0hw6/rIdUCK3nqsDkuEiABBwk0aRQsjRsGS98erWX2H2tlz/4Y7U2Nj4+XBQsWyNixY8XX1/2+2rlM4+AHgM1IoCwIbN68Wa8Dm6xTu0Zy58j+FCJlAZ/PIAE3IQDPaI3qVWTMbYOkVbM65l7v27dPIiMj3WQUebtJMeKW08ZOeyKBnJwc2b17t+D/YdWDqmiPSAVfH08cLsdEAiRQTAKVK/nLsCHdJCAgN8UXnlX8DXFHoxhxx1ljnz2SQEJCgpw4ccI8NnhFQoODPHKsHBQJkEDJEGjaKEQa1KlhvtmhQ4fMP2hK5gllcxeKkbLhzKeQQIEEzp07J/hlA/PxKZ/H/VrgxWxAAiTglQTKly8nLZtdClrF35GUlBS3Y0Ex4nZTxg57KgEEoeEF8ylfXgL8Pae6oqfOGcdFAq5AoFbNquZuoFBiWlpulo0r9M3RPlCMOEqK7UiABEiABEjABQn4+rh/XBnFiAt+sNglEiABEiABEvAmAhQj3jTbHCsJkAAJkAAJuCABihEXnBR2iQRIgARIgAS8iYD7lWnzptnhWEmABAokcOHCBVm3cZckJuVmEFw9uJfaxdSx4N/tuw7IseOn9DN6de8gtWtVNz8PscRfT/9Nv2/dsrEMGtCtwL5YN0Cf1qzfoQ+3b9tcmjQqfKnuozEnZPfeQ/oefXt1VsWuAq0f4/bv09MzZd7CVZKali733n2j24+HAyg8AYqRwjPjFSRAAi5EICv7vLz8v69ky7Z9uldR++ZLSPClugv5dXXSlF9k9px/dJMFv30mgwd2t2h+UR55+n39fuxdw4okRo5EHpNbR7+g7zHxvafl4ftHWtzfsX8uXbFZHh3/gW68YuEULZo8zeYtWi1jHn5DZZD5U4x42uQ6OB6KEQdBsRkJkICLElAejCy1pXpGZtZ/HcxNj3akt9nnc8zXwcNS0nZBuVdM/TJV1i3sM3JyLlj00fGxFfY5zmq/dsNOeemNSZKRkaXFCM07CVCMeOe8c9QkQAIOELji8h66VZtWTR1ozSaFIYCaOivWbJVHnnpfjkQdK8ylbOuBBChGPHBSOSQSIIHiE8COyUvnfVX8G/EONgTOnUuTWXMWy5vvT5XjJ07bnOcB7yNAMeJ9c84RkwAJkIBTCOSopbBNm/fIh5/9IAv/XS9ZWdnSoF6IYInsGEWJU+bEVR5KMeIqM8F+kAAJuByBlWu26T6FhtTUGTXWhqWG+LNJ8s/SDbJxyx5JTD6nMmbqyWCVedOre3vr5obvEUsSHRsnS5ZtFGT3IMakjXrWNVf2kfbtmhleY3QQ/Vin4i+2bA9T9zspfn4VpEO75tKvd2dp17qp3QwjZPzs3B0uvmp36E4dWkrlShXlZNwZ+XfFJgk/fFTHcTRqECo9VeBssyb1dbuiWlxcvAwb9bScTUgSVA3t1qWtfPzuUzLxi5lybMGqot6W13kAAYoRD5hEDoEESKDkCUBoDLp+nL4xsmm+/er1PA+BiJi/eK2Mf+kTiYiMzXPug09myJg7h8nwYYPy7RiEx+Rpvwnax506m6ft2xOmyWsvPKC2h88/qBP9mDtvhbzy1ldyKCLGvL+R6WaVKgbIrTdfKe+/+bhhltGuPeF6nNWDAlVG0aeyd3+EvPneVHPKs+k+VatUkvGP3y1PPXK7BAZWyXdc9k4i8ylbBRvXDa0l4+4dIY89NEo/F2KE5t0EKEa8e/45ehIggSISmPPnUrn3kf+pnZYzBfEl8Jz06NJOTsUnyKq12+Sb7+bKitVb7d4ddUze+mCqfPjpj5J9/rxUqOArl3VsJe3aNFMBnbGqPslOef61L6RFs4Z274HljY8+/1FeeH2SblNebbDYsX0L6aw8HBA66EfcqXiZ8dN82bx1nyyb/7X28hgZllAgjGapVOeLFy9I08b1pFHDOrL/YKQWSikqzuN/738jycr7A29GUayiElavv/ig3D5yiNStU7sot+A1HkqAYsRDJ5bDIgFvJYBUUfzadsROn0lwpJlNm8NHYuSZlz/TQgS7K3/x0XNy3+gbtSiB4Qv8gcfeUcXYdtpcazqwZPlG+Xzyz1qIIG7imy9e1kszJkOxtLvuf1V5O6Lt3mP1uh3KIzJZn2+shMOMKW/KgD6XmfuRkJgsb7z7jXw5dY6EqT7Bi/PD1P/pXaGtDSLjx58XSlu1pPPlx8/J5f1zi7whrmPGT3+raz+Vc6lpui7Lg2NvllYtGlnfosD3qP8y/rG7CmzHBt5HgGLE++acIyYBjyZw29iXpJz6nyMGb0BRDF/IqNyKuIf/vfJQHiGC+7Vp1URmTntLhgx/VMIPHTV8BKq7nktNlypq+eOrT16QIVdcEiK4oL8SFXN+/EAGX/+QrkxqbWlpGfL2h9PlvKqVUrlSgPz24wTpelmbPM0gyia89bikpWfItO//lJ9/XyJPPXqndLNqZ7qoVs0g+X3mhDzxMYg9uf+e4bJ1+36Z+v0fkpxyTmJUTEpRxIj1GPieBEwEbOUx2ZAACZCAGxPAlzO8DY68ilLoLEl5EP5ZtkETqlUrSAmRm8yeCEtsCPq85aYrDElCyKCEPaxH13a68ut/TpU87burAM+B/boY3iMq+rhehoHdNHSQdO7Y0rAdSuM/MGa4PofxzlTeD3vjvlLVVTESGeXLl1Ol6Dvpe6Qpb9Dp+ETDZ/EgCRSVAD0jRSXH60iABFySwOzv3nV4meaTST+ZhYWjgzl2/LQOFIV17tDK7l4xWLK5vF9XeefDb21ujayZ5JRUfRzl3RFkamS4xwAlRhYuWWdzGstREF6wq6/oKT7KS2PPIDDq1w2WWCWCNqisn3RV7RTeFGvroOJNTEtN1ufq1KmlDyGwN83AU2Pdnu9JoDAEKEYKQ4ttSYAEXJ7AoP5dVdaIcZCmdedn/rLQ+lCB75EKe0YFqcKaNa2fb/v6KhYEG9udTUjO0y5GpfIiFkPfQ6XL5metmjdSabkVJDMzt72prUkQ4T2yXyZOmmX3NvCEIPUXdvrMWclRniMjqxOSKziMzpW3cN2cOBlv1ITHSKDIBChGioyOF5IACXgjAXgGLlzI3SMGNTnys0rK+xAUVNVGjGC/GdwHVqVy/vfATsJ+fn42YsQkiHCPwpRT18/Or9MOnLO3zOPApWxCAoYEKEYMsfAgCZAACRSfAJY8ypcrXmge4jUKCsd9+dn7JKS2YzsVI2AWKbY0EnAlAhQjrjQb7AsJkIDLE4A3JLBqZR3zgUql+Vm6ymJBwKu1IfAVdUWyVRGwEyfzvweWeFAszNpCLZZUrlABsINU1VcaCbgrgeJJdncdNftNAiRAAkUkUL16VQn+zwuxNyxCsOxhzyKPHjfHali2adywrrk8+56wwzZVUy3b4nymKmBmbShKZrKtO/Zbn87zHvEpc/5YqrJvtstJVQTNtESU70U8SQJlSIBipAxh81EkQALuT6BuaG3zvjP7wyNl7YYdhoM6r8q0/zr3X8M02k4dWugKp7Blq7bYlJM33dAkIozEw4C+XcxZON/++JckJqYY9gMHkUZ86z0vyOXXPaiKsb1t6GmxezFPkEAZEKAYKQPIfAQJkIDnEMDyyiMP3KoCTyvpCqyoTIpS6da2SKXjYs8YI0Mq72PjRumlmijlPUH6L8q3W9vnX/8su/cetj6s36NU+zVX9tb/PhAeJa+987U5Q8fyAmTRvPp2bpVWHH/4vpHirwqZ0UjAlQhQjLjSiDq1NwAAIABJREFUbLAvJEACbkEAFUxR/h22bed+6X3FWO0FQVZL2IEj8t7H38noB1/X+7gYlV7HdbffMkSXbof9+PMCuVHtZrvo3/VyNPqE3r338ec+VHvOfKGXVIxqf6AM/YfvPGn2sEz65ldB9Vns/ouN+5D6+/Nv/8gVwx42F1i7aejlcvXgXvqZNBJwJQIMYHWl2WBfSIAE3IIAPBpvqA3fEJyK/Vz2qZ1usY8M6oFcUOIhQxUVQ8bKIw/cIr8okWK0Bw4CYad89rI8+MQ7snLNVsFeNStVRVU/dW+Uqcc9UKPk7tuvF5SOx3trw1LPwt8+k5vueEZ7R/74e4Us/Get+Kp7IH83S+2QiyBZiJmrBveUbz5/WXx97RdHs74/35NAWRGgGCkr0nwOCZBAqRDw8Skv16oN5ky72wYUIm3VVOIcHQtV29pb2123XacP9e7R0fqUrh/y5cTn5QpVQn2q2qF3555wnWGD5ZvePTrIuHtHSL/enVXGTbygUFqD+qE290DRtDk/vC/Tf/hLi5aw/Uf0fjXYU2agqt76/JOjBePB/jaIH6lWrYrNPVqp3YJXLfpGvp05T/6cv1IilXfm9Jnccu2oUdKyeUO58fqBenmmskFNExSIM40zvyJu4GNqh52BS9JQqbaqylCqbKcSbUk+i/dyTQLllAvQsP7NkSNH5NVXX5WUlBRp0aKFfPzxx645ghLuVVZWlvrl4Ku34i4JO3HihHzwwQcqGj5T3+7BBx+Uyy7Ldc2WxP1d6R4JCQnywgsvmLs0btw46dLFeF8NV+q3q/QlMjJSPvsMO8Gm61/HD4+5Wtq2yr86p6v03dv7AREC7wcEA7wm2HCuWmAVtcQiyqORqZda/JTXpIL622JkOI8ddhHfgRLv2E8GO9zCe5KjAmEzUH1VtalY0T/fv024R1JyqvoMZajHlFMBrv5aNKEvNM8lsHn7YZk+a7keYGBgoDz11FNSt25dtxqw8X8ZaghJSUmyZMkSOXPmjHTv3t2tBlWUzqKi4ObNm2XatGny/vvvqw2wbH8lFeW+f//9t3z55ZfqD0xunQCInalTp+b7B6Uoz+E1JEACziOAuiN4WRsqqKMKa0GGZZQa1avpl7Vhz5nKlRxbWoFHBS8aCbgbgZL5+e9uo7bqL36VQCAMHTpUFi9ebBYOxR0WBM7s2bP1/SpXzv1DtXTpUomIiCjurXk9CZAACZAACXgMAYoRNZUQI+vXr5f4+JLd/Gnfvn2yceNG/WG5++67tSCJiYkReEtoJEACJEACJEACuQQoRhQHo7S54n5AIHDgFUGsSFBQkNx33316DQ/Hf/nlF70MRiMBEiABEiCB4hKwE/pZ3NuW6fXFEiNYfsDLcgfHbJVKlpqaqgNfEYiH4KvCGuIq0tLSVOBXRoHX4/54Dl757SRp2c66T6UxkeAwc+ZMLT4QsNq6dWsZMGCARrF3715Zu3ZtYbGwvRcQMAljpHamGxTB8gIEHCIJkEAhCcSdvvTjFgkY2OXZ3axYYgS/9u+66y75999/tWhYtGiRjBo1Sjp16qS/fPv27as9AmFhYYZcTp8+rbMvXn75ZUH2DgTI9OnT5eabb5bevXvL4MGDdfbJvHnztDAxsmXLlsmgQYP0a+vWrUZN9DHEgpjaLViwwNxu7ty58uKLL8r27dv1seTkZHn77bd1v6ZMmWL3fgWd+P/2zgQ8iirb4ydA2EOAEPZA2JHNCALDJmtkE0Rwd1gGARVRUIbhjZ/j4L47PESYQQUUNzAgyPYQBoQAYQ+QYVBQCXsSIISw6AiBV//LVFspqqu7k0rSy/98X2u66tZdftV0nT73LPANwZYMJD4+XsqXL6/YYKsG64SiQiEBIwF8RsqUuV5OHvVOfkxNJyASIAES8Ejg+x9PuNpUqlRJ8Ao0cRtN481CFi5cqKwgbdq0ETzgZ86cmcv588SJE5KcnCxo984778jIkSMFnuG6ZGZmqrDXUqVKSbNmzVQbXSnQ2yQlJcncuXPVAx0PcHOUC/w8tm7dqprbbX1A8dHbZWRkuOawatUqmTVrlus9LDqIfoF07dpVEJ7qq8AqAqUKgrXdfffd6m8oZ7CSwCoCJQpKGtZNIQEQiIqKkqpVq7p8l3bu+Ul6dm4hUZUjCIgESIAELAns/fdhOXL8t8rPjRs3zvWctbzIDw/myzKirwcPbygiderUURaFL774Qj3Qb7/9dtXkwoUL6viBAwcsEWCr509/+pNSRJo3by7Tpk1TD2uE2bZv315tvyDM+P7771fbP05Kz549Zfz48XLTTTepbvHrdPTo0eqYrkT4Ot7x48cFSg6kW7duEhMTo/4uW7asDBkyRP2NkOkFCxaovykkAALIbRMXF+fyYco6d1HmL9msff4tUwERGgmQQIgTyD7/syQs3aLlt7meOgKW1RYtWgQkFUeUkcOHD0uvXr1k7dq18vLLL6vtiLFjx8pXX30lDz74oAIDKwi2cawEWzywouDBje2NcePGqS0abPEsXrxYRowYoXwvvv32W5fVwqqfvBy79957lUVGz6USGRkpL7zwgkydOlXNw1fBPHWLEa596KGHtAyKv+UZ6N27t9SqVUut59NPP1XbQhQS0Am0a9fOpRjjWMr+ozLni3VaQqyLhEQCJEACLgKwhrw3e5VkGPxF4N5Qr169gKSUr20afcXI+PbXv/5V6tatmwsCLAETJkxQ0SNQOFJTU91CgkUCuT6qV8+dMhnvp0yZIps2bZKDBw8qP45JkyY5aoZyMpoGyoVu8YiOjpb+/fvnWjNMaNj++eyzz+TIkSMuPxu3YHgipAjg38zAgQOVvxGsgCoZn5Zd8fDRU9Kl/U3SqH51LalV+QKJAMsXaC25F2qhKDH+be7U23Z215nPFcV7uzUa5+NtO6fX4O243rZzen7u+vNlPt5+lrxt525O/nJcW0eOlp03/XS27D9wTDZs2a/5H17P7I0pxsbGqt0IoyuEv0zdm3k4oow0adJE8JC1EvhE6A97uzweffv2lYYNG1p1obY5YDWBMnLs2DHZs2ePo2nGnYymQaSM7veChwrCeo2CDwq2m6CgIWpozpw5ypJEIQGdAJT6AQMGKKsgnJ0h8JZPWLZFy8RZSqUER2ZPCgmQQGgRwJbthYu/aCkjtPIABsEP37vuuisgHVf1ZTiijCB/BrY3rATRI7oyAgdT5N2AU6dRsFcO3w13gvO33nqrspzgl6LTyohTlhFYf+bNm6eceDHnBx54wDLtO7aEEG2EpGhwZsV6EIFEIQEQwGenS5cuykq4ZMkSFWmmK8wXtV9CeFFIgARIAD9uERSB7OHmXYVAo+OIMhIeHu6VaQi5QBBpYlZGEBcNE5Od6PtgUEawveGPAqsNHG0heHggUgj+KGbBGvSIHvzyRXI0KiNmSqH9HgoJLI6PPfaYUlgRCYYtQHxenLTkhTZlrp4EAo8Avhvg1lC5cmXp3LmzCvIIxLwiZvKOKCPmTn19D8uEWUEx92F0AjWf85f3iABC5VUIHhjIv+JJ0O7jjz9WPjd6jglP1/B86BCIiIgQbGHCoRtO3nAEpzISOvffuFIoosuWLRN8Jvr06eN/fkOheVsKfdWwhlSrVk29AtU/xAqaXygj+HK1y56Kiet75/g7LzfArn8nvtxh9fnyyy8VY2ip/fr100qJh1sxdx2DbwmK5p08eVJF4CCBHIUErAhAWYd1MFA95a3WxGO+Efjuu+9U8kd8/+FzYM655FtvbE0C/kXAL5QRKAp4INvJDz/8oE7DRKXnBDG3t1MqEH5ckIIEZnpRPGy5JCQkeFSa/v73vyszPOSjjz6Se+65x6OFqCDXwL5JgAT8l8DOnTuVzx22uuHMT2XEf+8VZ+Y7AUfyjPg+bO4r4PCZmJjothtEnaxfv16d1x12rBrbKRy6omB1nRPHkFMlKytLKUtIluaN9Qbez8i4CUEOle+//96JqbAPEiCBICMAfyE4vEPw403PJh1ky+RyQpiAXygj4I9U79D2rWT79u2qtgwExebq16/vaoYc/Lo/CZKumYvgoeGKFStUnpKCEjijon4OBPNBSK83gvTf8IKGQCFDFlur+XvTF9uQAAkELwFkr8aPHV2QhwYO8xQSCBYCfqOMoMYN8m9gX9S43QKLyaOPPqoSQMHB89lnn83FHls2iLGGIAzyueeeUwmj0Af+j7T0Q4cOVQ95d9YKowMttouguODXB0yi3gja61YNeDYjCsIbQRTRsGHDXE2XLl0qqKFDIQESIAEjgW3btuX6oYISG8hpRCGBYCHgN8oIrARw6ER2UiQBQyVd+FBgKwP/6OAUivo2yL9gFNTDefzxx5V1BE6kCKdF4T4cx/+RARaKxdNPPy3IFGslUEaQzx//R1sU9EPiqUGDBqm6OnaC9simiq0kOKxizr7kLUH6b72WAGraQKGikAAJkIBOAJZX5JoxC6qU05JqpsL3gUrAb5SRMWPGqGgS7I0iKuW1115TTqAIZURm1rffflsV0zNbN/DgR1G7V199VVkkYBGBdQEmTFzbsmVLleUUBerg8AUrilWYMKwycDxFf5gDrt+/f7+kpaXZ3lu00beAkPyte/futu3NJzEXYxQN6tXYVR82X8/3JEACwU0AviKwHJvFnZJibsf3JBAIBNxG0+DBDj8N+DIgwYqVwOkSmjmSr9gJkjZBSYBlArU3rASx86g7g8JyGBf+I7p1Iz4+Xv3tzuKAB/qTTz6pHEeTk5Nl7969KhYfWU6RnQ4KCELili9fruZrlakOjqSI4UeadowNi0ft2rXdZpbV14A2sGagPbLNYp6+CNYERayblu4eghBO5hvxhSDbkkDwEsD3Jiwg+H7Rvx/wf2wh47V7925p1KhR8ALgykKGQJj2YS+y+uTws4DCAHnllVfU1gwlcAmcPXtWbaXp8sgjjzhaQyhwyXDmJJA3AvB7e/PNN13+a506dVLJ7/TkivghiCrjnnIa5W304L4KBU0R9AAZPXq02tYPdtFLlSDq01dBxCh8MN0Jdi2wO4AXgkxQwgW16bz9bLq1jLgbkMdJgARIgAQKhwAsH/BHg8BqCt8RWKphUcXvSGzpYqu4VatWhTOhIBpl8+bNyhoPQYbjYFZG8FlBrq65c+cqtwY9pYQvtxOuC8gy7q2gSCyCR55//nmvCvhRGfGWLNuRAAmQQCESwNYM0hroxusaNWooJ304uqMwKUJ9se2MNlRGCvHGBOBQ8L9EEAc+L3qizfwsA58/q4AQJOSD8gwfJ3w+p0+frpQgjO/ORUOfh++2mvysgNeSAAmQAAl4RQClIoyh/rCMpKenq2uNTvio+g2fOAoJuCMAP0wn89IgmAQFa80vZCKHjygsTvCfhCK9cuVKQWCGJylyZQTmRv3labI8TwIkQAKhQABf4sgtojuuYmtG3+dHnS6jozwcWZEWgUICRU0AST+R+2v48OHywQcfuKaDcifG+nJW8yxSZQRRLbNnz1YvFJajkAAJkAAJiKo/g8hAXRBhl5qa6nqP3EvYttEFdWuYc4SfHH8i0KFDB+XACsHnE1uMdlKkPiPYdxoxYoTd/HiOBEiABEKOANITIOu0LrVq1VJhvLrASoJIGr3AKDJXY48eySMpzhCYPHmy+jU/ePBglYwT9YDgAIpQa/hEQBlExAiiBpELyyxwLkZ7WP71OmSrVq0SRKXAERmpIJAHq2/fvtKxY0eV2NNKnnjiCeV3gUrNM2bMsGqijsEXBAor0k289dZbyq8I6TewjafXNcK8P/zwQ4FzKeZ/7733uu0vvyfwGdXTgngTtFukykh+F8vrSYAESCDYCMDCYdx2ga8IlA2jIDO0MTs0QjbxkOzdu3ew4Siy9bz//vuCdAVQBBF5gwe8sT4QUlPgYf/555+r8Gs82I1JOc+cOaMygKPsR7Vq1WTevHmyZs2aXGVG4MuBcFnUKENtMmxzmAVj4/MAxcVO4KsBi1njxo1dYyxcuFA5keqChJ5TpkxRb6EAFaQyAj8mhKZDmjdvbplsVJ8X/k9lxEiDf5MACZBAERPAAwOOgLq4q5FlrlKObR0kT4TyQnGOAJwv4UwMawKKoCJTN5SSb775RllLEN30xz/+UeVUsqpLBr8fhLciBBtlRpDtGw9nOH8iyWZKSorKOg6FEr4VsJg4JUj6iRIlUFSRmwbbfT179lT/t5qrU+NiS+bdd991We5GjRrlMZqGyohT9NkPCZAACThAAA8nT/vrVsPg4YZtm9jYWKvTPJZHArA2oAAqLBhQRGDpgMDqATcDZO5GIjpUh7d6wEMZgSISFxenqtPDwRNbGNi6QB02bActWrRIFi9erLZQkE3cKUGdNbwefvhhpYxAoYIFBls5+RFUkUaUjFkQ1osM5rAYIScJtqhQigUOre4yqOt9eKWMwGyIvSg9rMw8Ab4nARAwe0vjA8uQQ342nCKAL9CYmBiPX2pOjVcU/cBxFf4BVuZ6WEx0J1VYP6zyNmA7h8qIs3cOnJHl1pwUDT47yBoOPxA8hK2KGeozQSj2rFmzlEVEFzyc4WuCLR5YtaAsTJs2TcaNG+eKnHJ2Jc71BgsOXnYChQvbQNgmsvqsmq/1qIxAewNsmKTyoq2bB+T70CGwbt260FksV1rgBPCrbuzYscrUHawCnwNsBcBkbxb8MkdxPAgqfaOdWayKgJrb8L1vBFD7B1YNK4FyAUsJlBG7H+sooGpWZvT+8HnG1glCYaHQwNnUk3+I1Vz87Rh0h/Xr1yuFDcqcMfrLaq4elRF4dCPDHxURK3w8RgIkUFgEsE+Pve9gVkbwaxLVxa3EWOMDe/5WBT+truOx/BHAQ9TKUoVekYVU336AQzH8e8w+OzgPx2J39WCggGIbCMoIHuAIg/V3ZQR+L4gQshIkV4NCtXr1auXAinXh/dKlS22jvTwqIzAN4qUL/hHoe2ZWE+ExEiABEnCSALb6sH0BwZcbrAb8DnKSMPuyIwDlwptibwibhYXErIxACUHhODtp0KCB6zS26fxdoCzZReJAqYKfzLBhw5RylZSUpPKJwdHXne+IR2XEGEIGyDCTInSIQgIkQAKFQQChk3CIg+D7CMqJnr+gMMbnGCSQHwJ4+HrymXAygiY/c3XqWqwZCc/gJ4NcLFBOENoMR1r42liJxwysSNyiC8xJERERVv3wGAmQAAkUCAHjlxfM4HoV2wIZjJ2SQBEQCFZHfxRw1H1FENBgTORnxuxRGYHpSReYm+ggZUbI9yRAAgVJAPv1+n47fNeojBQkbfbtNAGE9qalpdl2izwmuhgjbmwvMpxEQUVzNKO31xZWO2yv2mVi9aiMGDPOYZ8WHu0UEiABEigsAlBE3O0zF9YcOA4J5JUAlJFNmza5fRDjIZ2YmKi6x+ccicqsBIo4srpaCfxMkC3W3wSh5nrJAjie221XeVRGjIsDKH4p+Nvt5nxIILgJYGtY/97RfUaCe8VcXbARQKZV5BGxEmTbReI0CMJ/zT6ZenTV6dOnlVOoWbB1OWfOnFyp6s1tiuI9lJCnnnrKpYShvo+dMcOjA6txmwaRNBQSIAESKEwCxh9AMPPamXoLc14ciwS8JZCZmSmjR49WYa5ISqd/plEQEZlcsc2CiJ1nnnnmhhDgzp07qzxf8N9EttapU6cKfDFgMYQfBvLPfPzxxyqKx53viR4NhHGQYK1mzZoqKs1dcT5P64JStGTJklzNMB+EOmM3BWnyv/76a1dZAxRwnDhxou14HpURPaQOo9KD3dMt4nkSIAESIAESyE0A1r21a9dKnz59VM4RJFJDgjM80GExgQsE6regYJ5ZEEKbkJAgUFxQNK9fv35Sp04dpdAgDT38UZCnBBYU3cJi7gNp6tEeCgiqDCObMcKJoRzlJZIHae3xMgr6xzYMFCI9UzDOY17ILIs0+HbiURmxu5jnSIAESKCgCZh9RoxfdAU9NvsnAScIoIYNlA8kAkMBOV3wAEdF3z/84Q/KKmKVzwSKBJSGSZMmqaR/2K7BCwIDARQcWEsQRrthwwZ1zOxOgWJ5OI9Kw9g+wQsZY6HMQDFyQmCxxE4KxobyhaR8COtFrR0oS+Y5mcekMmImwvckQAJ+RQCmX2P2Sn901PMrYJyMVwSQ86KbVuUY0rZt2xuuQV4M7Ax4SmOOPDhQkGEBcOfKgHMvvvii2rpYvny5KiYH6wR8RO68806VcdX4GTdPBvNDBlNsf8DZFWUB4BDaoUMHadeunRoXOcCQFRV/m30zMBasMCjEh60dzBd1ntzN1zw+3vfv319d40mwDoTjI9EbtoO8FSoj3pJiOxIggSIhgPxGRqHPSJHchqAbFAqAXdp1PHy9kQEDBnjTTCIjI2Xo0KHqlReBtaFXr17qZSV4+NtleoVj7Ouvv251qVfHPPXvVSc2jTwqI9CE9Lo0tWrVsumKp0iABEjAeQJwskNhON1/zV2dEOdHZo8kQAKFRcCjMhIfHy94UUiABEigKAjgF+GYMWOKYmiOSQIkUEgEfMozUkhz4jAkQAIkQAIkQAIhRIDKSAjdbC6VBEiABEiABPyRgMdtGn+cNOdEAiRAAiRAAv5MABElL7/8spribbfd5s9T9Yu5URnxi9vASRQVAaQXR+0ICgn4OwFjfhU482ZnZ/v7lEN6fghxHTdunItBKN8vhOd7kjAtTO6ap0Y8TwLBRgDJeVasWKGyGvKfQLDd3eBcD/KrIIMmBNXT4dhLIYFAINC6dWsZOHCgyjTrTtyfcXcFj5NAEBBA4qA1a9YEwUq4hFAkgJTb7uqQhCIPrtm/CSDzbLNmzaRp06ZuJ0oHVrdoeCJYCcDEjQyIFBIgARIggYIngK1wZH61E1pG7OjwXFASgDKi13bAAlGbAVo7hQRIgARIwBkCUEC2bNmiKhJDUAsHfk/mjMr6aFRGnOHOXgKIAP5BXLp0yTVj1Ifo3r17AK2AUyUBEiAB/yaA71kU5NOVkfPnzyufJ3fKCLdp/Pt+cnYFQAD/SIye7agZQSEBEiABEnCOAJQOY+kGBA3oDthWo1AZsaLCY0FNwOz4505TD2oIXBwJkAAJFDABY1XgX3/91TaNApWRAr4Z7N7/CMBcaBQkJ6KQAAmQAAk4S8AYfg5lxC6NApURZ9mzNxIgARIgARIgAR8JUBnxERibBz4B7F0aBQmkKCRAAiRAAs4SMGZehZ8eIhndCZURd2R4PGgJmJURb1IVBy0MLowESIAECogAUuLrglBfbtMUEGh2SwIkQAIkQAIkkH8CtIzknyF7IAESIAESIAESyAcBJj3LBzxeGpgEEG5WvXp11+TDwsICcyGcNQmQAAn4MYFSpUrl+q61S6PAqr1+fCM5NRIgARIgARIIBQLcpgmFu8w1kgAJkAAJkIAfE6Ay4sc3h1MjARIgARIggVAgQGUkFO4y10gCJEACJEACfkyAyogf3xxOjQRIgARIgARCgUCeo2nOnj0rx44dk/3790tWVlYosOIaSYAESIAESIAELAhER0dLbGys1KtXTypWrGjRwv6Qz8oIKp4mJibK6tWr5dKlS7bpXe2H5lkSIAESIAESIIFgIRAeHi7IaN2pUyfp0qWL+ttb8Sm09+jRo5KQkCAHDx6UnJwcb8dgOxIgARIgARIggRAhgNxNderUkfvuu08aNGjg1aq9VkagiMyaNUsyMjJcHRcrXkzKR5ST8hXKSVgY3U+8Is5GJEACJEACJBBEBFBz5uL5i3I++4JczbnqWllkZKSMGzdOKSaexCtlBNsxs2fPlpSUFFd/FSpGSNsurSW2YV2pUClCjAVxPA3K8yRAAiRAAiRAAsFB4NrVa5KdlS1HDx2XnZt3y5mMM1pRvOtri4mJkYkTJwoyX9uJR58RaDxJSUmyb98+Vz+1Y2vK7YN6SKUqlez65jkSIAESIAESIIEgJxBWLEwiK0eqV0z92rLm63WSevCIWjV2VTZv3iw9evTQdlDcl97wuLeSmZkp69atE5T/hZQtX1Z6D+5FRSTIP1xcHgmQAAmQAAn4SiCyUgWJv7OHUkx0Wb9+vSD4xU48KiMnT56UM2fOqD7gI9KxRzupaBjErnOeIwESIAESIAESCC0CcONo3eFm16LT09OVhcROPCojBw4ccFlFUIGvfpN6dv3xHAmQAAmQAAmQQIgTaNKioYSXDHdROHLk+raNOywelRFjQrPIyhUkIrK8u754nARIgARIgARIgASkZOlSmjvHb8nP0tLSbKl4VEaMV4eHe/R3tR2MJ0mABEiABEiABIKfAFxVjVG2CIaxE5+UEbuOeI4ESIAESIAESIAE8kKAykheqPEaEiABEiABEiABxwhQGXEMJTsiARIgARIgARLICwEqI3mhxmtIgARIgARIgAQcI0CPVMdQsiMSKDoC/07ZL8sWrVATaPu7NtK9d7eim0whjnzlSo6UKFG8EEfkUCRAAgVBgMpIQVBlnyRQyAR+OnhIPnxvrho1RytUFezKSI6mhBz47qBsWrdZRj0xspBpczgSIAGnCXCbxmmi7I8ESKBACVy+fFk+mD5bhg4aKev/mVigY7FzEiCBwiFAZaRwOHMUEiABhwhcunhJ/m/paq1c+XmHemQ3JEACRU2AykhR3wGOTwIkQAIkQAIhToDKSIh/ALh8EiABEiABEihqAnRgLeo7wPFJoBAILPpiiaT+dFia3NRI+t/VV04cOylLFiyVnVt3aVW5MyWqSpQ01s71vqOX3NymleWMDv2YKru2Jku58uXktp6dBb4bG79NksS1G+XMqTOqj1a3tJCOXX8ndevXlbAwJITOLV9+ukg2fbtZHXzjvVelpKGQlrHlFx8tkC0bt6lDz7w0WapWi1Z/r17+T0k/mS5ZZ7PU+1MZp2XhZ1+pv5u2aCLNWzVTf1NIgAQCiwCVkcC6X5wtCeSJwIrFKzWlYZP0GXC7VIisIM9PfkmOHTkuxnoRUCqNRL1PAAAIyElEQVQWz18iI8cOl+FjhuaquIlBdyTtlGefniIxdWtLcS2cds7Mj2Rv8r/k8q+XXXNa8uVSqVI1SsY8OUruH36PhIf/VrUTjfbt+besXLJKtX9t2kvaf3Of1ztK2b3P1W785HEi/1VGpr72rvzw/Y+u8Q79kCrPTHhOvX/s6TFURlxk+AcJBBYBKiOBdb84WxLIF4ED+w/K5CeekUsXLkmnbh2kZVwLpZBsT9ohKcn75MzpTJn5t/elYZOG0i3+Nsuxzp+/IK/85Q1JO54mDZs2kB5aTpMaNWvIvr375JtlayQj7ZS8/dJUde2DI+5TiotT0qZ9a4nWFJMUTQm6oM0jsmKkZslpqbqP1awxFBIggcAkQGUkMO8bZ00CeSLw0w+HpFLlSvL69Fekq6ZslNbKfEPOZ1+Q6W/OkHkffKYe8ssWLXerjGRlZkl2Vrb06ttDbaHUqFVd9XH16hC5/Y54efF/XpHDh47Ie2/NlLhbWymFxyl54a3n5FzWORkxZLQg0VuTZo3k/c9nOtU9+yEBEigiAnRgLSLwHJYEioIASnoPH/OQ9B4Q71JEMI+ICuXl96MelJq1a6hpHT501HZ6DRrXlz+/MMmliKAx+u7SvZNM/MsEKaUpOWc1pSVB8+fwVDrcdiCeJAESCAkCVEZC4jZzkSRwnUDZcmWkR5/uljjgJFqlahV17lT6acs2+kE4wdaMqWnZpmvPLlK9ZjV1LnnbbqWUUEiABEjAjgCVETs6PEcCQUagZMmSEhMbY7kqWDPwguTkXJGLFy5atitdprR0uO13ludwEOebtbxJnc9Iy1AvCgmQAAnYEaAyYkeH50ggyAhgK6Vs2TIeV4XaL3BUtZKKmtNoxUqRVqdcx3RnUlhF4GNCIQESIAE7AlRG7OjwHAmQwA0EwrXcIOHh9r7v5cqVveE6HiABEiABdwSojLgjw+MkQAJ5JvDLf/6T52t5IQmQQOgRoDISevecKyaBfBGAL8nPl36x7eO4llANUimqknr5Ir/+51fJ1PKdUEiABEKHAJWR0LnXXCkJOELgrJaK/aeDh9z29fPPv6jMrBBjhI75gvST1o6tFzRlJ/XHw+bmfE8CJBDEBKiMBPHN5dJIoCAIXLt6TRZ8kqCSo1nJ6uVr5OjhY+pUhy7tpbLBMmJ0fE3esfuGy6/mXJVvV69XSdMoJEACoUOAykjo3GuulAQcI4AidrOmfXiDQoLj015/T7DVUq1GNRny4F25Cua1bneLaw4z3v6HbNu0Xdvy+VnL3npVK4CXIfPnJcgbz78jxYu7TyGPiKBixa9/dR1JPaaK/kGuXLni2PrYEQmQQOESsHeJL9y5cDQSIIEAIVCiRAmZrRXK27MrRTp17aC2Y1J2/0uWLlyh0rWX0XKNPPbUaGnYuEGuFbVuf4u079RWtmpKCKwfj4+YIPUb1VPZYDPST8mR1KPKktJvUB9ZvOBrSxqoGhz93+RsyGHyyEOPq2Rtnbt3lJGPDbesFmzZEQ+SAAn4DQEqI35zKzgREggcAmOefFhTPJZrlo1tsiVxq2viYWFhKkX8oxPGyJAHBrksGHqD8poi8eaMV+XP45+T5O27JftctuzesUedLqGFCyM/ycRnJ6iEa6uWrVbHw4qFufrHH7CM3P3QYNmxdZecP3deUPwPr2uadWX46N+rfigkQAKBRYD/agPrfnG2JGBJIO7Wm1XxO0hDrW6MWR4eO0LuGNw/Vz0acxu8h5Jx1313aplYS6qKuO4E1o07BveTr+YvkR1Ju+Tk8ZPSqGlDuaVtnPQd2Ftq163l1kKB7Zt/fDJddm1PlqTEbXL8yDGJiq4izW9uJh01H5Oo6ChV+XfGR/+rhq9WveoN0+ge31X+9o83lfVEz/DarJWW9TW33nLDdTxAAiTgnwSojPjnfeGsSMAnArXr1BK83Ild+nbjNdhy8VbqaGnlx08e523zXO2QOK19p3bqZSVVq0cLXu6keIni0qVHJ/WikAAJBD4BOrAG/j3kCkiABEiABEggoAlQGQno28fJkwAJkAAJkEDgE6AyEvj3kCsgARIgARIggYAmQGUkoG8fJ08CJEACJEACgU/AowNreHi4a5XnzmbLlctXGDoX+PedKyABnwk0bdFUHhk/Sl1XvWZ1n6/nBSRAAqFDAEkIz2Wecy24dOnStov3qIzUr19fNm7cqDpBcayTR9Mkpn5t2055kgRIIPgItIxrLnhRSIAESMATgZNH03MV1GzUqJHtJR63aWJjYyUiIkJ1cvnXy7J1w05lHaGQAAmQAAmQAAmQgJnApYs/y5Z121yHy5QpI/Xq1TM3y/XeozISHR0tjRs3dl109Kejkrxlr+Tk5Nh2zJMkQAIkQAIkQAKhRQBGi12bd8sJbRdFl7Zt20r58uVtQXhURkqWLCn9+/eXqKgo1dFVrWLnpjVbZN2KRMnOOi/Xrl2zHYAnSYAESIAESIAEgpsAil1mnjorqxatkR0bk12LrVKlitIh7IpfonGYpkx41CbQZMOGDTJ//vxcFpHIShWkbsM6UqN2tRtqUAQ3dq6OBEiABEiABEgABK5cyZETh0/I4R+PyYXsCy4oKKg5cuRIadOmjUdQXikj1we7IqtWrZKVK1fK5cuXPXbMBiRAAiRAAiRAAqFJAH4isIjEx8d7BcBrZQS9wUJy6NAh+eSTT+T48eNeDcBGJEACJEACJEACoUOgbt26MmzYMKld2/vIW5+UER0lLCPbtm2TlJQUSU1NlaysLPqOhM7njCslARIgARIggVwE4FfaoEEDadWqlcTFxYkxR5k3qPKkjOgdI6IGigkcVygkQAIkQAIkQAKhSQAOqlBAihXzGBdjCShfyohljzxIAiRAAiRAAiRAAj4QyJsK48MAbEoCJEACJEACJEACdgSojNjR4TkSIAESIAESIIECJ0BlpMARcwASIAESIAESIAE7AlRG7OjwHAmQAAmQAAmQQIEToDJS4Ig5AAmQAAmQAAmQgB2B/wdBWDcCovpCpwAAAABJRU5ErkJggg==)"
      ],
      "metadata": {
        "id": "sA4mIRFg4MqR"
      }
    },
    {
      "cell_type": "code",
      "source": [
        "input_A = keras.layers.Input(shape=[5]) # features 0-4\n",
        "input_B = keras.layers.Input(shape=[6]) # features 2-7\n",
        "hidden1 = keras.layers.Dense(30, activation=\"relu\")(input_B)\n",
        "hidden2 = keras.layers.Dense(30, activation=\"relu\")(hidden1)\n",
        "concat = keras.layers.concatenate([input_A, hidden2])\n",
        "output = keras.layers.Dense(1)(concat)\n",
        "model = keras.models.Model(inputs=[input_A, input_B], outputs=[output])\n",
        "\n",
        "model.summary()"
      ],
      "metadata": {
        "colab": {
          "base_uri": "https://localhost:8080/"
        },
        "id": "1Ta6sVuW2oxv",
        "outputId": "eb057525-04bc-4ae0-d881-fcf2481ab5fc"
      },
      "execution_count": 47,
      "outputs": [
        {
          "output_type": "stream",
          "name": "stdout",
          "text": [
            "Model: \"model_7\"\n",
            "__________________________________________________________________________________________________\n",
            " Layer (type)                   Output Shape         Param #     Connected to                     \n",
            "==================================================================================================\n",
            " input_13 (InputLayer)          [(None, 6)]          0           []                               \n",
            "                                                                                                  \n",
            " dense_37 (Dense)               (None, 30)           210         ['input_13[0][0]']               \n",
            "                                                                                                  \n",
            " input_12 (InputLayer)          [(None, 5)]          0           []                               \n",
            "                                                                                                  \n",
            " dense_38 (Dense)               (None, 30)           930         ['dense_37[0][0]']               \n",
            "                                                                                                  \n",
            " concatenate_9 (Concatenate)    (None, 35)           0           ['input_12[0][0]',               \n",
            "                                                                  'dense_38[0][0]']               \n",
            "                                                                                                  \n",
            " dense_39 (Dense)               (None, 1)            36          ['concatenate_9[0][0]']          \n",
            "                                                                                                  \n",
            "==================================================================================================\n",
            "Total params: 1,176\n",
            "Trainable params: 1,176\n",
            "Non-trainable params: 0\n",
            "__________________________________________________________________________________________________\n"
          ]
        }
      ]
    },
    {
      "cell_type": "code",
      "source": [
        "optimizer = tf.keras.optimizers.Adam(lr=0.05)\n",
        "model.compile(loss= 'mean_squared_error', optimizer=optimizer)\n",
        "\n",
        "X_train_A, X_train_B = X_train[:, :5], X_train[:, 2:]\n",
        "X_valid_A, X_valid_B = X_valid[:, :5], X_valid[:, 2:]\n",
        "X_test_A, X_test_B = X_test[:, :5], X_test[:, 2:]\n",
        "history = model.fit((X_train_A, X_train_B), y_train, epochs=20,\n",
        "validation_data=((X_valid_A, X_valid_B), y_valid))\n",
        "\n",
        "y_pred= model.predict((X_test_A, X_test_B))\n",
        "print(mean_squared_error(y_pred, y_test))"
      ],
      "metadata": {
        "colab": {
          "base_uri": "https://localhost:8080/"
        },
        "id": "zlJJuwQ_6Cu0",
        "outputId": "a9cb12a2-4370-473d-c84b-688f7174570f"
      },
      "execution_count": 48,
      "outputs": [
        {
          "output_type": "stream",
          "name": "stderr",
          "text": [
            "/usr/local/lib/python3.7/dist-packages/keras/optimizer_v2/adam.py:105: UserWarning: The `lr` argument is deprecated, use `learning_rate` instead.\n",
            "  super(Adam, self).__init__(name, **kwargs)\n"
          ]
        },
        {
          "output_type": "stream",
          "name": "stdout",
          "text": [
            "Epoch 1/20\n",
            "363/363 [==============================] - 3s 7ms/step - loss: 3593.5310 - val_loss: 1.8024\n",
            "Epoch 2/20\n",
            "363/363 [==============================] - 2s 4ms/step - loss: 3.2581 - val_loss: 3.8085\n",
            "Epoch 3/20\n",
            "363/363 [==============================] - 2s 6ms/step - loss: 3.7129 - val_loss: 20.4364\n",
            "Epoch 4/20\n",
            "363/363 [==============================] - 2s 5ms/step - loss: 16.1638 - val_loss: 26.9455\n",
            "Epoch 5/20\n",
            "363/363 [==============================] - 2s 5ms/step - loss: 75.9413 - val_loss: 2.5304\n",
            "Epoch 6/20\n",
            "363/363 [==============================] - 2s 6ms/step - loss: 1.2311 - val_loss: 64.0254\n",
            "Epoch 7/20\n",
            "363/363 [==============================] - 2s 5ms/step - loss: 3.1235 - val_loss: 2.4916\n",
            "Epoch 8/20\n",
            "363/363 [==============================] - 2s 4ms/step - loss: 17.9655 - val_loss: 58.1405\n",
            "Epoch 9/20\n",
            "363/363 [==============================] - 2s 6ms/step - loss: 8.4535 - val_loss: 24.0266\n",
            "Epoch 10/20\n",
            "363/363 [==============================] - 2s 6ms/step - loss: 11.3710 - val_loss: 11.2792\n",
            "Epoch 11/20\n",
            "363/363 [==============================] - 2s 5ms/step - loss: 113.6177 - val_loss: 11.4103\n",
            "Epoch 12/20\n",
            "363/363 [==============================] - 1s 2ms/step - loss: 44.2687 - val_loss: 4.2452\n",
            "Epoch 13/20\n",
            "363/363 [==============================] - 1s 2ms/step - loss: 2.1693 - val_loss: 8.7611\n",
            "Epoch 14/20\n",
            "363/363 [==============================] - 1s 2ms/step - loss: 1.9685 - val_loss: 0.6420\n",
            "Epoch 15/20\n",
            "363/363 [==============================] - 1s 2ms/step - loss: 55.2420 - val_loss: 0.7789\n",
            "Epoch 16/20\n",
            "363/363 [==============================] - 1s 2ms/step - loss: 90.5089 - val_loss: 286.6296\n",
            "Epoch 17/20\n",
            "363/363 [==============================] - 1s 2ms/step - loss: 53.3896 - val_loss: 0.7556\n",
            "Epoch 18/20\n",
            "363/363 [==============================] - 1s 2ms/step - loss: 5.3831 - val_loss: 0.7542\n",
            "Epoch 19/20\n",
            "363/363 [==============================] - 1s 2ms/step - loss: 356.5235 - val_loss: 1.1309\n",
            "Epoch 20/20\n",
            "363/363 [==============================] - 1s 2ms/step - loss: 1.2208 - val_loss: 2.2194\n",
            "2.2994594560243047\n"
          ]
        }
      ]
    },
    {
      "cell_type": "markdown",
      "source": [
        "**along same lines, we can have multiple outputs**\n",
        "\n",
        "### uses\n",
        "* tasks requiring clasification and regression\n",
        "* regularization\n",
        "\n",
        "![image.png](data:image/png;base64,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)"
      ],
      "metadata": {
        "id": "Jx5FF3iK6dN1"
      }
    },
    {
      "cell_type": "code",
      "source": [
        "## implementing the same\n",
        "\n",
        "input_A = keras.layers.Input(shape=[5]) # features 0-4\n",
        "input_B = keras.layers.Input(shape=[6]) # features 2-7\n",
        "hidden1 = keras.layers.Dense(30, activation=\"relu\")(input_B)\n",
        "hidden2 = keras.layers.Dense(30, activation=\"relu\")(hidden1)\n",
        "concat = keras.layers.concatenate([input_A, hidden2])\n",
        "output = keras.layers.Dense(1)(concat)\n",
        "aux_output = keras.layers.Dense(1)(hidden2)\n",
        "model = keras.models.Model(inputs=[input_A, input_B],\n",
        "                          outputs=[output, aux_output])\n",
        "\n",
        "model.summary()"
      ],
      "metadata": {
        "colab": {
          "base_uri": "https://localhost:8080/"
        },
        "id": "Ce-VkycJ9Mz5",
        "outputId": "8d7023d6-4e41-4101-d50a-c78cddd89c54"
      },
      "execution_count": 49,
      "outputs": [
        {
          "output_type": "stream",
          "name": "stdout",
          "text": [
            "Model: \"model_8\"\n",
            "__________________________________________________________________________________________________\n",
            " Layer (type)                   Output Shape         Param #     Connected to                     \n",
            "==================================================================================================\n",
            " input_15 (InputLayer)          [(None, 6)]          0           []                               \n",
            "                                                                                                  \n",
            " dense_40 (Dense)               (None, 30)           210         ['input_15[0][0]']               \n",
            "                                                                                                  \n",
            " input_14 (InputLayer)          [(None, 5)]          0           []                               \n",
            "                                                                                                  \n",
            " dense_41 (Dense)               (None, 30)           930         ['dense_40[0][0]']               \n",
            "                                                                                                  \n",
            " concatenate_10 (Concatenate)   (None, 35)           0           ['input_14[0][0]',               \n",
            "                                                                  'dense_41[0][0]']               \n",
            "                                                                                                  \n",
            " dense_42 (Dense)               (None, 1)            36          ['concatenate_10[0][0]']         \n",
            "                                                                                                  \n",
            " dense_43 (Dense)               (None, 1)            31          ['dense_41[0][0]']               \n",
            "                                                                                                  \n",
            "==================================================================================================\n",
            "Total params: 1,207\n",
            "Trainable params: 1,207\n",
            "Non-trainable params: 0\n",
            "__________________________________________________________________________________________________\n"
          ]
        }
      ]
    },
    {
      "cell_type": "markdown",
      "source": [
        "Each output will need its own loss function, so when we compile the model we\n",
        "should pass a list of losses (if we pass a single loss, Keras will assume that the same\n",
        "loss must be used for all outputs). By default, Keras will compute all these losses and\n",
        "simply add them up to get the final loss used for training"
      ],
      "metadata": {
        "id": "lJzkF29b-mv3"
      }
    },
    {
      "cell_type": "code",
      "source": [
        "model.compile(loss=[\"mse\", \"mse\"], loss_weights=[0.9, 0.1], optimizer=optimizer)\n",
        "history = model.fit([X_train_A, X_train_B], [y_train, y_train], epochs=20,\n",
        "                    validation_data=([X_valid_A, X_valid_B], [y_valid, y_valid]))\n",
        "\n"
      ],
      "metadata": {
        "colab": {
          "base_uri": "https://localhost:8080/"
        },
        "id": "tWSY8ZvX-nz8",
        "outputId": "56c45874-9dc8-458a-b27a-7d3aac396834"
      },
      "execution_count": 50,
      "outputs": [
        {
          "output_type": "stream",
          "name": "stdout",
          "text": [
            "Epoch 1/20\n",
            "363/363 [==============================] - 2s 3ms/step - loss: 191011.5156 - dense_42_loss: 204907.1875 - dense_43_loss: 65952.1953 - val_loss: 42.1299 - val_dense_42_loss: 29.9405 - val_dense_43_loss: 151.8347\n",
            "Epoch 2/20\n",
            "363/363 [==============================] - 1s 2ms/step - loss: 27.0131 - dense_42_loss: 24.2548 - dense_43_loss: 51.8375 - val_loss: 15.7128 - val_dense_42_loss: 14.8298 - val_dense_43_loss: 23.6598\n",
            "Epoch 3/20\n",
            "363/363 [==============================] - 1s 2ms/step - loss: 9.6142 - dense_42_loss: 9.9313 - dense_43_loss: 6.7604 - val_loss: 2.1016 - val_dense_42_loss: 2.1787 - val_dense_43_loss: 1.4084\n",
            "Epoch 4/20\n",
            "363/363 [==============================] - 1s 2ms/step - loss: 2.6023 - dense_42_loss: 2.7429 - dense_43_loss: 1.3378 - val_loss: 1.4874 - val_dense_42_loss: 1.5023 - val_dense_43_loss: 1.3531\n",
            "Epoch 5/20\n",
            "363/363 [==============================] - 1s 2ms/step - loss: 1.9784 - dense_42_loss: 2.0496 - dense_43_loss: 1.3377 - val_loss: 1.2724 - val_dense_42_loss: 1.2634 - val_dense_43_loss: 1.3530\n",
            "Epoch 6/20\n",
            "363/363 [==============================] - 1s 2ms/step - loss: 1.5004 - dense_42_loss: 1.5185 - dense_43_loss: 1.3375 - val_loss: 1.0407 - val_dense_42_loss: 1.0060 - val_dense_43_loss: 1.3530\n",
            "Epoch 7/20\n",
            "363/363 [==============================] - 1s 3ms/step - loss: 1.1810 - dense_42_loss: 1.1636 - dense_43_loss: 1.3377 - val_loss: 1.0934 - val_dense_42_loss: 1.0645 - val_dense_43_loss: 1.3533\n",
            "Epoch 8/20\n",
            "363/363 [==============================] - 1s 2ms/step - loss: 0.9588 - dense_42_loss: 0.9167 - dense_43_loss: 1.3377 - val_loss: 0.8307 - val_dense_42_loss: 0.7727 - val_dense_43_loss: 1.3535\n",
            "Epoch 9/20\n",
            "363/363 [==============================] - 1s 2ms/step - loss: 0.8296 - dense_42_loss: 0.7732 - dense_43_loss: 1.3375 - val_loss: 0.7872 - val_dense_42_loss: 0.7244 - val_dense_43_loss: 1.3529\n",
            "Epoch 10/20\n",
            "363/363 [==============================] - 1s 2ms/step - loss: 0.7695 - dense_42_loss: 0.7063 - dense_43_loss: 1.3378 - val_loss: 0.7717 - val_dense_42_loss: 0.7071 - val_dense_43_loss: 1.3531\n",
            "Epoch 11/20\n",
            "363/363 [==============================] - 1s 2ms/step - loss: 0.7529 - dense_42_loss: 0.6879 - dense_43_loss: 1.3378 - val_loss: 0.7395 - val_dense_42_loss: 0.6713 - val_dense_43_loss: 1.3530\n",
            "Epoch 12/20\n",
            "363/363 [==============================] - 1s 2ms/step - loss: 0.7312 - dense_42_loss: 0.6638 - dense_43_loss: 1.3381 - val_loss: 0.7858 - val_dense_42_loss: 0.7228 - val_dense_43_loss: 1.3529\n",
            "Epoch 13/20\n",
            "363/363 [==============================] - 1s 2ms/step - loss: 0.7378 - dense_42_loss: 0.6712 - dense_43_loss: 1.3379 - val_loss: 0.7535 - val_dense_42_loss: 0.6868 - val_dense_43_loss: 1.3533\n",
            "Epoch 14/20\n",
            "363/363 [==============================] - 1s 2ms/step - loss: 0.7315 - dense_42_loss: 0.6640 - dense_43_loss: 1.3383 - val_loss: 0.8077 - val_dense_42_loss: 0.7471 - val_dense_43_loss: 1.3531\n",
            "Epoch 15/20\n",
            "363/363 [==============================] - 1s 2ms/step - loss: 0.7635 - dense_42_loss: 0.6996 - dense_43_loss: 1.3390 - val_loss: 0.9421 - val_dense_42_loss: 0.8964 - val_dense_43_loss: 1.3530\n",
            "Epoch 16/20\n",
            "363/363 [==============================] - 1s 2ms/step - loss: 0.8180 - dense_42_loss: 0.7602 - dense_43_loss: 1.3388 - val_loss: 0.8519 - val_dense_42_loss: 0.7963 - val_dense_43_loss: 1.3529\n",
            "Epoch 17/20\n",
            "363/363 [==============================] - 1s 2ms/step - loss: 0.8045 - dense_42_loss: 0.7453 - dense_43_loss: 1.3380 - val_loss: 0.7152 - val_dense_42_loss: 0.6439 - val_dense_43_loss: 1.3569\n",
            "Epoch 18/20\n",
            "363/363 [==============================] - 1s 2ms/step - loss: 0.7955 - dense_42_loss: 0.7352 - dense_43_loss: 1.3386 - val_loss: 0.9896 - val_dense_42_loss: 0.9491 - val_dense_43_loss: 1.3542\n",
            "Epoch 19/20\n",
            "363/363 [==============================] - 1s 3ms/step - loss: 1.0148 - dense_42_loss: 0.9787 - dense_43_loss: 1.3399 - val_loss: 0.7170 - val_dense_42_loss: 0.6461 - val_dense_43_loss: 1.3551\n",
            "Epoch 20/20\n",
            "363/363 [==============================] - 1s 2ms/step - loss: 1.2839 - dense_42_loss: 1.2777 - dense_43_loss: 1.3395 - val_loss: 1.0720 - val_dense_42_loss: 1.0407 - val_dense_43_loss: 1.3544\n"
          ]
        }
      ]
    },
    {
      "cell_type": "code",
      "source": [
        "y_pred_main, y_pred_aux = model.predict([X_test_A, X_test_B])\n",
        "print('aux output error: ', mean_squared_error(y_pred_aux, y_test))\n",
        "print('main output error: ', mean_squared_error(y_pred_main, y_test))"
      ],
      "metadata": {
        "colab": {
          "base_uri": "https://localhost:8080/"
        },
        "id": "vxJc_YVhB9x1",
        "outputId": "fc8f1d18-4863-4727-f49f-ed3052a3e792"
      },
      "execution_count": 51,
      "outputs": [
        {
          "output_type": "stream",
          "name": "stdout",
          "text": [
            "aux output error:  1.3077955433720616\n",
            "main output error:  1.0769200585438774\n"
          ]
        }
      ]
    },
    {
      "cell_type": "markdown",
      "source": [
        "**Though Functional() and Sequential() API have its advantages, they still remain static**\n",
        "* Solution: use SubclassingAPI\n",
        "\n",
        "\n",
        "\n",
        "```\n",
        "class WideDeepModel( keras.models.Model):\n",
        "  def __init__(self, units=30, activation=\"relu\",   **kwargs):\n",
        "    super().__init__(**kwargs)\n",
        "    self.hidden1= keras.layers.Dense(units, activation=activation)\n",
        "    self.hidden2= keras.layers.Dense(units, activation=activation)\n",
        "    self.main_output= keras.layers.Dense(1)\n",
        "    self.aux_output= keras.layers.Dense(1)\n",
        "\n",
        "  def call(self, input): \n",
        "    '''we can do anything in call method\n",
        "    for loops, if statements, low level commands\n",
        "    this component brings out the power of Subclassing API'''\n",
        "    input_A, input_B= input\n",
        "    hidden1=self.hidden1(input_B)\n",
        "    hidden2=self.hidden2(hidden1)\n",
        "    concat=keras.layers.concatenate([hidden2, input_A])\n",
        "    main_output=self.main_output(concat)\n",
        "    aux_output=self.aux_output(hidden2)\n",
        "\n",
        "model= WideDeepModel()\n",
        "```\n",
        "\n",
        "> look more into Subclassing APIZ"
      ],
      "metadata": {
        "id": "HVYJThoULI2b"
      }
    },
    {
      "cell_type": "code",
      "source": [
        "##saving and loading\n",
        "model.save('my_multi_input_multi_output_funcyional_model.h5')\n",
        "model=keras.models.load_model('my_multi_input_multi_output_funcyional_model.h5')\n",
        "\n",
        "'''This will work when using the Sequential API or the Functional\n",
        "API, but unfortunately not when using Model subclassing.'''"
      ],
      "metadata": {
        "colab": {
          "base_uri": "https://localhost:8080/",
          "height": 54
        },
        "id": "lLyGchr0CecD",
        "outputId": "dfa591e0-84b0-4663-c1fc-0644c5cd43fe"
      },
      "execution_count": 52,
      "outputs": [
        {
          "output_type": "stream",
          "name": "stdout",
          "text": [
            "WARNING:tensorflow:Error in loading the saved optimizer state. As a result, your model is starting with a freshly initialized optimizer.\n"
          ]
        },
        {
          "output_type": "execute_result",
          "data": {
            "application/vnd.google.colaboratory.intrinsic+json": {
              "type": "string"
            },
            "text/plain": [
              "'This will work when using the Sequential API or the Functional\\nAPI, but unfortunately not when using Model subclassing.'"
            ]
          },
          "metadata": {},
          "execution_count": 52
        }
      ]
    },
    {
      "cell_type": "markdown",
      "source": [
        "## Using Callbacks\n",
        "* ModelCheckpoint callback saves checkpoints of your model at regular intervals during\n",
        "training, by default at the end of each epoch\n",
        "* if we use a validation set during training, you can set\n",
        "save_best_only=True when creating the ModelCheckpoint .\n",
        "* Another way to implement early stopping is to simply use the EarlyStopping callback.\n"
      ],
      "metadata": {
        "id": "Yo6QQFKPW_bB"
      }
    },
    {
      "cell_type": "code",
      "source": [
        "'''making checkpoint and each iteration and saving if its the best so far'''\n",
        "\n",
        "model= keras.models.Sequential()\n",
        "model.add(keras.layers.Dense(30, activation=\"relu\", input_shape=X_train.shape[1:]))\n",
        "model.add(keras.layers.Dense(1))\n",
        "optimizer = tf.keras.optimizers.Adam(lr=0.05)\n",
        "model.compile(loss= 'mean_squared_error', optimizer=optimizer)## build and compile model\n",
        "\n",
        "\n",
        "checkpoint_cb = keras.callbacks.ModelCheckpoint(\"my_keras_model.h5\", save_best_only=True)\n",
        "history = model.fit(X_train, y_train, epochs=10,\n",
        "                    validation_data=(X_valid, y_valid), \n",
        "                    callbacks=[checkpoint_cb])\n",
        "model = keras.models.load_model(\"my_keras_model.h5\") # rollback to best model"
      ],
      "metadata": {
        "colab": {
          "base_uri": "https://localhost:8080/"
        },
        "id": "LJ0_Y3JbN8m_",
        "outputId": "78b4f258-91c4-470f-daf0-fec598778890"
      },
      "execution_count": 55,
      "outputs": [
        {
          "output_type": "stream",
          "name": "stderr",
          "text": [
            "/usr/local/lib/python3.7/dist-packages/keras/optimizer_v2/adam.py:105: UserWarning: The `lr` argument is deprecated, use `learning_rate` instead.\n",
            "  super(Adam, self).__init__(name, **kwargs)\n"
          ]
        },
        {
          "output_type": "stream",
          "name": "stdout",
          "text": [
            "Epoch 1/10\n",
            "363/363 [==============================] - 1s 2ms/step - loss: 619.0608 - val_loss: 5.3759\n",
            "Epoch 2/10\n",
            "363/363 [==============================] - 1s 2ms/step - loss: 1.9964 - val_loss: 21.9644\n",
            "Epoch 3/10\n",
            "363/363 [==============================] - 1s 2ms/step - loss: 2.8635 - val_loss: 32.2595\n",
            "Epoch 4/10\n",
            "363/363 [==============================] - 1s 2ms/step - loss: 3.4432 - val_loss: 23.7397\n",
            "Epoch 5/10\n",
            "363/363 [==============================] - 1s 2ms/step - loss: 3.4753 - val_loss: 10.2459\n",
            "Epoch 6/10\n",
            "363/363 [==============================] - 1s 2ms/step - loss: 1.6565 - val_loss: 1.8341\n",
            "Epoch 7/10\n",
            "363/363 [==============================] - 1s 2ms/step - loss: 0.8821 - val_loss: 1.0366\n",
            "Epoch 8/10\n",
            "363/363 [==============================] - 1s 2ms/step - loss: 1.0343 - val_loss: 2.3665\n",
            "Epoch 9/10\n",
            "363/363 [==============================] - 1s 2ms/step - loss: 5.4844 - val_loss: 1.1834\n",
            "Epoch 10/10\n",
            "363/363 [==============================] - 1s 2ms/step - loss: 0.9543 - val_loss: 0.8775\n"
          ]
        }
      ]
    },
    {
      "cell_type": "code",
      "source": [
        "'''further we can also implement early-stopping using callbacks'''\n",
        "\n",
        "model= keras.models.Sequential()\n",
        "model.add(keras.layers.Dense(30, activation=\"relu\", input_shape=X_train.shape[1:]))\n",
        "model.add(keras.layers.Dense(1))\n",
        "optimizer = tf.keras.optimizers.Adam(lr=0.05)\n",
        "model.compile(loss= 'mean_squared_error', optimizer=optimizer)##building and compiling our model\n",
        "\n",
        "early_stopping_cb = keras.callbacks.EarlyStopping(patience=10, restore_best_weights=True)\n",
        "history = model.fit(X_train, y_train, epochs=100,\n",
        "                    validation_data=(X_valid, y_valid),\n",
        "                    callbacks=[checkpoint_cb, early_stopping_cb]) #no of epochs can be kept large as its going to stop early anyways"
      ],
      "metadata": {
        "colab": {
          "base_uri": "https://localhost:8080/"
        },
        "id": "IZaE78hQOSD7",
        "outputId": "fca42ca7-4c55-4306-9aa9-79dd81c1cbd3"
      },
      "execution_count": 56,
      "outputs": [
        {
          "output_type": "stream",
          "name": "stderr",
          "text": [
            "/usr/local/lib/python3.7/dist-packages/keras/optimizer_v2/adam.py:105: UserWarning: The `lr` argument is deprecated, use `learning_rate` instead.\n",
            "  super(Adam, self).__init__(name, **kwargs)\n"
          ]
        },
        {
          "output_type": "stream",
          "name": "stdout",
          "text": [
            "Epoch 1/100\n",
            "363/363 [==============================] - 2s 4ms/step - loss: 3684.2285 - val_loss: 1.2985\n",
            "Epoch 2/100\n",
            "363/363 [==============================] - 1s 2ms/step - loss: 1.1294 - val_loss: 1.1003\n",
            "Epoch 3/100\n",
            "363/363 [==============================] - 1s 2ms/step - loss: 0.9469 - val_loss: 1.1348\n",
            "Epoch 4/100\n",
            "363/363 [==============================] - 1s 2ms/step - loss: 0.8182 - val_loss: 1.3563\n",
            "Epoch 5/100\n",
            "363/363 [==============================] - 1s 2ms/step - loss: 0.8904 - val_loss: 3.4320\n",
            "Epoch 6/100\n",
            "363/363 [==============================] - 1s 2ms/step - loss: 0.9284 - val_loss: 11.6010\n",
            "Epoch 7/100\n",
            "363/363 [==============================] - 1s 2ms/step - loss: 2.0495 - val_loss: 48.9800\n",
            "Epoch 8/100\n",
            "363/363 [==============================] - 1s 2ms/step - loss: 6.6710 - val_loss: 24.8307\n",
            "Epoch 9/100\n",
            "363/363 [==============================] - 1s 2ms/step - loss: 3.1431 - val_loss: 3.2380\n",
            "Epoch 10/100\n",
            "363/363 [==============================] - 1s 2ms/step - loss: 1.1718 - val_loss: 1.7794\n",
            "Epoch 11/100\n",
            "363/363 [==============================] - 1s 2ms/step - loss: 0.7969 - val_loss: 0.8111\n",
            "Epoch 12/100\n",
            "363/363 [==============================] - 1s 2ms/step - loss: 0.7948 - val_loss: 1.0288\n",
            "Epoch 13/100\n",
            "363/363 [==============================] - 1s 2ms/step - loss: 0.7598 - val_loss: 0.8069\n",
            "Epoch 14/100\n",
            "363/363 [==============================] - 1s 2ms/step - loss: 1.0257 - val_loss: 4.6893\n",
            "Epoch 15/100\n",
            "363/363 [==============================] - 1s 2ms/step - loss: 2.1826 - val_loss: 1.0179\n",
            "Epoch 16/100\n",
            "363/363 [==============================] - 1s 2ms/step - loss: 0.8881 - val_loss: 0.8799\n",
            "Epoch 17/100\n",
            "363/363 [==============================] - 1s 2ms/step - loss: 1.0076 - val_loss: 3.3715\n",
            "Epoch 18/100\n",
            "363/363 [==============================] - 1s 2ms/step - loss: 0.9470 - val_loss: 0.7089\n",
            "Epoch 19/100\n",
            "363/363 [==============================] - 1s 2ms/step - loss: 1.1244 - val_loss: 3.1868\n",
            "Epoch 20/100\n",
            "363/363 [==============================] - 1s 2ms/step - loss: 0.9021 - val_loss: 0.8727\n",
            "Epoch 21/100\n",
            "363/363 [==============================] - 1s 2ms/step - loss: 0.8937 - val_loss: 0.7111\n",
            "Epoch 22/100\n",
            "363/363 [==============================] - 1s 2ms/step - loss: 0.7969 - val_loss: 0.7791\n",
            "Epoch 23/100\n",
            "363/363 [==============================] - 1s 2ms/step - loss: 0.7241 - val_loss: 0.6791\n",
            "Epoch 24/100\n",
            "363/363 [==============================] - 1s 2ms/step - loss: 0.7797 - val_loss: 0.6732\n",
            "Epoch 25/100\n",
            "363/363 [==============================] - 1s 2ms/step - loss: 0.6744 - val_loss: 0.7625\n",
            "Epoch 26/100\n",
            "363/363 [==============================] - 1s 2ms/step - loss: 0.6649 - val_loss: 0.6878\n",
            "Epoch 27/100\n",
            "363/363 [==============================] - 1s 2ms/step - loss: 0.6430 - val_loss: 0.7672\n",
            "Epoch 28/100\n",
            "363/363 [==============================] - 1s 2ms/step - loss: 0.6552 - val_loss: 0.7561\n",
            "Epoch 29/100\n",
            "363/363 [==============================] - 1s 2ms/step - loss: 0.6324 - val_loss: 0.6524\n",
            "Epoch 30/100\n",
            "363/363 [==============================] - 1s 2ms/step - loss: 0.6705 - val_loss: 0.8056\n",
            "Epoch 31/100\n",
            "363/363 [==============================] - 1s 2ms/step - loss: 0.6415 - val_loss: 0.6497\n",
            "Epoch 32/100\n",
            "363/363 [==============================] - 1s 2ms/step - loss: 0.6738 - val_loss: 0.6411\n",
            "Epoch 33/100\n",
            "363/363 [==============================] - 1s 2ms/step - loss: 0.6488 - val_loss: 0.6575\n",
            "Epoch 34/100\n",
            "363/363 [==============================] - 1s 2ms/step - loss: 0.7283 - val_loss: 0.5884\n",
            "Epoch 35/100\n",
            "363/363 [==============================] - 1s 2ms/step - loss: 0.6870 - val_loss: 0.8390\n",
            "Epoch 36/100\n",
            "363/363 [==============================] - 1s 2ms/step - loss: 0.7283 - val_loss: 0.6870\n",
            "Epoch 37/100\n",
            "363/363 [==============================] - 1s 2ms/step - loss: 0.7462 - val_loss: 0.6801\n",
            "Epoch 38/100\n",
            "363/363 [==============================] - 1s 2ms/step - loss: 0.7226 - val_loss: 0.6616\n",
            "Epoch 39/100\n",
            "363/363 [==============================] - 1s 2ms/step - loss: 0.8731 - val_loss: 0.5827\n",
            "Epoch 40/100\n",
            "363/363 [==============================] - 1s 2ms/step - loss: 0.7458 - val_loss: 0.6390\n",
            "Epoch 41/100\n",
            "363/363 [==============================] - 1s 2ms/step - loss: 1.1615 - val_loss: 1.3408\n",
            "Epoch 42/100\n",
            "363/363 [==============================] - 1s 2ms/step - loss: 1.3407 - val_loss: 1.3730\n",
            "Epoch 43/100\n",
            "363/363 [==============================] - 1s 2ms/step - loss: 1.3426 - val_loss: 1.3275\n",
            "Epoch 44/100\n",
            "363/363 [==============================] - 1s 2ms/step - loss: 1.1956 - val_loss: 1.4013\n",
            "Epoch 45/100\n",
            "363/363 [==============================] - 1s 2ms/step - loss: 1.2459 - val_loss: 1.2424\n",
            "Epoch 46/100\n",
            "363/363 [==============================] - 1s 2ms/step - loss: 1.3394 - val_loss: 1.3628\n",
            "Epoch 47/100\n",
            "363/363 [==============================] - 1s 2ms/step - loss: 1.3406 - val_loss: 1.3469\n",
            "Epoch 48/100\n",
            "363/363 [==============================] - 1s 2ms/step - loss: 1.3369 - val_loss: 1.3257\n",
            "Epoch 49/100\n",
            "363/363 [==============================] - 1s 2ms/step - loss: 1.3374 - val_loss: 1.3484\n"
          ]
        }
      ]
    }
  ]
}