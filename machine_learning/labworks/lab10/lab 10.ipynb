{
  "nbformat": 4,
  "nbformat_minor": 0,
  "metadata": {
    "colab": {
      "name": "lab_10.ipynb",
      "provenance": []
    },
    "kernelspec": {
      "name": "python3",
      "display_name": "Python 3"
    },
    "language_info": {
      "name": "python"
    }
  },
  "cells": [
    {
      "cell_type": "markdown",
      "source": [
        "##Data Loading, Pre-processing and Cleaning"
      ],
      "metadata": {
        "id": "e-KEJfy3C2sH"
      }
    },
    {
      "cell_type": "code",
      "source": [
        "import pandas as pd\n",
        "from sklearn.preprocessing import StandardScaler\n",
        "scaler= StandardScaler()"
      ],
      "metadata": {
        "id": "KRoElhk2DrxM"
      },
      "execution_count": 13,
      "outputs": []
    },
    {
      "cell_type": "code",
      "execution_count": 3,
      "metadata": {
        "id": "rVHlhhwvBXqI"
      },
      "outputs": [],
      "source": [
        "cols=[]\n",
        "for i in range(1, 58):\n",
        "  cols.append(\"Attr\"+ str(i))\n",
        "cols.append('class')\n",
        "\n",
        "\n",
        "data= open('/content/drive/MyDrive/Colab Notebooks/data_sets/spambase.data')\n",
        "data= pd.read_csv(data, sep=',' )\n",
        "# print(data.info())"
      ]
    },
    {
      "cell_type": "code",
      "source": [
        "data.columns= cols\n",
        "print(data.info())"
      ],
      "metadata": {
        "colab": {
          "base_uri": "https://localhost:8080/"
        },
        "id": "lrTGIJNxDx87",
        "outputId": "d23e8515-781c-4522-8f2f-8132b6a5a4ef"
      },
      "execution_count": 4,
      "outputs": [
        {
          "output_type": "stream",
          "name": "stdout",
          "text": [
            "<class 'pandas.core.frame.DataFrame'>\n",
            "RangeIndex: 4600 entries, 0 to 4599\n",
            "Data columns (total 58 columns):\n",
            " #   Column  Non-Null Count  Dtype  \n",
            "---  ------  --------------  -----  \n",
            " 0   Attr1   4600 non-null   float64\n",
            " 1   Attr2   4600 non-null   float64\n",
            " 2   Attr3   4600 non-null   float64\n",
            " 3   Attr4   4600 non-null   float64\n",
            " 4   Attr5   4600 non-null   float64\n",
            " 5   Attr6   4600 non-null   float64\n",
            " 6   Attr7   4600 non-null   float64\n",
            " 7   Attr8   4600 non-null   float64\n",
            " 8   Attr9   4600 non-null   float64\n",
            " 9   Attr10  4600 non-null   float64\n",
            " 10  Attr11  4600 non-null   float64\n",
            " 11  Attr12  4600 non-null   float64\n",
            " 12  Attr13  4600 non-null   float64\n",
            " 13  Attr14  4600 non-null   float64\n",
            " 14  Attr15  4600 non-null   float64\n",
            " 15  Attr16  4600 non-null   float64\n",
            " 16  Attr17  4600 non-null   float64\n",
            " 17  Attr18  4600 non-null   float64\n",
            " 18  Attr19  4600 non-null   float64\n",
            " 19  Attr20  4600 non-null   float64\n",
            " 20  Attr21  4600 non-null   float64\n",
            " 21  Attr22  4600 non-null   float64\n",
            " 22  Attr23  4600 non-null   float64\n",
            " 23  Attr24  4600 non-null   float64\n",
            " 24  Attr25  4600 non-null   float64\n",
            " 25  Attr26  4600 non-null   float64\n",
            " 26  Attr27  4600 non-null   float64\n",
            " 27  Attr28  4600 non-null   float64\n",
            " 28  Attr29  4600 non-null   float64\n",
            " 29  Attr30  4600 non-null   float64\n",
            " 30  Attr31  4600 non-null   float64\n",
            " 31  Attr32  4600 non-null   float64\n",
            " 32  Attr33  4600 non-null   float64\n",
            " 33  Attr34  4600 non-null   float64\n",
            " 34  Attr35  4600 non-null   float64\n",
            " 35  Attr36  4600 non-null   float64\n",
            " 36  Attr37  4600 non-null   float64\n",
            " 37  Attr38  4600 non-null   float64\n",
            " 38  Attr39  4600 non-null   float64\n",
            " 39  Attr40  4600 non-null   float64\n",
            " 40  Attr41  4600 non-null   float64\n",
            " 41  Attr42  4600 non-null   float64\n",
            " 42  Attr43  4600 non-null   float64\n",
            " 43  Attr44  4600 non-null   float64\n",
            " 44  Attr45  4600 non-null   float64\n",
            " 45  Attr46  4600 non-null   float64\n",
            " 46  Attr47  4600 non-null   float64\n",
            " 47  Attr48  4600 non-null   float64\n",
            " 48  Attr49  4600 non-null   float64\n",
            " 49  Attr50  4600 non-null   float64\n",
            " 50  Attr51  4600 non-null   float64\n",
            " 51  Attr52  4600 non-null   float64\n",
            " 52  Attr53  4600 non-null   float64\n",
            " 53  Attr54  4600 non-null   float64\n",
            " 54  Attr55  4600 non-null   float64\n",
            " 55  Attr56  4600 non-null   int64  \n",
            " 56  Attr57  4600 non-null   int64  \n",
            " 57  class   4600 non-null   int64  \n",
            "dtypes: float64(55), int64(3)\n",
            "memory usage: 2.0 MB\n",
            "None\n"
          ]
        }
      ]
    },
    {
      "cell_type": "code",
      "source": [
        "print(data.describe())"
      ],
      "metadata": {
        "colab": {
          "base_uri": "https://localhost:8080/"
        },
        "id": "BC0NvQm4Fa2L",
        "outputId": "61d783bc-e1b4-4666-d5fa-928e7bf7836e"
      },
      "execution_count": 5,
      "outputs": [
        {
          "output_type": "stream",
          "name": "stdout",
          "text": [
            "             Attr1        Attr2        Attr3        Attr4        Attr5  \\\n",
            "count  4600.000000  4600.000000  4600.000000  4600.000000  4600.000000   \n",
            "mean      0.104576     0.212922     0.280578     0.065439     0.312222   \n",
            "std       0.305387     1.290700     0.504170     1.395303     0.672586   \n",
            "min       0.000000     0.000000     0.000000     0.000000     0.000000   \n",
            "25%       0.000000     0.000000     0.000000     0.000000     0.000000   \n",
            "50%       0.000000     0.000000     0.000000     0.000000     0.000000   \n",
            "75%       0.000000     0.000000     0.420000     0.000000     0.382500   \n",
            "max       4.540000    14.280000     5.100000    42.810000    10.000000   \n",
            "\n",
            "             Attr6        Attr7        Attr8        Attr9       Attr10  ...  \\\n",
            "count  4600.000000  4600.000000  4600.000000  4600.000000  4600.000000  ...   \n",
            "mean      0.095922     0.114233     0.105317     0.090087     0.239465  ...   \n",
            "std       0.273850     0.391480     0.401112     0.278643     0.644816  ...   \n",
            "min       0.000000     0.000000     0.000000     0.000000     0.000000  ...   \n",
            "25%       0.000000     0.000000     0.000000     0.000000     0.000000  ...   \n",
            "50%       0.000000     0.000000     0.000000     0.000000     0.000000  ...   \n",
            "75%       0.000000     0.000000     0.000000     0.000000     0.160000  ...   \n",
            "max       5.880000     7.270000    11.110000     5.260000    18.180000  ...   \n",
            "\n",
            "            Attr49       Attr50       Attr51       Attr52       Attr53  \\\n",
            "count  4600.000000  4600.000000  4600.000000  4600.000000  4600.000000   \n",
            "mean      0.038583     0.139061     0.016980     0.268960     0.075827   \n",
            "std       0.243497     0.270377     0.109406     0.815726     0.245906   \n",
            "min       0.000000     0.000000     0.000000     0.000000     0.000000   \n",
            "25%       0.000000     0.000000     0.000000     0.000000     0.000000   \n",
            "50%       0.000000     0.065000     0.000000     0.000000     0.000000   \n",
            "75%       0.000000     0.188000     0.000000     0.314250     0.052000   \n",
            "max       4.385000     9.752000     4.081000    32.478000     6.003000   \n",
            "\n",
            "            Attr54       Attr55       Attr56        Attr57        class  \n",
            "count  4600.000000  4600.000000  4600.000000   4600.000000  4600.000000  \n",
            "mean      0.044248     5.191827    52.170870    283.290435     0.393913  \n",
            "std       0.429388    31.732891   194.912453    606.413764     0.488669  \n",
            "min       0.000000     1.000000     1.000000      1.000000     0.000000  \n",
            "25%       0.000000     1.588000     6.000000     35.000000     0.000000  \n",
            "50%       0.000000     2.275500    15.000000     95.000000     0.000000  \n",
            "75%       0.000000     3.705250    43.000000    265.250000     1.000000  \n",
            "max      19.829000  1102.500000  9989.000000  15841.000000     1.000000  \n",
            "\n",
            "[8 rows x 58 columns]\n"
          ]
        }
      ]
    },
    {
      "cell_type": "code",
      "source": [
        "import numpy as np\n",
        "from sklearn.model_selection import train_test_split\n",
        "\n",
        "X= data.iloc[:, :-1]\n",
        "y= data.iloc[:, -1]\n",
        "\n",
        "X_train, X_test, y_train, y_test= train_test_split( X, y, test_size= 0.3, random_state= 42)\n",
        "scaler.fit(X)\n",
        "X_train= scaler.fit_transform(X_train)\n",
        "X_test= scaler.fit_transform( X_test)"
      ],
      "metadata": {
        "id": "6xHO9PdoIHiW"
      },
      "execution_count": 14,
      "outputs": []
    },
    {
      "cell_type": "markdown",
      "source": [
        "##Experimentation"
      ],
      "metadata": {
        "id": "TbB2IZReiKNX"
      }
    },
    {
      "cell_type": "code",
      "source": [
        "from sklearn.svm import SVC\n",
        "from sklearn.metrics import accuracy_score\n",
        "\n",
        "kernels= ['linear', 'rbf', 'quadratic']\n",
        "c_= [0.0001, 0.001, 0.01, 0.1, 1, 10, 100]\n"
      ],
      "metadata": {
        "id": "EqEeywKyI7u9"
      },
      "execution_count": 21,
      "outputs": []
    },
    {
      "cell_type": "markdown",
      "source": [
        "###For linear kernel"
      ],
      "metadata": {
        "id": "G_ElCaahmYmb"
      }
    },
    {
      "cell_type": "code",
      "source": [
        "for c in c_:\n",
        "  clf= SVC(kernel='linear', C=c)\n",
        "  clf.fit(X_train, y_train)\n",
        "  y_pred1= clf.predict( X_train)\n",
        "  y_pred2= clf.predict( X_test)\n",
        "\n",
        "  print(f'training accuracy with C={c} is {accuracy_score(y_train,y_pred1)}')\n",
        "  print(f'testing accuracy with C={c} is {accuracy_score(y_test,y_pred2)}')\n",
        "  print('\\n')"
      ],
      "metadata": {
        "colab": {
          "base_uri": "https://localhost:8080/"
        },
        "id": "JaMBtxS3iS_i",
        "outputId": "a205ef52-0220-4658-ffb8-5ef743b4b03f"
      },
      "execution_count": 22,
      "outputs": [
        {
          "output_type": "stream",
          "name": "stdout",
          "text": [
            "training accuracy with C=0.0001 is 0.7223602484472049\n",
            "testing accuracy with C=0.0001 is 0.6876811594202898\n",
            "\n",
            "\n",
            "training accuracy with C=0.001 is 0.8885093167701863\n",
            "testing accuracy with C=0.001 is 0.8659420289855072\n",
            "\n",
            "\n",
            "training accuracy with C=0.01 is 0.9260869565217391\n",
            "testing accuracy with C=0.01 is 0.9014492753623189\n",
            "\n",
            "\n",
            "training accuracy with C=0.1 is 0.9363354037267081\n",
            "testing accuracy with C=0.1 is 0.9094202898550725\n",
            "\n",
            "\n",
            "training accuracy with C=1 is 0.9391304347826087\n",
            "testing accuracy with C=1 is 0.9123188405797101\n",
            "\n",
            "\n",
            "training accuracy with C=10 is 0.9425465838509317\n",
            "testing accuracy with C=10 is 0.9101449275362319\n",
            "\n",
            "\n",
            "training accuracy with C=100 is 0.9403726708074535\n",
            "testing accuracy with C=100 is 0.9036231884057971\n",
            "\n",
            "\n"
          ]
        }
      ]
    },
    {
      "cell_type": "markdown",
      "source": [
        "###For Quadratic Kernel"
      ],
      "metadata": {
        "id": "qPfUfpl7nYIT"
      }
    },
    {
      "cell_type": "code",
      "source": [
        "for c in c_:\n",
        "  clf= SVC(kernel='poly', degree=2, C=c)\n",
        "  clf.fit(X_train, y_train)\n",
        "  y_pred1= clf.predict( X_train)\n",
        "  y_pred2= clf.predict( X_test)\n",
        "\n",
        "  print(f'training accuracy with C={c} is {accuracy_score(y_train,y_pred1)}')\n",
        "  print(f'testing accuracy with C={c} is {accuracy_score(y_test,y_pred2)}')\n",
        "  print('\\n')"
      ],
      "metadata": {
        "colab": {
          "base_uri": "https://localhost:8080/"
        },
        "id": "SNBOq4hlnMJ-",
        "outputId": "1198d8de-3dc9-42dd-deff-6b72d2c38024"
      },
      "execution_count": 23,
      "outputs": [
        {
          "output_type": "stream",
          "name": "stdout",
          "text": [
            "training accuracy with C=0.0001 is 0.6164596273291926\n",
            "testing accuracy with C=0.0001 is 0.5818840579710145\n",
            "\n",
            "\n",
            "training accuracy with C=0.001 is 0.6173913043478261\n",
            "testing accuracy with C=0.001 is 0.5826086956521739\n",
            "\n",
            "\n",
            "training accuracy with C=0.01 is 0.6434782608695652\n",
            "testing accuracy with C=0.01 is 0.6007246376811595\n",
            "\n",
            "\n",
            "training accuracy with C=0.1 is 0.7409937888198758\n",
            "testing accuracy with C=0.1 is 0.6949275362318841\n",
            "\n",
            "\n",
            "training accuracy with C=1 is 0.8596273291925466\n",
            "testing accuracy with C=1 is 0.8246376811594203\n",
            "\n",
            "\n",
            "training accuracy with C=10 is 0.9509316770186336\n",
            "testing accuracy with C=10 is 0.8992753623188405\n",
            "\n",
            "\n",
            "training accuracy with C=100 is 0.9754658385093168\n",
            "testing accuracy with C=100 is 0.8855072463768116\n",
            "\n",
            "\n"
          ]
        }
      ]
    },
    {
      "cell_type": "markdown",
      "source": [
        "###For RBF Kernel"
      ],
      "metadata": {
        "id": "WDeqtCvon3rU"
      }
    },
    {
      "cell_type": "code",
      "source": [
        "for c in c_:\n",
        "  clf= SVC(kernel='rbf',  C=c)\n",
        "  clf.fit(X_train, y_train)\n",
        "  y_pred1= clf.predict( X_train)\n",
        "  y_pred2= clf.predict( X_test)\n",
        "\n",
        "  print(f'training accuracy with C={c} is {accuracy_score(y_train,y_pred1)}')\n",
        "  print(f'testing accuracy with C={c} is {accuracy_score(y_test,y_pred2)}')\n",
        "  print('\\n')"
      ],
      "metadata": {
        "colab": {
          "base_uri": "https://localhost:8080/"
        },
        "id": "ELxUPT5SpS83",
        "outputId": "317e9a02-1c52-4541-a1df-d54fb1e44acc"
      },
      "execution_count": 24,
      "outputs": [
        {
          "output_type": "stream",
          "name": "stdout",
          "text": [
            "training accuracy with C=0.0001 is 0.6164596273291926\n",
            "testing accuracy with C=0.0001 is 0.5818840579710145\n",
            "\n",
            "\n",
            "training accuracy with C=0.001 is 0.6164596273291926\n",
            "testing accuracy with C=0.001 is 0.5818840579710145\n",
            "\n",
            "\n",
            "training accuracy with C=0.01 is 0.6934782608695652\n",
            "testing accuracy with C=0.01 is 0.6514492753623189\n",
            "\n",
            "\n",
            "training accuracy with C=0.1 is 0.9180124223602485\n",
            "testing accuracy with C=0.1 is 0.886231884057971\n",
            "\n",
            "\n",
            "training accuracy with C=1 is 0.9506211180124223\n",
            "testing accuracy with C=1 is 0.9231884057971015\n",
            "\n",
            "\n",
            "training accuracy with C=10 is 0.9692546583850932\n",
            "testing accuracy with C=10 is 0.922463768115942\n",
            "\n",
            "\n",
            "training accuracy with C=100 is 0.9869565217391304\n",
            "testing accuracy with C=100 is 0.9159420289855073\n",
            "\n",
            "\n"
          ]
        }
      ]
    },
    {
      "cell_type": "markdown",
      "source": [
        "###Sigmoid kernel"
      ],
      "metadata": {
        "id": "abRtzWyip0zE"
      }
    },
    {
      "cell_type": "code",
      "source": [
        "for c in c_:\n",
        "  clf= SVC(kernel='sigmoid',  C=c)\n",
        "  clf.fit(X_train, y_train)\n",
        "  y_pred1= clf.predict( X_train)\n",
        "  y_pred2= clf.predict( X_test)\n",
        "\n",
        "  print(f'training accuracy with C={c} is {accuracy_score(y_train,y_pred1)}')\n",
        "  print(f'testing accuracy with C={c} is {accuracy_score(y_test,y_pred2)}')\n",
        "  print('\\n')"
      ],
      "metadata": {
        "colab": {
          "base_uri": "https://localhost:8080/"
        },
        "id": "Py7dpkMdpW3j",
        "outputId": "a53683ac-b5c0-46d0-9c76-f64067edccff"
      },
      "execution_count": 25,
      "outputs": [
        {
          "output_type": "stream",
          "name": "stdout",
          "text": [
            "training accuracy with C=0.0001 is 0.6164596273291926\n",
            "testing accuracy with C=0.0001 is 0.5818840579710145\n",
            "\n",
            "\n",
            "training accuracy with C=0.001 is 0.6164596273291926\n",
            "testing accuracy with C=0.001 is 0.5818840579710145\n",
            "\n",
            "\n",
            "training accuracy with C=0.01 is 0.7990683229813664\n",
            "testing accuracy with C=0.01 is 0.7710144927536232\n",
            "\n",
            "\n",
            "training accuracy with C=0.1 is 0.8975155279503105\n",
            "testing accuracy with C=0.1 is 0.8724637681159421\n",
            "\n",
            "\n",
            "training accuracy with C=1 is 0.8785714285714286\n",
            "testing accuracy with C=1 is 0.8768115942028986\n",
            "\n",
            "\n",
            "training accuracy with C=10 is 0.846583850931677\n",
            "testing accuracy with C=10 is 0.8442028985507246\n",
            "\n",
            "\n",
            "training accuracy with C=100 is 0.8440993788819876\n",
            "testing accuracy with C=100 is 0.8384057971014492\n",
            "\n",
            "\n"
          ]
        }
      ]
    }
  ]
}